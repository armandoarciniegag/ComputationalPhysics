{
 "cells": [
  {
   "cell_type": "markdown",
   "metadata": {},
   "source": [
    "# Reposición Parcial 1 - Física Computacional\n",
    "## Arciniega Gutiérrez Armando Q."
   ]
  },
  {
   "cell_type": "markdown",
   "metadata": {},
   "source": [
    "### 1. Orden de aproximación"
   ]
  },
  {
   "cell_type": "markdown",
   "metadata": {},
   "source": [
    "$$\n",
    "\\frac{1}{1-h} = 1+h+h^2+h^3+O(h^4)\n",
    "$$\n",
    "$$\n",
    "\\cos(h) = 1- \\frac{h^2}{2!} + \\frac{h^4}{4!} + O(h^6)\n",
    "$$"
   ]
  },
  {
   "cell_type": "markdown",
   "metadata": {},
   "source": [
    "Determinar el orden de aproximación de:\n"
   ]
  },
  {
   "cell_type": "markdown",
   "metadata": {},
   "source": [
    "### i) $\\frac{1}{1-h} + \\cos(h)$ "
   ]
  },
  {
   "cell_type": "markdown",
   "metadata": {},
   "source": [
    "Usando las propiedades de la notación $O(f(n))$\n",
    "\n",
    "$\\frac{1}{1-h} + \\cos(h) = 1+h+h^2+h^3 + 1- \\frac{h^2}{2!} + \\frac{h^4}{4!} +O(h^4)+O(h^6)$"
   ]
  },
  {
   "cell_type": "markdown",
   "metadata": {},
   "source": [
    "$\\frac{1}{1-h} + \\cos(h) = 1+h+h^2+h^3 + 1- \\frac{h^2}{2!} + \\frac{h^4}{4!} +O(h^4 + h^6)$"
   ]
  },
  {
   "cell_type": "markdown",
   "metadata": {},
   "source": [
    "El orden de aproximación se reduce a:\n",
    "$O(h^4 + h^6) =O(h^6)$"
   ]
  },
  {
   "cell_type": "markdown",
   "metadata": {},
   "source": [
    "### ii) $\\frac{1}{1-h} \\cdot \\cos(h)$"
   ]
  },
  {
   "cell_type": "markdown",
   "metadata": {},
   "source": [
    "$\\frac{1}{1-h} \\cdot \\cos(h) = (1+h+h^2+h^3+O(h^4)) \\cdot (1- \\frac{h^2}{2!} + \\frac{h^4}{4!} + O(h^6))$"
   ]
  },
  {
   "cell_type": "markdown",
   "metadata": {},
   "source": [
    "El termino $O(h^4) \\cdot O(h^6)$ se puede ver como $O(h^4) \\cdot O(h^6) = O(h^4 \\cdot h^6) = O(h^{10})$ "
   ]
  },
  {
   "cell_type": "markdown",
   "metadata": {},
   "source": [
    "entonces el orden de aproximación se reduce a $O(h^{10})$ "
   ]
  },
  {
   "cell_type": "markdown",
   "metadata": {},
   "source": [
    "### 2. Si todos los coeficientes de f(x) son números redondeados, a cuántas sifras significativas esta f cuando se sabe que $x$ se redondea a $3.26$\n",
    "\n",
    "$$\n",
    "f(x) \\approx \\frac{5.03241x+0.11095}{0.75995x+0.014915}\n",
    "$$"
   ]
  },
  {
   "cell_type": "code",
   "execution_count": 254,
   "metadata": {},
   "outputs": [],
   "source": [
    "def f(x):\n",
    "    a=5.03241\n",
    "    b=0.11095\n",
    "    c=0.75995\n",
    "    d=0.014915\n",
    "    y=(a*x+b)/(c*x+b)\n",
    "    return y"
   ]
  },
  {
   "cell_type": "code",
   "execution_count": 255,
   "metadata": {},
   "outputs": [
    {
     "name": "stdout",
     "output_type": "stream",
     "text": [
      "6.3810421702782465\n"
     ]
    }
   ],
   "source": [
    "print(f(3.26))"
   ]
  },
  {
   "cell_type": "markdown",
   "metadata": {},
   "source": [
    "La multiplicacion de x por el valor redondeado se debe de dear con $2$ cifras significativas, ya que $x$ tiene dos cifras significativas. Después de efectuar las operaciones correspondientes, y usando las reglas de redondeo el valor de $f(3.26)$ también debe tener dos cifras significativas, así que \n",
    "\n",
    "$$\n",
    "f(3.26) \\approx 6.38\n",
    "$$"
   ]
  },
  {
   "cell_type": "markdown",
   "metadata": {},
   "source": [
    "### 3. La función $y=x^2-3x+e^x-2$ tiene dos raíces, una positiva y otra negativa. Hallar las raíces, dar el respectivo error."
   ]
  },
  {
   "cell_type": "code",
   "execution_count": 85,
   "metadata": {},
   "outputs": [
    {
     "data": {
      "image/png": "[encoded data removed]",
      "text/plain": [
       "<Figure size 432x288 with 1 Axes>"
      ]
     },
     "metadata": {
      "needs_background": "light"
     },
     "output_type": "display_data"
    }
   ],
   "source": [
    "#Primero graficamos la función f(x)=y\n",
    "import matplotlib.pyplot as plt\n",
    "import numpy as np\n",
    "x=arange(-2,2.5,0.01)\n",
    "plot(x,x**2-3*x+np.exp(x)-2)\n",
    "grid(True)"
   ]
  },
  {
   "cell_type": "markdown",
   "metadata": {},
   "source": [
    "Usaré el método de Newton ya que este tiene una mejor aproximación en menos pasos, además de que la derivada de esta función es una función \"suave\". Usando así como punto inicial $x_0=-1,2$"
   ]
  },
  {
   "cell_type": "code",
   "execution_count": 273,
   "metadata": {},
   "outputs": [],
   "source": [
    "#Newton\n",
    "def newton(g,dg,x,epsilon=1e-17):\n",
    "    dx=2*epsilon\n",
    "    contador =0\n",
    "    while dx> epsilon and contador<1000:\n",
    "        x1=x-g(x)/dg(x)\n",
    "        dx=abs(x-x1)\n",
    "        x=x1\n",
    "        contador=contador+1\n",
    "    return [x]"
   ]
  },
  {
   "cell_type": "code",
   "execution_count": 274,
   "metadata": {},
   "outputs": [],
   "source": [
    "def g(x):\n",
    "    return x**2-3*x+np.exp(x)-2\n",
    "def dg(x):\n",
    "    return 2*x-3+np.exp(x)"
   ]
  },
  {
   "cell_type": "code",
   "execution_count": 275,
   "metadata": {},
   "outputs": [
    {
     "name": "stdout",
     "output_type": "stream",
     "text": [
      "Primer raíz, x= -0.3902716861601088 Error= 5.551115123125783e-17\n",
      "Segunda raíz, x= 1.4462386859664267 Error= 0.0\n"
     ]
    }
   ],
   "source": [
    "print(\"Primer raíz, x=\",newton(g,dg,-1)[0], \"Error=\", abs(-0.39027168616010888398-newton(g,dg,-1)[0]) )\n",
    "print(\"Segunda raíz, x=\",newton(g,dg,2)[0], \"Error=\", abs(1.4462386859664265816-newton(g,dg,2)[0]) )"
   ]
  },
  {
   "cell_type": "markdown",
   "metadata": {},
   "source": [
    "El error fué comparado con la solución \"real\", tomada de Mathematica que tiene $20$ cifras significativas (python solo toma $16$). \n",
    "Este error numperico esta controlado por la tolerancia \"epsilon\" dada en la función \"newton\", esto acota la aproximación de las cifras significativas.\n",
    "El factor $e-17$  básicamente hace que la aproximación sea muy buena y que todas las cifras dadas de la aproximación de la raíz sean cifras significativas. El error en la segunda raíz $0.0$ dice que con la memoria de la computadora y la tolerancia de $1e-17$ basta para decir que esas 16 cifras son exactas a las reales. "
   ]
  },
  {
   "cell_type": "markdown",
   "metadata": {},
   "source": [
    "### 4.- Guerra de Métodos"
   ]
  },
  {
   "cell_type": "markdown",
   "metadata": {},
   "source": [
    "Definimos todas las funciones de todos los métodos vistos en clase"
   ]
  },
  {
   "cell_type": "code",
   "execution_count": 276,
   "metadata": {},
   "outputs": [],
   "source": [
    "def incremental(f,a,b,dx):\n",
    "    x0=a;f0=f(x0)\n",
    "    x1=x0+dx;f1=f(x1)\n",
    "    contador=0.0\n",
    "    while f0*f1>0.0:\n",
    "        if x1>=b: return ('No hay raíz en el intervalo seleccionado') \n",
    "        x0=x1;f0=f1\n",
    "        x1=x0+dx;f1=f(x1)\n",
    "        contador=contador+1\n",
    "    return [x1,contador]"
   ]
  },
  {
   "cell_type": "code",
   "execution_count": 9,
   "metadata": {},
   "outputs": [],
   "source": [
    "#Biseccion\n",
    "def biseccion(f,a,b,epsilon):\n",
    "    contador=0\n",
    "    dx=abs(b-a)\n",
    "    while dx>epsilon:\n",
    "        x=(a+b)/2.0\n",
    "        if (f(a)*f(x))<0:\n",
    "            b=x \n",
    "        else:\n",
    "            a=x \n",
    "        dx=abs(b-a) \n",
    "        contador=contador+1\n",
    "    return [x, contador]"
   ]
  },
  {
   "cell_type": "code",
   "execution_count": 284,
   "metadata": {},
   "outputs": [],
   "source": [
    "#Newton\n",
    "def newton(f,df,x,epsilon):\n",
    "    dx=2*epsilon\n",
    "    contador =0\n",
    "    while dx> epsilon and contador<1000:\n",
    "        x1=x-f(x)/df(x)\n",
    "        dx=abs(x-x1)\n",
    "        x=x1\n",
    "        contador=contador+1\n",
    "    return [x,contador]"
   ]
  },
  {
   "cell_type": "code",
   "execution_count": 131,
   "metadata": {},
   "outputs": [],
   "source": [
    "#Secante\n",
    "def secante(f, x0, x1, delta):\n",
    "    f0 = f(x0)\n",
    "    f1 = f(x1)\n",
    "    res = [[x0, f(x0), np.nan], \n",
    "           [x1, f(x1), x1 - x0],]\n",
    "    while True: \n",
    "        x2 = x1 - f1 * (x1 - x0) / (f1 - f0)\n",
    "        f2 = f(x2)\n",
    "        res.append([x2, f2, x2-x1])\n",
    "        if abs(f2) < delta:\n",
    "            break\n",
    "        f0 = f1\n",
    "        f1 = f2\n",
    "        x0 = x1\n",
    "        x1 = x2\n",
    "    return res"
   ]
  },
  {
   "cell_type": "code",
   "execution_count": 256,
   "metadata": {},
   "outputs": [],
   "source": [
    "#Ridders (Kiusalaas)\n",
    "def ridders(f,a,b,tol=1e-9):\n",
    "    contador=1\n",
    "    fa=f(a)\n",
    "    if fa==0: return [a,contador]\n",
    "    fb=f(b)\n",
    "    if fb==0: return [b,contador]\n",
    "    if fa*fb>0.0: return('No hay raíz en el intervalo seleccionado') \n",
    "    for i in range(30): \n",
    "        c=0.5*(a+b);fc=f(c) \n",
    "        s=sqrt(fc**2-fa*fb)\n",
    "    if s==0.0: return None\n",
    "    dx=(c-a)*fc/s\n",
    "    if(fa-fb)<0.0:dx=-dx \n",
    "    x=c+dx; fx=f(x)\n",
    "    x_vieja=x\n",
    "    if i>0:\n",
    "        if abs(x-x_vieja) < tol*max(abs(x),1.0): return [x,contador]\n",
    "    if fc*fx>0.0:\n",
    "        if fa*fx<0.0: b=x;fb=fx\n",
    "        else: a=x;fa=fx\n",
    "    else:\n",
    "        a=c;b=x;fa=fc;fb=fx\n",
    "    contador=contador+1\n",
    "    return None\n",
    "    print('Muchas iteraciones')\n"
   ]
  },
  {
   "cell_type": "markdown",
   "metadata": {},
   "source": [
    "$i)$ $f(x)=x^n-2$ con $n=1,2,3,4$"
   ]
  },
  {
   "cell_type": "code",
   "execution_count": 249,
   "metadata": {},
   "outputs": [
    {
     "data": {
      "image/png": "[encoded data removed]",
      "text/plain": [
       "<Figure size 432x288 with 1 Axes>"
      ]
     },
     "metadata": {
      "needs_background": "light"
     },
     "output_type": "display_data"
    }
   ],
   "source": [
    "from pylab import *\n",
    "x=arange(-1,1,0.01)\n",
    "s1=x-2\n",
    "s2=x**2-2\n",
    "s3=x**3-2\n",
    "s4=x**4-2\n",
    "plot(x,s1,s2)\n",
    "plot(x,s3,s4)\n",
    "legend(('$x-2$', '$x^2-2$','$x^3-2$','$x^4-2$',),loc='lower right')\n",
    "grid(True)"
   ]
  },
  {
   "cell_type": "code",
   "execution_count": 263,
   "metadata": {},
   "outputs": [
    {
     "name": "stdout",
     "output_type": "stream",
     "text": [
      "Incremental x= [2.00000000000927, 399999.0]\n",
      "Bisección x= [1.9999999981373549, 31]\n",
      "Newton x= [2.0]\n",
      "Secante x= 2.0\n",
      "Ridders x= [2, 1]\n",
      "Exacto x= 0\n"
     ]
    }
   ],
   "source": [
    "#n=1\n",
    "def f(x):\n",
    "    return x-2\n",
    "def df(x):\n",
    "    return 1\n",
    "print(\"Incremental x=\",incremental(f,-2,2,1e-5)) \n",
    "print(\"Bisección x=\",biseccion(f,-2,2,2e-9))\n",
    "print(\"Newton x=\",newton(f,df,2,1e-9))\n",
    "print(\"Secante x=\",secante(f,-2,2,1e-9)[2][0])\n",
    "print(\"Ridders x=\", ridders(f,-2,2))\n",
    "print(\"Exacto x=\", 0)"
   ]
  },
  {
   "cell_type": "code",
   "execution_count": 264,
   "metadata": {},
   "outputs": [
    {
     "name": "stdout",
     "output_type": "stream",
     "text": [
      "Incremental x= [1.4142200000008034, 131421.0]\n",
      "Bisección x= [1.4142135635949673, 30]\n",
      "Newton x= [1.4142135623730951]\n",
      "Secante x= 1.0476190476190477\n",
      "Ridders x= [1.4397571748553828, 1]\n",
      "Mathematica x= 1.4142135623730951\n"
     ]
    }
   ],
   "source": [
    "#n=2     Se tomo (0,2] ya que la otra raíz es simétrica\n",
    "def f(x):\n",
    "    return x**2-2\n",
    "def df(x):\n",
    "    return 2*x\n",
    "print(\"Incremental x=\",incremental(f,0.1,2,1e-5)) \n",
    "print(\"Bisección x=\",biseccion(f,0.1,2,2e-9))\n",
    "print(\"Newton x=\",newton(f,df,2,1e-9))\n",
    "print(\"Secante x=\",secante(f,0.1,2,1e-9)[2][0])\n",
    "print(\"Ridders x=\", ridders(f,0.1,2))\n",
    "print(\"Mathematica x=\", 1.4142135623730950488016887)"
   ]
  },
  {
   "cell_type": "code",
   "execution_count": 265,
   "metadata": {},
   "outputs": [
    {
     "name": "stdout",
     "output_type": "stream",
     "text": [
      "Incremental x= [1.2599300000109728, 425992.0]\n",
      "Bisección x= [0.9999999981373549, 30]\n",
      "Newton x= [1.2599210498948732]\n",
      "Secante x= 0.8888888888888888\n",
      "Ridders x= [0.8888888888888888, 1]\n",
      "Exacto x= 0\n"
     ]
    }
   ],
   "source": [
    "#n=3    Se tomo [-1.5,1.5] aunque en este caso, la raíz estan en x=0 y no se obtienen buenos resultados\n",
    "def f(x):\n",
    "    return (x**3)-2\n",
    "def df(x):\n",
    "    return 3*(x**2)\n",
    "print(\"Incremental x=\",incremental(f,-3,3,1e-5)) \n",
    "print(\"Bisección x=\",biseccion(f,-1,1,2e-9))\n",
    "print(\"Newton x=\",newton(f,df,1.5,1e-9))\n",
    "print(\"Secante x=\",secante(f,-1.5,1.5,1e-9)[2][0])\n",
    "print(\"Ridders x=\", ridders(f,-1.5,1.5))\n",
    "print(\"Exacto x=\", 0)"
   ]
  },
  {
   "cell_type": "code",
   "execution_count": 266,
   "metadata": {},
   "outputs": [
    {
     "name": "stdout",
     "output_type": "stream",
     "text": [
      "Incremental x= [1.1892100000012396, 18920.0]\n",
      "Bisección x= [1.1892071161419153, 28]\n",
      "Newton x= [1.189207115002721]\n",
      "Secante x= 1.123076923076923\n",
      "Ridders x= [1.1888569673725244, 1]\n",
      "Mathematica x= 1.189207115002721\n"
     ]
    }
   ],
   "source": [
    "#n=4   Se tomo [1,1.5] considerando que la otra raíz es simétrica y que las otras 2 raíces son complejeas,\n",
    "# x=2 en Newton para alocarnos un poco\n",
    "def f(x):\n",
    "    return (x**4)-2\n",
    "def df(x):\n",
    "    return 4*(x**3)\n",
    "print(\"Incremental x=\",incremental(f,1,1.5,1e-5)) \n",
    "print(\"Bisección x=\",biseccion(f,1,1.5,2e-9))\n",
    "print(\"Newton x=\",newton(f,df,2,1e-9))\n",
    "print(\"Secante x=\",secante(f,1,1.5,1e-9)[2][0])\n",
    "print(\"Ridders x=\", ridders(f,1,1.5))\n",
    "print(\"Mathematica x=\", 1.1892071150027210667175)"
   ]
  },
  {
   "cell_type": "markdown",
   "metadata": {},
   "source": [
    "#### Discusión\n",
    "Para estos casos se puede decir que el método de Ridders es de los más eficientes ya que obtiene la raíz con una tolerancia del orden de $1e-9$ en un solo paso!! Mientras que el método de \"Incremental Search\" con la misma tolerancia llega al valor pero en una cantidad de pasos mucho mayor. El método de Newton muere cuando $x=0$ así que esta batalla la gana el señor Ridders. "
   ]
  },
  {
   "cell_type": "markdown",
   "metadata": {},
   "source": [
    "$ii)$ $f(x)=5 \\sin(5x)$"
   ]
  },
  {
   "cell_type": "code",
   "execution_count": 267,
   "metadata": {},
   "outputs": [
    {
     "data": {
      "image/png": "[encoded data removed]",
      "text/plain": [
       "<Figure size 432x288 with 1 Axes>"
      ]
     },
     "metadata": {
      "needs_background": "light"
     },
     "output_type": "display_data"
    }
   ],
   "source": [
    "import matplotlib.pyplot as plt\n",
    "x=arange(-pi/2,pi/2,0.01)\n",
    "plot(x,5*sin(5*x))\n",
    "grid(True)"
   ]
  },
  {
   "cell_type": "markdown",
   "metadata": {},
   "source": [
    "Se toma sólo el intervalo $(0.5,0.8)$ para obtener la primer raíz a la \"derecha\" del cero, se probó con la raíz centrada en cero pero el método de Newton no daba resultados sensatos."
   ]
  },
  {
   "cell_type": "code",
   "execution_count": 269,
   "metadata": {},
   "outputs": [
    {
     "name": "stdout",
     "output_type": "stream",
     "text": [
      "Incremental x= [0.628319999999416, 12831.0]\n",
      "Bisección x= [0.6283185299485923, 28]\n",
      "Newton x= [0.6283185307179586, 5]\n",
      "Secante x= 0.6324762066743153\n",
      "Ridders x= [0.6261908049668996, 1]\n",
      "Mathematica x= 0.628318530717959\n"
     ]
    }
   ],
   "source": [
    "def f(x):\n",
    "    return 5*sin(5*x)\n",
    "def df(x):\n",
    "    return 25*cos(5*x)\n",
    "print(\"Incremental x=\",incremental(f,0.5,0.8,1e-5)) #Con 1e-8 el tiempo aumenta pero da mejores resultados con mas pasos\n",
    "print(\"Bisección x=\",biseccion(f,0.5,0.8,2e-9))\n",
    "print(\"Newton x=\",newton(f,df,0.8,1e-9))\n",
    "print(\"Secante x=\",secante(f,0.5,0.8,1e-9)[2][0])\n",
    "print(\"Ridders x=\", ridders(f,0.5,0.8))\n",
    "print(\"Mathematica x=\", 0.628318530717959 )\n"
   ]
  },
  {
   "cell_type": "markdown",
   "metadata": {},
   "source": [
    "#### Discusión \n",
    "Una vez más el método de Ridders parece poderoso, pero Newton con solo $5$ pasos obtiene un mejor resultado aunque ambos tienen la misma tolerancia de $1e-9$. El método de \"Incremental\" sigue usando muchos pasos y se le tiene que dar una menor tolerancia ya que el tiempo de computo aumenta bastante. Se planeaba calcular el tiempo de calculo, pero mi computadora tarda mucho en computar \"Incremental\" con esa tolerancia, aunque basta decir que el número de pasos es mucho mayor \"$12831$\" pasos. \n",
    "El señor Newton y su robin Raphson ganan esta batalla."
   ]
  },
  {
   "cell_type": "markdown",
   "metadata": {},
   "source": [
    "$iii)$ $f(x)=(\\cos(2x))^2-x^2$"
   ]
  },
  {
   "cell_type": "code",
   "execution_count": 28,
   "metadata": {
    "scrolled": true
   },
   "outputs": [
    {
     "data": {
      "image/png": "[encoded data removed]",
      "text/plain": [
       "<Figure size 432x288 with 1 Axes>"
      ]
     },
     "metadata": {
      "needs_background": "light"
     },
     "output_type": "display_data"
    }
   ],
   "source": [
    "x=arange(-pi/2,pi/2,0.001)\n",
    "plot(x,(cos(2*x))**2 - x**2)\n",
    "grid(True)"
   ]
  },
  {
   "cell_type": "markdown",
   "metadata": {},
   "source": [
    "En este caso se tomó el intervalo $[0,1]$ ya que la otra raíz es simétrica respecto al eje y. Y el punto inicial de Nweton $x_0 = 0.9$"
   ]
  },
  {
   "cell_type": "code",
   "execution_count": 272,
   "metadata": {},
   "outputs": [
    {
     "name": "stdout",
     "output_type": "stream",
     "text": [
      "Incremental x= [0.5149400000002913, 51493.0]\n",
      "Bisección x= [0.5149332638829947, 29]\n",
      "Newton x= [0.5149332646611294, 10]\n",
      "Secante x= 0.5473987634095687\n",
      "Ridders x= [0.5230299146852969, 1]\n",
      "Mathematica x= 0.5149332646611294\n"
     ]
    }
   ],
   "source": [
    "def f(x):\n",
    "    return (cos(2*x))**2 - x**2\n",
    "def df(x):\n",
    "    return -4*cos(2*x)*sin(2*x)-2*x\n",
    "print(\"Incremental x=\",incremental(f,0,1,1e-5))  \n",
    "print(\"Bisección x=\",biseccion(f,0,1,2e-9))\n",
    "print(\"Newton x=\",newton(f,df,0.9,1e-9))\n",
    "print(\"Secante x=\",secante(f,0,1,1e-9)[2][0])\n",
    "print(\"Ridders x=\", ridders(f,0,1))\n",
    "print(\"Mathematica x=\", 0.51493326466112941380)"
   ]
  },
  {
   "cell_type": "markdown",
   "metadata": {},
   "source": [
    "#### Discusión \n",
    "Una vez más el método de Newton obtiene un mejor resultado usando sólo $10$ pasos. Todos los métodos están dados con una tolerancia de $1e-9$. Mathematica ofrece una precisión de $20$ cifras significativas. Suficientes para decir que Newton ganó de nuevo. "
   ]
  },
  {
   "cell_type": "markdown",
   "metadata": {},
   "source": [
    "$iv)$ $f(x)=5(\\sqrt{|(x+2)|} -1 )$ "
   ]
  },
  {
   "cell_type": "code",
   "execution_count": 278,
   "metadata": {},
   "outputs": [
    {
     "data": {
      "image/png": "[encoded data removed]",
      "text/plain": [
       "<Figure size 432x288 with 1 Axes>"
      ]
     },
     "metadata": {
      "needs_background": "light"
     },
     "output_type": "display_data"
    }
   ],
   "source": [
    "x=arange(-4,4,0.001)  \n",
    "plot(x,  5*(sqrt(abs(x+2))-1))\n",
    "grid(True)"
   ]
  },
  {
   "cell_type": "markdown",
   "metadata": {},
   "source": [
    "En este caso se tomaron dos intervalos $[-3.5,-2.5]$ y $[-1.5,0.5]$ para obtener los dos valores de las raíces."
   ]
  },
  {
   "cell_type": "code",
   "execution_count": 290,
   "metadata": {},
   "outputs": [
    {
     "name": "stdout",
     "output_type": "stream",
     "text": [
      "Incremental x= [-2.9999999999967244, 49999.0]\n",
      "Bisección x= [-2.500000001862645, 29]\n",
      "Newton x= [-3.0, 2]\n",
      "Secante x= -3.065826248793698\n",
      "Ridders x= [-3.0, 1]\n",
      "Exacta x= -3\n"
     ]
    }
   ],
   "source": [
    "#Primer raíz [-3.5,3.5]\n",
    "def f(x):\n",
    "    return 5*(sqrt(abs(x+2))-1)\n",
    "def df(x): \n",
    "    return (5*(x+2))/(2+(abs(x+2))**(3/2) )\n",
    "print(\"Incremental x=\",incremental(f,-3.5,-2.5,1e-5))  \n",
    "print(\"Bisección x=\",biseccion(f,-3.5,-2.5,2e-9))\n",
    "print(\"Newton x=\",newton(f,df,-4,1e-9))\n",
    "print(\"Secante x=\",secante(f,-3.5,-2.5,1e-9)[2][0])\n",
    "print(\"Ridders x=\", ridders(f,-3.5,-2.5))\n",
    "print(\"Exacta x=\",-3 )"
   ]
  },
  {
   "cell_type": "code",
   "execution_count": 316,
   "metadata": {},
   "outputs": [
    {
     "name": "stdout",
     "output_type": "stream",
     "text": [
      "Incremental x= [-0.9999999999967245, 49999.0]\n",
      "Bisección x= [-0.9999999996274709, 29]\n",
      "Newton x= [-0.9999999998153802, 29]\n",
      "Secante x= -1.1160976018987716\n",
      "Ridders x= [-0.9844882801577125, 1]\n",
      "Exacta x= -1\n"
     ]
    }
   ],
   "source": [
    "#Segunda raíz [-1.5,0.5]\n",
    "def f(x):\n",
    "    return 5*(sqrt(abs(x+2))-1)\n",
    "def df(x): \n",
    "    return (5*(x+2))/(2+(abs(x+2))**(3/2) )\n",
    "print(\"Incremental x=\",incremental(f,-1.5,0.5,1e-5))  \n",
    "print(\"Bisección x=\",biseccion(f,-1.4,-0.4,2e-9))\n",
    "print(\"Newton x=\",newton(f,df,-1.5,1e-9))\n",
    "print(\"Secante x=\",secante(f,-0.5,0.3,1e-9)[2][0])\n",
    "print(\"Ridders x=\", ridders(f,-1.4,0.4))\n",
    "print(\"Exacta x=\",-1 )"
   ]
  },
  {
   "cell_type": "markdown",
   "metadata": {},
   "source": [
    "#### Discusión \n",
    "Incremental search sigue siendo buena opción pero usa muchos pasos para llegar a la solución, es por eso que es el rival más décil. Con la tolerancia de $1e-9$ el método de Newton una vez más gana este encuentro, aunque Ridders lo hace en un sólo paso, Newton tiene mayor precisión."
   ]
  },
  {
   "cell_type": "markdown",
   "metadata": {},
   "source": [
    "$v)$  $  f(x)= e^{-x} \\log(x)   $"
   ]
  },
  {
   "cell_type": "code",
   "execution_count": 295,
   "metadata": {
    "scrolled": true
   },
   "outputs": [
    {
     "data": {
      "image/png": "[encoded data removed]",
      "text/plain": [
       "<Figure size 432x288 with 1 Axes>"
      ]
     },
     "metadata": {
      "needs_background": "light"
     },
     "output_type": "display_data"
    }
   ],
   "source": [
    "import numpy as np\n",
    "x = np.linspace(0.5, 3, 1000, endpoint=True)\n",
    "C, S = x, np.exp(-x)*np.log(x)\n",
    "plt.plot(C,S)\n",
    "grid(True)"
   ]
  },
  {
   "cell_type": "markdown",
   "metadata": {},
   "source": [
    "Se usó el intervalo $[0.5,1.5]$ y para Newton se usó el punto inicial $x_0 = 1.4$. "
   ]
  },
  {
   "cell_type": "code",
   "execution_count": 317,
   "metadata": {},
   "outputs": [
    {
     "name": "stdout",
     "output_type": "stream",
     "text": [
      "Incremental x= [1.0000099999977246, 50000.0]\n",
      "Bisección x= [1.0000000001862643, 29]\n",
      "Newton x= [1.0, 8]\n",
      "Secante x= 1.2809878313246332\n",
      "Ridders x= [1.0, 1]\n",
      "Exacta x= 1\n"
     ]
    }
   ],
   "source": [
    "def f(x):\n",
    "    return np.log(x)/np.exp(x)\n",
    "def df(x): \n",
    "    return (np.exp(-x)*(1-x*np.log(x)))/x\n",
    "print(\"Incremental x=\",incremental(f,0.5,1.5,1e-5))  \n",
    "print(\"Bisección x=\",biseccion(f,0.5,1.2,2e-9))\n",
    "print(\"Newton x=\",newton(f,df,1.4,1e-9))\n",
    "print(\"Secante x=\",secante(f,0.4,1.4,1e-9)[2][0])\n",
    "print(\"Ridders x=\", ridders(f,0.5,1.5,1e-9))\n",
    "print(\"Exacta x=\",1 )"
   ]
  },
  {
   "cell_type": "markdown",
   "metadata": {},
   "source": [
    "#### Discusión \n",
    "Ya que todos los métodos tienen una tolerancia de $1e-9$ con excepción del método \"Incremental\" que tiene $1e-5$. El método del señor Ridders vuelve a ganar la batalla ya que obtiene el valor exacto de la raíz en un solo paso. "
   ]
  },
  {
   "cell_type": "markdown",
   "metadata": {},
   "source": [
    "$vi)$  $f(x)=(x-1)^3$  "
   ]
  },
  {
   "cell_type": "code",
   "execution_count": 22,
   "metadata": {},
   "outputs": [
    {
     "data": {
      "image/png": "[encoded data removed]",
      "text/plain": [
       "<Figure size 432x288 with 1 Axes>"
      ]
     },
     "metadata": {
      "needs_background": "light"
     },
     "output_type": "display_data"
    }
   ],
   "source": [
    "x=arange(-1,3,0.001)  #\n",
    "plot(x, (x-1)**3 )\n",
    "grid(True)"
   ]
  },
  {
   "cell_type": "markdown",
   "metadata": {},
   "source": [
    "Se tomó el intervalo $[0.5,1.5]$ y el punto inicial de Newton $x_0= 0.5$"
   ]
  },
  {
   "cell_type": "code",
   "execution_count": 318,
   "metadata": {},
   "outputs": [
    {
     "name": "stdout",
     "output_type": "stream",
     "text": [
      "Incremental x= [1.0000099999977246, 50000.0]\n",
      "Bisección x= [1.4999999981373549, 29]\n",
      "Newton x= [0.9999999866018182, 43]\n",
      "Secante x= 1.0\n",
      "Ridders x= [1.0, 1]\n",
      "Exacta x= 1.0\n"
     ]
    }
   ],
   "source": [
    "def f(x):\n",
    "    return (x-1)**3\n",
    "def df(x): \n",
    "    return 3*(x-1)**2\n",
    "print(\"Incremental x=\",incremental(f,0.5,1.5,1e-5))  \n",
    "print(\"Bisección x=\",biseccion(f,0.5,1.5,2e-9))\n",
    "print(\"Newton x=\",newton(f,df,0.5,1e-8))\n",
    "print(\"Secante x=\",secante(f,0.5,1.5,1e-9)[2][0])\n",
    "print(\"Ridders x=\", ridders(f,0.5,1.5))\n",
    "print(\"Exacta x=\",1.0 )"
   ]
  },
  {
   "cell_type": "markdown",
   "metadata": {},
   "source": [
    "#### Discusión\n",
    "Ridders gana porque obtiene la solución exacta en un único paso. Newton es prometedor pero usa más pasos para una solución buena pero no exacta como la de Ridders. "
   ]
  },
  {
   "cell_type": "markdown",
   "metadata": {},
   "source": [
    "$vii)$ $f(x)=x^{25}$"
   ]
  },
  {
   "cell_type": "code",
   "execution_count": 23,
   "metadata": {},
   "outputs": [
    {
     "data": {
      "image/png": "[encoded data removed]",
      "text/plain": [
       "<Figure size 432x288 with 1 Axes>"
      ]
     },
     "metadata": {
      "needs_background": "light"
     },
     "output_type": "display_data"
    }
   ],
   "source": [
    "x=arange(-2,2,0.001)  #\n",
    "plot(x, x**(25) )\n",
    "grid(True)"
   ]
  },
  {
   "cell_type": "markdown",
   "metadata": {},
   "source": [
    "Se tomó el intervalo $[-0.5,0.5]$ y el punto inicial de Newton $x_0=1$, para \"incremental\" se tomó $[-1.8,1.8]$ que es donde se aprecia el cambio de signo. \n",
    "En este caso el método de Newton falla ya que la raíz está en $x=0$ y en esos casos sabemos que Newton no es confiable."
   ]
  },
  {
   "cell_type": "code",
   "execution_count": 315,
   "metadata": {},
   "outputs": [
    {
     "name": "stdout",
     "output_type": "stream",
     "text": [
      "Incremental x = [-1.8196926712850392e-13, 17999.0]\n",
      "Bisección x = [0.3999999985098839, 29]\n",
      "Newton x = [2.378324799169387e-08, 447]\n",
      "Secante x = 0.0\n",
      "Ridders x = [0.0, 1]\n",
      "Exacta x = 0\n"
     ]
    }
   ],
   "source": [
    "def f(x):\n",
    "    return (x**(25))\n",
    "def df(x): \n",
    "    return 25*(x**(24))\n",
    "print(\"Incremental x =\",incremental(f,-1.8,1.8,1e-4))  \n",
    "print(\"Bisección x =\",biseccion(f,-0.4,0.4,2e-9))\n",
    "print(\"Newton x =\",newton(f,df,2,1e-9))\n",
    "print(\"Secante x =\",secante(f,-0.5,0.5,1e-9)[2][0])\n",
    "print(\"Ridders x =\", ridders(f,-0.5,0.5,1e-9))\n",
    "print(\"Exacta x =\",0 )\n"
   ]
  },
  {
   "cell_type": "markdown",
   "metadata": {},
   "source": [
    "#### Discusión \n",
    "En este caso como la solución esta en $x=0$ el método de Newton acierta en el sentido que da \"cero\", esto sucede porque la derivada es bastante suave pero ocupa muchos más pasos para llegar. \n",
    "El método de la secante y el método de Ridders ganan este encuentro al llegar a la solución exacta. Es de notar que el método Bisección es muy inestable. "
   ]
  }
 ],
 "metadata": {
  "kernelspec": {
   "display_name": "Python 3",
   "language": "python",
   "name": "python3"
  },
  "language_info": {
   "codemirror_mode": {
    "name": "ipython",
    "version": 3
   },
   "file_extension": ".py",
   "mimetype": "text/x-python",
   "name": "python",
   "nbconvert_exporter": "python",
   "pygments_lexer": "ipython3",
   "version": "3.7.6"
  }
 },
 "nbformat": 4,
 "nbformat_minor": 4
}
