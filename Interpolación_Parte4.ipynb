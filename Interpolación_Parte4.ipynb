{
 "cells": [
  {
   "cell_type": "markdown",
   "metadata": {},
   "source": [
    "# Interpolación, lo último de lo último...."
   ]
  },
  {
   "cell_type": "code",
   "execution_count": 1,
   "metadata": {},
   "outputs": [],
   "source": [
    "%matplotlib inline\n",
    "\n",
    "import matplotlib.pyplot as plt"
   ]
  },
  {
   "cell_type": "markdown",
   "metadata": {},
   "source": [
    "### Ejercicio 1 (Lagrange)\n",
    "Sea $f(x)=2\\sin(\\pi x/6)$ (con el ángulo medido ern radianes):\n",
    "1. Use el polinomio interpolador de Lagrange cuadrático con nodos $x_0=0,x_1=1 y x_2=3$ para aproximar f(2) y f(2.4)\n",
    "2. Use el polinomio interpolador de Lagrange cuadrático con nodos $x_0=0,x_1=1 y x_2=5$ para aproximar f(2) y f(2.4)\n",
    "3. Use el polinomio interpolador de Lagrange cuadrático con nodos $x_0=0,x_1=1 y x_2=3$ para aproximar f(4) y f(3.5)\n",
    "4. Use el polinomio interpolador de Lagrange cúbico con nodos $x_0=0,x_1=1 y x_2=5$ para aproximar f(4) y f(3.5)"
   ]
  },
  {
   "cell_type": "code",
   "execution_count": 2,
   "metadata": {},
   "outputs": [],
   "source": [
    "import numpy as np\n",
    "def interp_cuadr(x, p0, p1, p2):\n",
    "    x0, y0 = p0\n",
    "    x1, y1 = p1\n",
    "    x2, y2 = p2\n",
    "    \n",
    "    return y0*((x-x1)*(x-x2)/((x0-x1)*(x0-x2)))+y1*((x-x0)*(x-x2)/((x1-x0)*(x1-x2)))+y2*((x-x1)*(x-x0)/((x2-x0)*(x2-x1)))#formula de interpolacion cuadratica"
   ]
  },
  {
   "cell_type": "markdown",
   "metadata": {},
   "source": [
    "$f(x)$ interpolada con el primer conjunto de nodos"
   ]
  },
  {
   "cell_type": "code",
   "execution_count": 18,
   "metadata": {},
   "outputs": [
    {
     "name": "stdout",
     "output_type": "stream",
     "text": [
      "Aproximación de f(2) por interpolación cuadrática\n",
      "f(x) interpolada = 2.0246299991569625\n",
      "f(x) real =  1.7320508075688772\n",
      "Error =   -0.2925791915880853\n"
     ]
    }
   ],
   "source": [
    "a=np.pi/6\n",
    "\n",
    "X = [0, 1, 3]\n",
    "X2 = [0,1*a,3*a]\n",
    "Y2 = 2*np.sin(X2)\n",
    "Points = list(zip(X2,Y2)) \n",
    "\n",
    "yinterpolada = interp_cuadr(2, Points[2], Points[1], Points[0])\n",
    "\"{:.4}, {:.4}, error = {:.4e}\".format(yinterpolada, 2*(np.sin(np.pi*(2/6))), 2*(np.sin(np.pi*(2/6))) - yinterpolada)\n",
    "print('Aproximación de f(2) por interpolación cuadrática')\n",
    "print('f(x) interpolada =',yinterpolada) \n",
    "print('f(x) real = ',2*(np.sin(np.pi*(2/6))))\n",
    "print('Error =  ', 2*(np.sin(np.pi*(2/6))) - yinterpolada)"
   ]
  },
  {
   "cell_type": "code",
   "execution_count": 16,
   "metadata": {},
   "outputs": [
    {
     "name": "stdout",
     "output_type": "stream",
     "text": [
      "Aproximación de f(2.4) por interpolación cuadrática\n",
      "f(x) interpolada = 2.0246299991569625\n",
      "f(x) real =  1.902113032590307\n",
      "Error =   -0.12251696656665545\n"
     ]
    }
   ],
   "source": [
    "yinterpolada = interp_cuadr(2, Points[2], Points[1], Points[0])\n",
    "\"{:.4}, {:.4}, error = {:.4e}\".format(yinterpolada, 2*(np.sin(np.pi*(2.4/6))), 2*(np.sin(np.pi*(2.4/6))) - yinterpolada)\n",
    "print('Aproximación de f(2.4) por interpolación cuadrática')\n",
    "print('f(x) interpolada =',yinterpolada) \n",
    "print('f(x) real = ',2*(np.sin(np.pi*(2.4/6))))\n",
    "print('Error =  ', 2*(np.sin(np.pi*(2.4/6))) - yinterpolada)"
   ]
  },
  {
   "cell_type": "code",
   "execution_count": null,
   "metadata": {},
   "outputs": [],
   "source": []
  },
  {
   "cell_type": "code",
   "execution_count": null,
   "metadata": {},
   "outputs": [],
   "source": []
  },
  {
   "cell_type": "code",
   "execution_count": null,
   "metadata": {},
   "outputs": [],
   "source": []
  },
  {
   "cell_type": "code",
   "execution_count": 3,
   "metadata": {},
   "outputs": [
    {
     "name": "stdout",
     "output_type": "stream",
     "text": [
      "[(0, 0.0), (0.5235987755982988, 0.9999999999999999), (1.5707963267948966, 2.0), (2.617993877991494, 1.0000000000000007)]\n"
     ]
    },
    {
     "ename": "ZeroDivisionError",
     "evalue": "float division by zero",
     "output_type": "error",
     "traceback": [
      "\u001b[1;31m---------------------------------------------------------------------------\u001b[0m",
      "\u001b[1;31mZeroDivisionError\u001b[0m                         Traceback (most recent call last)",
      "\u001b[1;32m<ipython-input-3-47f8ff29934f>\u001b[0m in \u001b[0;36m<module>\u001b[1;34m\u001b[0m\n\u001b[0;32m     22\u001b[0m \u001b[1;33m\u001b[0m\u001b[0m\n\u001b[0;32m     23\u001b[0m \u001b[0mprint\u001b[0m\u001b[1;33m(\u001b[0m\u001b[0mPoints\u001b[0m\u001b[1;33m)\u001b[0m\u001b[1;33m\u001b[0m\u001b[1;33m\u001b[0m\u001b[0m\n\u001b[1;32m---> 24\u001b[1;33m \u001b[0myinterpolada\u001b[0m \u001b[1;33m=\u001b[0m \u001b[0minterp_cubic\u001b[0m\u001b[1;33m(\u001b[0m\u001b[1;36m4\u001b[0m\u001b[1;33m,\u001b[0m \u001b[0mPoints\u001b[0m\u001b[1;33m[\u001b[0m\u001b[1;36m1\u001b[0m\u001b[1;33m]\u001b[0m\u001b[1;33m,\u001b[0m \u001b[0mPoints\u001b[0m\u001b[1;33m[\u001b[0m\u001b[1;36m0\u001b[0m\u001b[1;33m]\u001b[0m\u001b[1;33m,\u001b[0m \u001b[0mPoints\u001b[0m\u001b[1;33m[\u001b[0m\u001b[1;36m1\u001b[0m\u001b[1;33m]\u001b[0m\u001b[1;33m,\u001b[0m \u001b[0mPoints\u001b[0m\u001b[1;33m[\u001b[0m\u001b[1;36m3\u001b[0m\u001b[1;33m]\u001b[0m\u001b[1;33m)\u001b[0m\u001b[1;33m\u001b[0m\u001b[1;33m\u001b[0m\u001b[0m\n\u001b[0m\u001b[0;32m     25\u001b[0m \u001b[1;31m#\"{:.4}, {:.4}, error = {:.4e}\".format(yinterpolada, 2*(np.sin(np.pi*(4/6))), 2*(np.sin(np.pi*(4/6))) - yinterpolada)\u001b[0m\u001b[1;33m\u001b[0m\u001b[1;33m\u001b[0m\u001b[1;33m\u001b[0m\u001b[0m\n\u001b[0;32m     26\u001b[0m \u001b[0mprint\u001b[0m\u001b[1;33m(\u001b[0m\u001b[1;34m'Aproximación de f(2.4) por interpolación cuadrática'\u001b[0m\u001b[1;33m)\u001b[0m\u001b[1;33m\u001b[0m\u001b[1;33m\u001b[0m\u001b[0m\n",
      "\u001b[1;32m<ipython-input-3-47f8ff29934f>\u001b[0m in \u001b[0;36minterp_cubic\u001b[1;34m(x, p0, p1, p2, p3)\u001b[0m\n\u001b[0;32m      5\u001b[0m     \u001b[0mx3\u001b[0m\u001b[1;33m,\u001b[0m \u001b[0my3\u001b[0m \u001b[1;33m=\u001b[0m \u001b[0mp2\u001b[0m\u001b[1;33m\u001b[0m\u001b[1;33m\u001b[0m\u001b[0m\n\u001b[0;32m      6\u001b[0m \u001b[1;33m\u001b[0m\u001b[0m\n\u001b[1;32m----> 7\u001b[1;33m     \u001b[0mA\u001b[0m\u001b[1;33m=\u001b[0m\u001b[1;33m(\u001b[0m\u001b[1;33m(\u001b[0m\u001b[0mx\u001b[0m\u001b[1;33m-\u001b[0m\u001b[0mx1\u001b[0m\u001b[1;33m)\u001b[0m\u001b[1;33m*\u001b[0m\u001b[1;33m(\u001b[0m\u001b[0mx\u001b[0m\u001b[1;33m-\u001b[0m\u001b[0mx2\u001b[0m\u001b[1;33m)\u001b[0m\u001b[1;33m*\u001b[0m\u001b[1;33m(\u001b[0m\u001b[0mx\u001b[0m\u001b[1;33m-\u001b[0m\u001b[0mx3\u001b[0m\u001b[1;33m)\u001b[0m\u001b[1;33m)\u001b[0m\u001b[1;33m/\u001b[0m\u001b[1;33m(\u001b[0m\u001b[1;33m(\u001b[0m\u001b[0mx0\u001b[0m\u001b[1;33m-\u001b[0m\u001b[0mx1\u001b[0m\u001b[1;33m)\u001b[0m\u001b[1;33m*\u001b[0m\u001b[1;33m(\u001b[0m\u001b[0mx0\u001b[0m\u001b[1;33m-\u001b[0m\u001b[0mx2\u001b[0m\u001b[1;33m)\u001b[0m\u001b[1;33m*\u001b[0m\u001b[1;33m(\u001b[0m\u001b[0mx0\u001b[0m\u001b[1;33m-\u001b[0m\u001b[0mx3\u001b[0m\u001b[1;33m)\u001b[0m\u001b[1;33m)\u001b[0m\u001b[1;33m\u001b[0m\u001b[1;33m\u001b[0m\u001b[0m\n\u001b[0m\u001b[0;32m      8\u001b[0m     \u001b[0mB\u001b[0m\u001b[1;33m=\u001b[0m\u001b[1;33m(\u001b[0m\u001b[1;33m(\u001b[0m\u001b[0mx\u001b[0m\u001b[1;33m-\u001b[0m\u001b[0mx0\u001b[0m\u001b[1;33m)\u001b[0m\u001b[1;33m*\u001b[0m\u001b[1;33m(\u001b[0m\u001b[0mx\u001b[0m\u001b[1;33m-\u001b[0m\u001b[0mx2\u001b[0m\u001b[1;33m)\u001b[0m\u001b[1;33m*\u001b[0m\u001b[1;33m(\u001b[0m\u001b[0mx\u001b[0m\u001b[1;33m-\u001b[0m\u001b[0mx3\u001b[0m\u001b[1;33m)\u001b[0m\u001b[1;33m)\u001b[0m\u001b[1;33m/\u001b[0m\u001b[1;33m(\u001b[0m\u001b[1;33m(\u001b[0m\u001b[0mx1\u001b[0m\u001b[1;33m-\u001b[0m\u001b[0mx0\u001b[0m\u001b[1;33m)\u001b[0m\u001b[1;33m*\u001b[0m\u001b[1;33m(\u001b[0m\u001b[0mx1\u001b[0m\u001b[1;33m-\u001b[0m\u001b[0mx2\u001b[0m\u001b[1;33m)\u001b[0m\u001b[1;33m*\u001b[0m\u001b[1;33m(\u001b[0m\u001b[0mx1\u001b[0m\u001b[1;33m-\u001b[0m\u001b[0mx3\u001b[0m\u001b[1;33m)\u001b[0m\u001b[1;33m)\u001b[0m\u001b[1;33m\u001b[0m\u001b[1;33m\u001b[0m\u001b[0m\n\u001b[0;32m      9\u001b[0m     \u001b[0mC\u001b[0m\u001b[1;33m=\u001b[0m\u001b[1;33m(\u001b[0m\u001b[1;33m(\u001b[0m\u001b[0mx\u001b[0m\u001b[1;33m-\u001b[0m\u001b[0mx0\u001b[0m\u001b[1;33m)\u001b[0m\u001b[1;33m*\u001b[0m\u001b[1;33m(\u001b[0m\u001b[0mx\u001b[0m\u001b[1;33m-\u001b[0m\u001b[0mx1\u001b[0m\u001b[1;33m)\u001b[0m\u001b[1;33m*\u001b[0m\u001b[1;33m(\u001b[0m\u001b[0mx\u001b[0m\u001b[1;33m-\u001b[0m\u001b[0mx3\u001b[0m\u001b[1;33m)\u001b[0m\u001b[1;33m)\u001b[0m\u001b[1;33m/\u001b[0m\u001b[1;33m(\u001b[0m\u001b[1;33m(\u001b[0m\u001b[0mx2\u001b[0m\u001b[1;33m-\u001b[0m\u001b[0mx0\u001b[0m\u001b[1;33m)\u001b[0m\u001b[1;33m*\u001b[0m\u001b[1;33m(\u001b[0m\u001b[0mx2\u001b[0m\u001b[1;33m-\u001b[0m\u001b[0mx1\u001b[0m\u001b[1;33m)\u001b[0m\u001b[1;33m*\u001b[0m\u001b[1;33m(\u001b[0m\u001b[0mx2\u001b[0m\u001b[1;33m-\u001b[0m\u001b[0mx3\u001b[0m\u001b[1;33m)\u001b[0m\u001b[1;33m)\u001b[0m\u001b[1;33m\u001b[0m\u001b[1;33m\u001b[0m\u001b[0m\n",
      "\u001b[1;31mZeroDivisionError\u001b[0m: float division by zero"
     ]
    }
   ],
   "source": [
    "def interp_cubic(x, p0, p1, p2, p3):\n",
    "    x0, y0 = p0\n",
    "    x1, y1 = p1\n",
    "    x2, y2 = p2\n",
    "    x3, y3 = p2\n",
    "    \n",
    "    A=((x-x1)*(x-x2)*(x-x3))/((x0-x1)*(x0-x2)*(x0-x3))\n",
    "    B=((x-x0)*(x-x2)*(x-x3))/((x1-x0)*(x1-x2)*(x1-x3))\n",
    "    C=((x-x0)*(x-x1)*(x-x3))/((x2-x0)*(x2-x1)*(x2-x3))\n",
    "    D=((x-x0)*(x-x1)*(x-x2))/((x3-x0)*(x3-x1)*(x3-x2))\n",
    "    \n",
    "    \n",
    "    return y0*A+y1*B+y2*C+y3*D\n",
    "        \n",
    "\n",
    "a=np.pi/6\n",
    "\n",
    "X = [0, 1, 3, 5]\n",
    "X2 = [0,1*a,3*a,5*a]\n",
    "Y2 = 2*np.sin(X2)\n",
    "Points = list(zip(X2,Y2))\n",
    "        \n",
    "print(Points)\n",
    "yinterpolada = interp_cubic(4, Points[1], Points[0], Points[1], Points[3])\n",
    "#\"{:.4}, {:.4}, error = {:.4e}\".format(yinterpolada, 2*(np.sin(np.pi*(4/6))), 2*(np.sin(np.pi*(4/6))) - yinterpolada)\n",
    "print('Aproximación de f(2.4) por interpolación cuadrática')\n",
    "print('f(x) interpolada =',yinterpolada) \n",
    "print('f(x) real = ',2*(np.sin(np.pi*(4/6))))\n",
    "print('Error =  ', 2*(np.sin(np.pi*(4/6))) - yinterpolada)"
   ]
  },
  {
   "cell_type": "code",
   "execution_count": null,
   "metadata": {},
   "outputs": [],
   "source": []
  },
  {
   "cell_type": "code",
   "execution_count": null,
   "metadata": {},
   "outputs": [],
   "source": []
  },
  {
   "cell_type": "code",
   "execution_count": null,
   "metadata": {},
   "outputs": [],
   "source": []
  },
  {
   "cell_type": "markdown",
   "metadata": {},
   "source": [
    "### Ejercicio 2 (Newton)\n",
    "\n",
    "Use los centros $x_0=-3, x_1=-1, x_2=1, x_3=4$ y $x_4=2$ y los coeficientes $a_0=-2, a_1=4, a2=-0.04, a_3=0.06, a_4=0.005$ para hallar los polinomios interpoladores de Newton $P_1(x), P_1(x), P_1(x)$ y $P_1(x)$ y calcule los valores de estos polinomios en $x=2$"
   ]
  },
  {
   "cell_type": "code",
   "execution_count": null,
   "metadata": {},
   "outputs": [],
   "source": []
  },
  {
   "cell_type": "code",
   "execution_count": null,
   "metadata": {},
   "outputs": [],
   "source": []
  },
  {
   "cell_type": "markdown",
   "metadata": {},
   "source": [
    "# Interpolación mediante polinomio\n",
    "\n",
    "Si tenemos $N$ puntos, el polinomio generado por estos puntos será de orden menor o igual a $N-1$, pero cuando $N$ empieza a ser grande (10<=N) puede ocurrir, si no escogemos muy cuidadosamente lo puntos, que oscilen salvajemente. Esto se conoce como fenómeno de Runge.\n",
    "\n",
    "Sea \n",
    "$$ f(x)=\\frac{1}{1+x^2}$$"
   ]
  },
  {
   "cell_type": "markdown",
   "metadata": {},
   "source": [
    "Interpolemos con nodos equidistantes, usando el método de interpolación baricéntrica o interpolación polinómica, el cuál recibe la variable a evaluar el polinomio y los nodos, con sus respectivos $x$ y $y$."
   ]
  },
  {
   "cell_type": "code",
   "execution_count": 2,
   "metadata": {},
   "outputs": [
    {
     "data": {
      "image/png": "[encoded data removed]",
      "text/plain": [
       "<Figure size 432x288 with 1 Axes>"
      ]
     },
     "metadata": {},
     "output_type": "display_data"
    }
   ],
   "source": [
    "import numpy as np\n",
    "from scipy.interpolate import barycentric_interpolate\n",
    "def runge(x):\n",
    "    \"\"\"Función de Runge.\"\"\"\n",
    "    return 1 / (1 + x ** 2)\n",
    "N = 11  # Nodos de interpolación\n",
    "xp = np.arange(11) - 5  # -5, -4, -3, ..., 3, 4, 5\n",
    "fp = runge(xp)\n",
    "x = np.linspace(-5, 5)\n",
    "y = barycentric_interpolate(xp, fp, x)\n",
    "\n",
    "\n",
    "l,= plt.plot(x, y)\n",
    "plt.plot(x, runge(x), '--g')\n",
    "plt.plot(xp, fp, 'o',color='green')\n",
    "leg = plt.legend(['Interpolación', 'Real'])"
   ]
  },
  {
   "cell_type": "markdown",
   "metadata": {},
   "source": [
    "Una manera fácil de solucionar esto, es escoger \"cuidadosamente\" puntos. El mejor truco para esto es usar las raíces de los polinomios de Chebyshev. Para tener 11 nodos, usamos un polinomio de Chebyshev de grado 11.\n",
    "\n",
    "Un polinomio de Chebyshev de cualquier tipo de grado $N$ tiene $N$ raíces simples distintas, llamadas nodos de Chebyshev, en el intervalo $[-1,1]$. Usando:\n",
    "\n",
    "$$\n",
    "T_n(\\cos \\theta)= \\cos (n\\theta)\n",
    "$$\n",
    "\n",
    "$$\n",
    "\\cos\\left(\\frac{\\pi}{2}(2k+1)\\right)=0\n",
    "$$\n",
    "\n",
    "con raíces:\n",
    "\n",
    "$$\n",
    "x_k=\\cos \\left( \\frac{\\pi}{2}\\frac{2k-1}{n} \\right)\n",
    "$$\n",
    "\n",
    "con $k=1,2,\\cdots,n$"
   ]
  },
  {
   "cell_type": "code",
   "execution_count": 3,
   "metadata": {},
   "outputs": [
    {
     "name": "stdout",
     "output_type": "stream",
     "text": [
      "[-4.94910721e+00 -4.54815998e+00 -3.77874787e+00 -2.70320409e+00\n",
      " -1.40866278e+00 -1.34623782e-15  1.40866278e+00  2.70320409e+00\n",
      "  3.77874787e+00  4.54815998e+00  4.94910721e+00]\n"
     ]
    }
   ],
   "source": [
    "from numpy.polynomial import chebyshev\n",
    "coeffs_cheb = [0] * 11 + [1]  # Solo queremos el elemento 11 de la serie\n",
    "T11 = chebyshev.Chebyshev(coeffs_cheb, [-5, 5])\n",
    "xp_ch = T11.roots()\n",
    "# -4.949, -4.548, -3.779, -2.703, ..., 4.548, 4.949 Raíces de los polinomios de Chebyschev\n",
    "print(xp_ch)"
   ]
  },
  {
   "cell_type": "code",
   "execution_count": 4,
   "metadata": {},
   "outputs": [
    {
     "data": {
      "image/png": "[encoded data removed]",
      "text/plain": [
       "<Figure size 720x288 with 2 Axes>"
      ]
     },
     "metadata": {},
     "output_type": "display_data"
    }
   ],
   "source": [
    "from numpy.polynomial import chebyshev\n",
    "\n",
    "xp = np.arange(11) - 5  # -5, -4, -3, ..., 3, 4, 5\n",
    "fp = runge(xp)\n",
    "x = np.linspace(-5, 5)\n",
    "y = barycentric_interpolate(xp, fp, x)\n",
    "\n",
    "coeffs_cheb = [0] *11 + [1]\n",
    "T11 = chebyshev.Chebyshev(coeffs_cheb, [-5, 5])\n",
    "\n",
    "xp_ch = T11.roots()\n",
    "fp_ch = runge(xp_ch)\n",
    "\n",
    "y_ch = barycentric_interpolate(xp_ch, fp_ch, x)\n",
    "\n",
    "fig, (ax1, ax2) = plt.subplots(1, 2, figsize=(10, 4))\n",
    "\n",
    "l1, = ax1.plot(x, y)\n",
    "ax1.plot(x, runge(x), '--g')\n",
    "ax1.plot(xp, fp, 'o', color='green')\n",
    "ax1.set_title(\"Nodos equidistantes\")\n",
    "leg1 = ax1.legend(['Interpolación', 'Real'])\n",
    "\n",
    "\n",
    "l2, = ax2.plot(x, y_ch)\n",
    "ax2.plot(x, runge(x), '--g')\n",
    "ax2.plot(xp_ch, fp_ch, 'og')\n",
    "ax2.set_ylim(ax1.get_ylim())\n",
    "ax2.set_title(\"Nodos de Chebyshev\")\n",
    "leg2 = ax2.legend(['Interpolación', 'Real'])"
   ]
  },
  {
   "cell_type": "markdown",
   "metadata": {},
   "source": [
    "En este Notebook usamos la función barycentric_interpolate. Intenta hacer tu propio código de la función baricéntrica. "
   ]
  },
  {
   "cell_type": "code",
   "execution_count": 7,
   "metadata": {},
   "outputs": [],
   "source": [
    "#Aquí va tu función."
   ]
  },
  {
   "cell_type": "code",
   "execution_count": null,
   "metadata": {},
   "outputs": [],
   "source": []
  }
 ],
 "metadata": {
  "kernelspec": {
   "display_name": "Python 3",
   "language": "python",
   "name": "python3"
  },
  "language_info": {
   "codemirror_mode": {
    "name": "ipython",
    "version": 3
   },
   "file_extension": ".py",
   "mimetype": "text/x-python",
   "name": "python",
   "nbconvert_exporter": "python",
   "pygments_lexer": "ipython3",
   "version": "3.7.6"
  }
 },
 "nbformat": 4,
 "nbformat_minor": 2
}
