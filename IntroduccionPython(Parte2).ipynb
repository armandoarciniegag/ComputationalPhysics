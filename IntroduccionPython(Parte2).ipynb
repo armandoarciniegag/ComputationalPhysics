{
 "cells": [
  {
   "cell_type": "markdown",
   "metadata": {},
   "source": [
    "# Introducción a Python (Parte 2)"
   ]
  },
  {
   "cell_type": "markdown",
   "metadata": {},
   "source": [
    "La clase pasada, hicimos un código que hace la suma de Gauss. Hicimos una lista que guarda los primeros 100 elementos de la sumatoria $$\\sum_{i=0}^{100} i$$"
   ]
  },
  {
   "cell_type": "code",
   "execution_count": 1,
   "metadata": {},
   "outputs": [],
   "source": [
    "lista=[]\n",
    "suma=0.0\n",
    "for i in range(0,101):\n",
    "    suma=suma+i\n",
    "    lista.append(suma)\n",
    "print(lista)"
   ]
  },
  {
   "cell_type": "markdown",
   "metadata": {},
   "source": [
    "¿Cómo podemos modificar el Código para tener el factorial de un número?"
   ]
  },
  {
   "cell_type": "code",
   "execution_count": 2,
   "metadata": {},
   "outputs": [
    {
     "name": "stdout",
     "output_type": "stream",
     "text": [
      "A que numero le quieres sacar el factorial?45\n",
      "119622220865480194561963161495657715064383733760000000000\n"
     ]
    }
   ],
   "source": [
    "N=int(input('A que numero le quieres sacar el factorial?'))\n",
    "factorial=1 #neutro multiplicativo\n",
    "for i in range(1,N+1):\n",
    "    factorial=factorial*i\n",
    "print(factorial)"
   ]
  },
  {
   "cell_type": "markdown",
   "metadata": {},
   "source": [
    "En Python, como en los otros lenguajes hijos de C. Existen los operadores de asignación aumentados."
   ]
  },
  {
   "cell_type": "markdown",
   "metadata": {},
   "source": [
    "$\n",
    "a+=b \\text{ significa } a=a+b \\\\\n",
    "a-=b \\text{ significa } a=a-b\\\\\n",
    "a*=b \\text{ significa } a=a*b\\\\\n",
    "a /= b \\text{ significa } a=a / b\\\\\n",
    "a**=b \\text{ significa } a=a**b\\\\\n",
    "a\\%=b \\text{ significa }  a=a\\%b\n",
    "$"
   ]
  },
  {
   "cell_type": "markdown",
   "metadata": {},
   "source": [
    "los ciclos For quedan más sencillos"
   ]
  },
  {
   "cell_type": "code",
   "execution_count": 1,
   "metadata": {},
   "outputs": [
    {
     "name": "stdout",
     "output_type": "stream",
     "text": [
      "0\n",
      "1\n",
      "3\n",
      "6\n",
      "10\n",
      "15\n",
      "21\n",
      "28\n",
      "36\n",
      "45\n",
      "55\n"
     ]
    }
   ],
   "source": [
    "s=0\n",
    "for i in range(0,11):\n",
    "    s+=i\n",
    "    print(s)"
   ]
  },
  {
   "cell_type": "code",
   "execution_count": 4,
   "metadata": {},
   "outputs": [
    {
     "name": "stdout",
     "output_type": "stream",
     "text": [
      "A que numero le quieres sacar el factorial?77\n",
      "145183092028285869634070784086308284983740379224208358846781574688061991349156420080065207861248000000000000000000\n"
     ]
    }
   ],
   "source": [
    "N=int(input('A que numero le quieres sacar el factorial?'))\n",
    "factorial=1 #neutro multiplicativo\n",
    "for i in range(1,N+1):\n",
    "    factorial*=i\n",
    "print(factorial)"
   ]
  },
  {
   "cell_type": "markdown",
   "metadata": {},
   "source": [
    "Operadores de Comparación\n",
    "\n",
    "\n",
    "\\begin{align}\n",
    "< &  & \\text{menor que}\\\\\n",
    ">  &  & \\text{mayor que}\\\\\n",
    "<=  &  & \\text{menor o igual que}\\\\\n",
    ">=  & & \\text{mayor o igual que}\\\\\n",
    "==  & & \\text{idéntico que}\\\\\n",
    "!=  &  & \\text{distinto que}\n",
    "\\end{align}"
   ]
  },
  {
   "cell_type": "code",
   "execution_count": 5,
   "metadata": {},
   "outputs": [
    {
     "name": "stdout",
     "output_type": "stream",
     "text": [
      "False\n",
      "True\n",
      "True\n",
      "False\n"
     ]
    }
   ],
   "source": [
    "a=2\n",
    "b=1.99\n",
    "c='2'\n",
    "print(a==b)\n",
    "print((a>b) and (a!=c))\n",
    "print((a>b) or (a!=c))\n",
    "print((a==b) and (a!=c))"
   ]
  },
  {
   "cell_type": "markdown",
   "metadata": {},
   "source": [
    "Operadores Booleanas\n",
    "\n",
    "\\begin{align}\n",
    "\\text{and}\\\\\n",
    "\\text{or}\\\\\n",
    "\\text{not}  \n",
    "\\end{align}\n",
    "\n",
    "Variables Booleanas\n",
    "\n",
    "\\begin{align}\n",
    "\\text{True}\\\\\n",
    "\\text{False}\n",
    "\\end{align}"
   ]
  },
  {
   "cell_type": "markdown",
   "metadata": {},
   "source": [
    "Para usar números complejos, usamos el modulo cmath"
   ]
  },
  {
   "cell_type": "code",
   "execution_count": 6,
   "metadata": {},
   "outputs": [],
   "source": [
    "from cmath import *\n",
    "z1 =3+4*1j\n",
    "z2 =1+2*1j"
   ]
  },
  {
   "cell_type": "code",
   "execution_count": 7,
   "metadata": {},
   "outputs": [
    {
     "name": "stdout",
     "output_type": "stream",
     "text": [
      "(4+6j)\n",
      "(2+2j)\n",
      "(-5+10j)\n",
      "(2.2-0.4j)\n",
      "(-7+24j)\n"
     ]
    }
   ],
   "source": [
    "print(z1+z2)\n",
    "print(z1-z2)\n",
    "print(z1*z2)\n",
    "print(z1/z2)\n",
    "print(z1**2)"
   ]
  },
  {
   "cell_type": "markdown",
   "metadata": {},
   "source": [
    "## Estructuras de control"
   ]
  },
  {
   "cell_type": "markdown",
   "metadata": {},
   "source": [
    "### Condicional (If-Else) "
   ]
  },
  {
   "cell_type": "markdown",
   "metadata": {},
   "source": [
    "Primera estructura es el Condicional If. (Discrimina casos)"
   ]
  },
  {
   "cell_type": "code",
   "execution_count": 8,
   "metadata": {},
   "outputs": [
    {
     "name": "stdout",
     "output_type": "stream",
     "text": [
      "da un entero positivo7\n",
      "impar\n"
     ]
    }
   ],
   "source": [
    "x=int(input('da un entero positivo'))\n",
    "if x%2==0:\n",
    "    print('par')\n",
    "else:\n",
    "    print('impar')"
   ]
  },
  {
   "cell_type": "markdown",
   "metadata": {},
   "source": [
    "Si queremos dar más de dos opciones, usamos elif (la contracción de else e if)"
   ]
  },
  {
   "cell_type": "code",
   "execution_count": 9,
   "metadata": {},
   "outputs": [
    {
     "name": "stdout",
     "output_type": "stream",
     "text": [
      "da un entero positivo9\n",
      "x es divisible entre 3\n"
     ]
    }
   ],
   "source": [
    "x=int(input('da un entero positivo'))\n",
    "if x%2==0:\n",
    "    print(\"x es un numero par\")\n",
    "if x%3==0:\n",
    "    print('x es divisible entre 3')\n",
    "elif x%5==0:\n",
    "    print('x es divisible entre 5')\n",
    "else:\n",
    "    print('sigue intentando')"
   ]
  },
  {
   "cell_type": "markdown",
   "metadata": {},
   "source": [
    "Ejercicio: Hagamos un código que le pida al usuario una temperatura y que despliege un menú para que indica las unidades. Luego que convierta esa temperatura a las otras unidades."
   ]
  },
  {
   "cell_type": "code",
   "execution_count": 10,
   "metadata": {},
   "outputs": [
    {
     "name": "stdout",
     "output_type": "stream",
     "text": [
      "Da una temperatura0\n",
      "En que unidades está esa temperatura:\n",
      " escribe 1 si está en Farenheit \n",
      "       escribe 2 si está en Celsius\n",
      "       escribe 3 si está en Kelvin\n",
      "Escribe tu opción1\n",
      "Da una opción válida\n"
     ]
    }
   ],
   "source": [
    "x=float(input('Da una temperatura'))\n",
    "print('En que unidades está esa temperatura:\\n escribe 1 si está en Farenheit \\n \\\n",
    "      escribe 2 si está en Celsius\\n \\\n",
    "      escribe 3 si está en Kelvin')\n",
    "opcion=input('Escribe tu opción')\n",
    "if opcion==1:\n",
    "    celsius=(x-32)*5/9.0\n",
    "    kelvin=celsius+273.15\n",
    "    print(celsius,'C\\n',kelvin,'K')\n",
    "elif opcion==2:\n",
    "    farenheit=(x*9/5.)+32\n",
    "    kelvin=x+273.15\n",
    "    print(farenheit,'C\\n',kelvin,'K')\n",
    "elif opcion==3:\n",
    "    celsius=x-273.15\n",
    "    farenheit=(celsius*9/5.)+32\n",
    "    print(celsius,'C\\n',farenheit,'F')\n",
    "else:\n",
    "    print('Da una opción válida')"
   ]
  },
  {
   "cell_type": "markdown",
   "metadata": {},
   "source": [
    "Lo mejor de las estructuras de control es que puedes poner una estructura dentro de otra."
   ]
  },
  {
   "cell_type": "code",
   "execution_count": 11,
   "metadata": {},
   "outputs": [
    {
     "name": "stdout",
     "output_type": "stream",
     "text": [
      "Programa que resuelve una ecuación lineal ax+b=0\n",
      "Da a:\t6\n",
      "Da b: \t4\n",
      "-0.6666666666666666\n"
     ]
    }
   ],
   "source": [
    "print('Programa que resuelve una ecuación lineal ax+b=0')\n",
    "a=float(input('Da a:\\t'))\n",
    "b=float(input('Da b: \\t'))\n",
    "if a!=0:\n",
    "    if b!=0:\n",
    "        x=-b/a\n",
    "        print(x)\n",
    "    else:\n",
    "        print('La solución es cero')\n",
    "else:\n",
    "    print('No tiene solución')"
   ]
  },
  {
   "cell_type": "markdown",
   "metadata": {},
   "source": [
    "## Ejercicio: Haz el programa que resuelva la ecuación cuadratica ax2+bx+c=0"
   ]
  },
  {
   "cell_type": "code",
   "execution_count": 12,
   "metadata": {},
   "outputs": [
    {
     "name": "stdout",
     "output_type": "stream",
     "text": [
      "Programa que resuelve la ecuación cuadratica ax2+bx+c=0\n",
      "Da a:\t9\n",
      "Da b: \t7\n",
      "Da c:\t6\n",
      "x1= (-0.3888888888888889+0.717935999073338j)\n",
      "x2= (-0.3888888888888889-0.717935999073338j)\n"
     ]
    }
   ],
   "source": [
    "from math import*\n",
    "print('Programa que resuelve la ecuación cuadratica ax2+bx+c=0')\n",
    "a=float(input('Da a:\\t'))\n",
    "b=float(input('Da b: \\t'))\n",
    "c=float(input('Da c:\\t'))\n",
    "if a!=0:\n",
    "    discriminante=b**2-4*a*c\n",
    "    if discriminante>=0:\n",
    "        x1=(-b+sqrt(discriminante))/(2*a)\n",
    "        x2=(-b-sqrt(discriminante))/(2*a)\n",
    "        print('x1=',x1)\n",
    "        print('x2=',x2)\n",
    "    else:\n",
    "        x1=-b/(2*a)+(sqrt(-discriminante)*1j)/(2*a)\n",
    "        x2=-b/(2*a)-(sqrt(-discriminante)*1j)/(2*a)\n",
    "        print('x1=',x1)\n",
    "        print('x2=',x2)\n",
    "else:\n",
    "    if b!=0:\n",
    "        x=-c/b\n",
    "        print('Es una ecuación lineal',x)\n",
    "    else:\n",
    "        print('La solución es cero')"
   ]
  },
  {
   "cell_type": "markdown",
   "metadata": {},
   "source": [
    "### Ciclos ( For-in,While) "
   ]
  },
  {
   "cell_type": "markdown",
   "metadata": {},
   "source": [
    "Bucle o Ciclo (Loops): Estás estructuras son de repetición, mientras estemos dentro del loop, se repetirá el proceso."
   ]
  },
  {
   "cell_type": "markdown",
   "metadata": {},
   "source": [
    "Ya hemos usado el ciclo For-in. Ahora nos toca usar el ciclo while (mientras)"
   ]
  },
  {
   "cell_type": "code",
   "execution_count": 13,
   "metadata": {},
   "outputs": [
    {
     "name": "stdout",
     "output_type": "stream",
     "text": [
      "Haremos un vil y burdo contador hasta 10\n",
      "0\n",
      "1\n",
      "2\n",
      "3\n",
      "4\n",
      "5\n",
      "6\n",
      "7\n",
      "8\n",
      "9\n",
      "10\n"
     ]
    }
   ],
   "source": [
    "print('Haremos un vil y burdo contador hasta 10')\n",
    "contador =0\n",
    "while contador <=10:\n",
    "    print(contador)\n",
    "    contador+=1"
   ]
  },
  {
   "cell_type": "markdown",
   "metadata": {},
   "source": [
    "Cuidado!! Tenemos que tener cuidado de no hacer un bucle infinito."
   ]
  },
  {
   "cell_type": "markdown",
   "metadata": {},
   "source": [
    "También el ciclo while nos ayuda mucho a organizar las estructuras if: "
   ]
  },
  {
   "cell_type": "code",
   "execution_count": 14,
   "metadata": {},
   "outputs": [
    {
     "name": "stdout",
     "output_type": "stream",
     "text": [
      "Da una temperatura: \t7\n",
      "En que unidades está esa temperatura:\n",
      " escribe 1 si está en Farenheit \n",
      "       escribe 2 si está en Celsius\n",
      "       escribe 3 si está en Kelvin      escribe 4 para salir\n",
      "Escribe tu opción \t1\n",
      "-13.88888888888889 C\n",
      " 259.26111111111106 K\n",
      "Da una temperatura: \t0\n",
      "En que unidades está esa temperatura:\n",
      " escribe 1 si está en Farenheit \n",
      "       escribe 2 si está en Celsius\n",
      "       escribe 3 si está en Kelvin      escribe 4 para salir\n",
      "Escribe tu opción \t4\n",
      "Hasta pronto\n"
     ]
    }
   ],
   "source": [
    "while True:\n",
    "    x=float(input('Da una temperatura: \\t'))\n",
    "    print('En que unidades está esa temperatura:\\n escribe 1 si está en Farenheit \\n \\\n",
    "      escribe 2 si está en Celsius\\n \\\n",
    "      escribe 3 si está en Kelvin\\\n",
    "      escribe 4 para salir')\n",
    "    opcion=input('Escribe tu opción \\t')\n",
    "    if opcion=='1':\n",
    "        celsius=(x-32)*5/9.0\n",
    "        kelvin=celsius+273.15\n",
    "        print(celsius,'C\\n',kelvin,'K')\n",
    "    elif opcion=='2':\n",
    "        farenheit=(x*9/5.)+32\n",
    "        kelvin=x+273.15\n",
    "        print(farenheit,'C\\n',kelvin,'K')\n",
    "    elif opcion=='3':\n",
    "        celsius=x-273.15\n",
    "        farenheit=(celsius*9/5.)+32\n",
    "        print(celsius,'C\\n',farenheit,'F')\n",
    "    elif opcion=='4':\n",
    "        print('Hasta pronto')\n",
    "        break\n",
    "    else:\n",
    "        print('Da una opción válida')"
   ]
  },
  {
   "cell_type": "markdown",
   "metadata": {},
   "source": [
    "Ejercicio: Haz con Python el experimento del Gato de Schrodinger n-veces y di cuantas veces apareció vivo.\n",
    "    Hint: Para hacer esto, usaremos el modulo random. En especifico, usaremos la función choice que escoge elementos aleatorios de una lista"
   ]
  },
  {
   "cell_type": "code",
   "execution_count": 15,
   "metadata": {},
   "outputs": [
    {
     "name": "stdout",
     "output_type": "stream",
     "text": [
      "2\n"
     ]
    }
   ],
   "source": [
    "from random import choice\n",
    "l_random=[1,2,3,4,5]\n",
    "print(choice(l_random))"
   ]
  },
  {
   "cell_type": "code",
   "execution_count": 16,
   "metadata": {},
   "outputs": [
    {
     "name": "stdout",
     "output_type": "stream",
     "text": [
      "Cuantas veces haras el experimento10\n",
      "El gato aparecio vivo 4 de 10 veces\n"
     ]
    }
   ],
   "source": [
    "from random import choice\n",
    "gato=['vivo','muerto']\n",
    "n=int(input('Cuantas veces haras el experimento'))\n",
    "i,i_vivo=0,0\n",
    "while i<=n:\n",
    "    x=choice(gato)\n",
    "    i+=1 #contamos cuantas veces se ha hecho el experimento\n",
    "    if x=='vivo':\n",
    "        i_vivo+=1 #contamos cuantas veces resulto vivo\n",
    "print('El gato aparecio vivo %d de %d veces'%(i_vivo,n))"
   ]
  },
  {
   "cell_type": "markdown",
   "metadata": {},
   "source": [
    "## Tuples versus Listas"
   ]
  },
  {
   "cell_type": "markdown",
   "metadata": {},
   "source": [
    "Tuple: Secuencia arbitraria de objetos separados por comas y encerradas en paréntesis (  ). Son objetos en la memoria que son inmutables, i.e., ya declaradas no pueden ser cambiadas.\n",
    "\n",
    "Lista: Secuencia arbitraria de objetos separados por comas y encerradas en corchetes [   ]. Estos objetos SI son mutables.\n"
   ]
  },
  {
   "cell_type": "code",
   "execution_count": 17,
   "metadata": {},
   "outputs": [],
   "source": [
    "x=(2,) #Tuple con un elemento"
   ]
  },
  {
   "cell_type": "code",
   "execution_count": 18,
   "metadata": {},
   "outputs": [],
   "source": [
    "tuple1=('Del Castillo','Rox',(30,9)) #tercer elemento es un tuple con otro tuple dentro"
   ]
  },
  {
   "cell_type": "code",
   "execution_count": 19,
   "metadata": {},
   "outputs": [],
   "source": [
    "apellido, nombre, cumpleaños=tuple1 #Desempaquetamos el tuple."
   ]
  },
  {
   "cell_type": "code",
   "execution_count": 20,
   "metadata": {},
   "outputs": [
    {
     "name": "stdout",
     "output_type": "stream",
     "text": [
      "Rox Del Castillo Cumpleaños es (30, 9)\n"
     ]
    }
   ],
   "source": [
    "print(nombre, apellido, 'Cumpleaños es', cumpleaños)"
   ]
  },
  {
   "cell_type": "code",
   "execution_count": 21,
   "metadata": {},
   "outputs": [
    {
     "name": "stdout",
     "output_type": "stream",
     "text": [
      "el mes de cumpleaños es 9\n"
     ]
    }
   ],
   "source": [
    "print('el mes de cumpleaños es',cumpleaños[1])"
   ]
  },
  {
   "cell_type": "markdown",
   "metadata": {},
   "source": [
    "Usamos el Tuple sin desempacar"
   ]
  },
  {
   "cell_type": "code",
   "execution_count": 22,
   "metadata": {},
   "outputs": [
    {
     "name": "stdout",
     "output_type": "stream",
     "text": [
      "Rox Del Castillo Cumpleaños es (30, 9)\n"
     ]
    }
   ],
   "source": [
    "print(tuple1[1], tuple1[0], 'Cumpleaños es', tuple1[2])"
   ]
  },
  {
   "cell_type": "code",
   "execution_count": 23,
   "metadata": {},
   "outputs": [],
   "source": [
    "lista=[1,2,3]"
   ]
  },
  {
   "cell_type": "code",
   "execution_count": 24,
   "metadata": {},
   "outputs": [],
   "source": [
    "lista.append(4) #pegamos el 4 al final de la lista"
   ]
  },
  {
   "cell_type": "code",
   "execution_count": 25,
   "metadata": {},
   "outputs": [
    {
     "name": "stdout",
     "output_type": "stream",
     "text": [
      "[1, 2, 3, 4]\n"
     ]
    }
   ],
   "source": [
    "print(lista)"
   ]
  },
  {
   "cell_type": "code",
   "execution_count": 26,
   "metadata": {},
   "outputs": [],
   "source": [
    "lista.insert(1,1.5) #insertamos el numero 1.5 en el elemento lista[1]"
   ]
  },
  {
   "cell_type": "code",
   "execution_count": 27,
   "metadata": {},
   "outputs": [
    {
     "name": "stdout",
     "output_type": "stream",
     "text": [
      "[1, 1.5, 2, 3, 4]\n"
     ]
    }
   ],
   "source": [
    "print(lista)"
   ]
  },
  {
   "cell_type": "code",
   "execution_count": 28,
   "metadata": {},
   "outputs": [],
   "source": [
    "b=lista.copy()"
   ]
  },
  {
   "cell_type": "code",
   "execution_count": 29,
   "metadata": {},
   "outputs": [
    {
     "name": "stdout",
     "output_type": "stream",
     "text": [
      "[100, 1.5, 2, 3, 4] [1, 1.5, 2, 3, 4]\n"
     ]
    }
   ],
   "source": [
    "b[0]=100\n",
    "print(b,lista)"
   ]
  },
  {
   "cell_type": "markdown",
   "metadata": {},
   "source": [
    "¡¡¡Cuidado!!! Dada la naturaleza mutable de las listas, al poner b=lista no se crea una nueva lista llamada b, sino que se da un alias a la lista (tiene 2 nombres). Para crear un nuevo objeto en la memoria se puede usar la función copy()"
   ]
  },
  {
   "cell_type": "code",
   "execution_count": 30,
   "metadata": {},
   "outputs": [
    {
     "name": "stdout",
     "output_type": "stream",
     "text": [
      "[5, 1.5, 2, 3, 4]\n",
      "[5, 1.5, 2, 3, 4]\n"
     ]
    }
   ],
   "source": [
    "b=lista\n",
    "b[0]=5\n",
    "print(b)\n",
    "print(lista)"
   ]
  },
  {
   "cell_type": "code",
   "execution_count": 31,
   "metadata": {},
   "outputs": [
    {
     "name": "stdout",
     "output_type": "stream",
     "text": [
      "[5, 2, 3]\n",
      "[1, 2, 3]\n"
     ]
    }
   ],
   "source": [
    "lista=[1,2,3]\n",
    "b=lista.copy() #creamos un objeto distinto en la memoria\n",
    "b[0]=5\n",
    "print(b)\n",
    "print(lista)"
   ]
  },
  {
   "cell_type": "markdown",
   "metadata": {},
   "source": [
    "## Funciones"
   ]
  },
  {
   "cell_type": "markdown",
   "metadata": {},
   "source": [
    "Podemos hacer nuestras propias funciones. La sintaxis es:"
   ]
  },
  {
   "cell_type": "code",
   "execution_count": 32,
   "metadata": {},
   "outputs": [],
   "source": [
    "def cuadrado(x):\n",
    "    return (x+1)**2"
   ]
  },
  {
   "cell_type": "code",
   "execution_count": 33,
   "metadata": {},
   "outputs": [
    {
     "data": {
      "text/plain": [
       "25"
      ]
     },
     "execution_count": 33,
     "metadata": {},
     "output_type": "execute_result"
    }
   ],
   "source": [
    "cuadrado(4)"
   ]
  },
  {
   "cell_type": "markdown",
   "metadata": {},
   "source": [
    "Ejercicio:\n",
    "Reproduzcamos el triángulo de Pascal para resolver $(a+b)^n$. Para esto haremos la función factorial, luego calcularemos los coeficientes binomiales $\\binom{n}{k}=\\frac{n!}{k!(n-k)!}$ y luego calcularemos cada renglón del triángulo de Pascal."
   ]
  },
  {
   "cell_type": "code",
   "execution_count": 34,
   "metadata": {},
   "outputs": [],
   "source": [
    "def factorial(n):\n",
    "    prod=1\n",
    "    for i in range(1,n+1):\n",
    "        #prod=prod*i\n",
    "        prod*=i\n",
    "    return prod"
   ]
  },
  {
   "cell_type": "code",
   "execution_count": 35,
   "metadata": {},
   "outputs": [
    {
     "data": {
      "text/plain": [
       "720"
      ]
     },
     "execution_count": 35,
     "metadata": {},
     "output_type": "execute_result"
    }
   ],
   "source": [
    "factorial(6)"
   ]
  },
  {
   "cell_type": "code",
   "execution_count": 36,
   "metadata": {},
   "outputs": [
    {
     "name": "stdout",
     "output_type": "stream",
     "text": [
      "Haremos la parte del binomial\n",
      "Vamos a imprimir el renglón del triángulo de Pascal equivalente a (a+b)**2\n",
      "1.0 2.0 1.0\n"
     ]
    }
   ],
   "source": [
    "print('Haremos la parte del binomial')\n",
    "def binomial(n,k):\n",
    "    binom=factorial(n)/(factorial(k)*factorial(n-k))\n",
    "    return binom\n",
    "print('Vamos a imprimir el renglón del triángulo de Pascal equivalente a (a+b)**2')\n",
    "print(binomial(2,0),binomial(2,1),binomial(2,2))"
   ]
  },
  {
   "cell_type": "code",
   "execution_count": 37,
   "metadata": {},
   "outputs": [
    {
     "name": "stdout",
     "output_type": "stream",
     "text": [
      "Haremos un función renglon que guarde el renglon completo del Triangulo\n",
      "[1.0, 2.0, 1.0]\n",
      "[1.0, 17.0, 136.0, 680.0, 2380.0, 6188.0, 12376.0, 19448.0, 24310.0, 24310.0, 19448.0, 12376.0, 6188.0, 2380.0, 680.0, 136.0, 17.0, 1.0]\n"
     ]
    }
   ],
   "source": [
    "print('Haremos un función renglon que guarde el renglon completo del Triangulo')\n",
    "def renglon(n):\n",
    "    lista=[]\n",
    "    for k in range(0,n+1):\n",
    "        lista.append(binomial(n,k))\n",
    "    return lista\n",
    "print(renglon(2))\n",
    "print(renglon(17))"
   ]
  },
  {
   "cell_type": "code",
   "execution_count": 38,
   "metadata": {},
   "outputs": [
    {
     "name": "stdout",
     "output_type": "stream",
     "text": [
      "[1.0]\n",
      "[1.0, 1.0]\n",
      "[1.0, 2.0, 1.0]\n",
      "[1.0, 3.0, 3.0, 1.0]\n",
      "[1.0, 4.0, 6.0, 4.0, 1.0]\n",
      "[1.0, 5.0, 10.0, 10.0, 5.0, 1.0]\n",
      "[1.0, 6.0, 15.0, 20.0, 15.0, 6.0, 1.0]\n",
      "[1.0, 7.0, 21.0, 35.0, 35.0, 21.0, 7.0, 1.0]\n",
      "[1.0, 8.0, 28.0, 56.0, 70.0, 56.0, 28.0, 8.0, 1.0]\n",
      "[1.0, 9.0, 36.0, 84.0, 126.0, 126.0, 84.0, 36.0, 9.0, 1.0]\n",
      "[1.0, 10.0, 45.0, 120.0, 210.0, 252.0, 210.0, 120.0, 45.0, 10.0, 1.0]\n"
     ]
    }
   ],
   "source": [
    "#Triangulo de Pascal\n",
    "def factorial(n):\n",
    "    prod=1\n",
    "    for i in range(1,n+1):\n",
    "        prod=prod*i\n",
    "    return prod\n",
    "\n",
    "def binomial(n,k):\n",
    "    binom=factorial(n)/(factorial(k)*factorial(n-k))\n",
    "    return binom\n",
    "\n",
    "def renglon(n):\n",
    "    lista=[]\n",
    "    for k in range(0,n+1):\n",
    "        lista.append(binomial(n,k))\n",
    "    return lista\n",
    "\n",
    "for i in range(11):\n",
    "    print(renglon(i))"
   ]
  },
  {
   "cell_type": "markdown",
   "metadata": {},
   "source": [
    "## Recursión vs Iteración"
   ]
  },
  {
   "cell_type": "markdown",
   "metadata": {},
   "source": [
    "Hasta el momento, hemos hecho puras cosas iterativas (Repetimos el proceso una y otra vez). Sin embargo, en computación existe la herramienta poderosa de la recursividad. Recursividad significa que una función puede llamarse a si misma. Hagamos un ejemplo de recursividad vs iteracion. \n",
    "\n",
    "El factorial, en su forma recursiva es: \n",
    "$$\n",
    "n!=\n",
    "\\begin{cases}\n",
    "1  \\text{ si n=1 }\\\\\n",
    "n(n-1)  \\text{ si n > 1 }\\\\\n",
    "\\end{cases}\n",
    "$$\n"
   ]
  },
  {
   "cell_type": "code",
   "execution_count": 39,
   "metadata": {},
   "outputs": [
    {
     "name": "stdout",
     "output_type": "stream",
     "text": [
      "402387260077093773543702433923003985719374864210714632543799910429938512398629020592044208486969404800479988610197196058631666872994808558901323829669944590997424504087073759918823627727188732519779505950995276120874975462497043601418278094646496291056393887437886487337119181045825783647849977012476632889835955735432513185323958463075557409114262417474349347553428646576611667797396668820291207379143853719588249808126867838374559731746136085379534524221586593201928090878297308431392844403281231558611036976801357304216168747609675871348312025478589320767169132448426236131412508780208000261683151027341827977704784635868170164365024153691398281264810213092761244896359928705114964975419909342221566832572080821333186116811553615836546984046708975602900950537616475847728421889679646244945160765353408198901385442487984959953319101723355556602139450399736280750137837615307127761926849034352625200015888535147331611702103968175921510907788019393178114194545257223865541461062892187960223838971476088506276862967146674697562911234082439208160153780889893964518263243671616762179168909779911903754031274622289988005195444414282012187361745992642956581746628302955570299024324153181617210465832036786906117260158783520751516284225540265170483304226143974286933061690897968482590125458327168226458066526769958652682272807075781391858178889652208164348344825993266043367660176999612831860788386150279465955131156552036093988180612138558600301435694527224206344631797460594682573103790084024432438465657245014402821885252470935190620929023136493273497565513958720559654228749774011413346962715422845862377387538230483865688976461927383814900140767310446640259899490222221765904339901886018566526485061799702356193897017860040811889729918311021171229845901641921068884387121855646124960798722908519296819372388642614839657382291123125024186649353143970137428531926649875337218940694281434118520158014123344828015051399694290153483077644569099073152433278288269864602789864321139083506217095002597389863554277196742822248757586765752344220207573630569498825087968928162753848863396909959826280956121450994871701244516461260379029309120889086942028510640182154399457156805941872748998094254742173582401063677404595741785160829230135358081840096996372524230560855903700624271243416909004153690105933983835777939410970027753472000000000000000000000000000000000000000000000000000000000000000000000000000000000000000000000000000000000000000000000000000000000000000000000000000000000000000000000000000000000000000000000000000000000000000000000000000000000000000000000000000000000\n",
      "402387260077093773543702433923003985719374864210714632543799910429938512398629020592044208486969404800479988610197196058631666872994808558901323829669944590997424504087073759918823627727188732519779505950995276120874975462497043601418278094646496291056393887437886487337119181045825783647849977012476632889835955735432513185323958463075557409114262417474349347553428646576611667797396668820291207379143853719588249808126867838374559731746136085379534524221586593201928090878297308431392844403281231558611036976801357304216168747609675871348312025478589320767169132448426236131412508780208000261683151027341827977704784635868170164365024153691398281264810213092761244896359928705114964975419909342221566832572080821333186116811553615836546984046708975602900950537616475847728421889679646244945160765353408198901385442487984959953319101723355556602139450399736280750137837615307127761926849034352625200015888535147331611702103968175921510907788019393178114194545257223865541461062892187960223838971476088506276862967146674697562911234082439208160153780889893964518263243671616762179168909779911903754031274622289988005195444414282012187361745992642956581746628302955570299024324153181617210465832036786906117260158783520751516284225540265170483304226143974286933061690897968482590125458327168226458066526769958652682272807075781391858178889652208164348344825993266043367660176999612831860788386150279465955131156552036093988180612138558600301435694527224206344631797460594682573103790084024432438465657245014402821885252470935190620929023136493273497565513958720559654228749774011413346962715422845862377387538230483865688976461927383814900140767310446640259899490222221765904339901886018566526485061799702356193897017860040811889729918311021171229845901641921068884387121855646124960798722908519296819372388642614839657382291123125024186649353143970137428531926649875337218940694281434118520158014123344828015051399694290153483077644569099073152433278288269864602789864321139083506217095002597389863554277196742822248757586765752344220207573630569498825087968928162753848863396909959826280956121450994871701244516461260379029309120889086942028510640182154399457156805941872748998094254742173582401063677404595741785160829230135358081840096996372524230560855903700624271243416909004153690105933983835777939410970027753472000000000000000000000000000000000000000000000000000000000000000000000000000000000000000000000000000000000000000000000000000000000000000000000000000000000000000000000000000000000000000000000000000000000000000000000000000000000000000000000000000000000\n"
     ]
    }
   ],
   "source": [
    "def fac_iter(n):\n",
    "    prod=1\n",
    "    for i in range(1,n+1):\n",
    "        prod=prod*i\n",
    "    return prod\n",
    "\n",
    "def fac_rec(n):\n",
    "    if n==1:\n",
    "        return 1\n",
    "    else:\n",
    "        return n*fac_rec(n-1)\n",
    "print(fac_iter(1000))\n",
    "print(fac_rec(1000))"
   ]
  },
  {
   "cell_type": "markdown",
   "metadata": {},
   "source": [
    "## Arreglos"
   ]
  },
  {
   "cell_type": "markdown",
   "metadata": {},
   "source": [
    "Como vimos, una lista es un objeto ordenado de valores (pueden ser enteros, flotantes o cadenas). Un arreglo es una lista de listas."
   ]
  },
  {
   "cell_type": "code",
   "execution_count": 40,
   "metadata": {},
   "outputs": [
    {
     "name": "stdout",
     "output_type": "stream",
     "text": [
      "[[1, 2, 3], [4, 5, 6]]\n",
      "[1, 2, 3]\n",
      "[4, 5, 6]\n",
      "Para sacar un elemento, usamos dos indices\n",
      "A23 = 6\n"
     ]
    }
   ],
   "source": [
    "arreglo1=[[1,2,3],[4,5,6]]\n",
    "print(arreglo1)\n",
    "print(arreglo1[0])\n",
    "print(arreglo1[1])\n",
    "\n",
    "print('Para sacar un elemento, usamos dos indices')\n",
    "print('A23 =',arreglo1[-1][-1])"
   ]
  },
  {
   "cell_type": "code",
   "execution_count": null,
   "metadata": {},
   "outputs": [],
   "source": []
  },
  {
   "cell_type": "code",
   "execution_count": null,
   "metadata": {},
   "outputs": [],
   "source": []
  },
  {
   "cell_type": "code",
   "execution_count": null,
   "metadata": {},
   "outputs": [],
   "source": []
  }
 ],
 "metadata": {
  "kernelspec": {
   "display_name": "Python",
   "language": "python",
   "name": "conda-env-python-py"
  },
  "language_info": {
   "codemirror_mode": {
    "name": "ipython",
    "version": 3
   },
   "file_extension": ".py",
   "mimetype": "text/x-python",
   "name": "python",
   "nbconvert_exporter": "python",
   "pygments_lexer": "ipython3",
   "version": "3.6.7"
  }
 },
 "nbformat": 4,
 "nbformat_minor": 4
}
