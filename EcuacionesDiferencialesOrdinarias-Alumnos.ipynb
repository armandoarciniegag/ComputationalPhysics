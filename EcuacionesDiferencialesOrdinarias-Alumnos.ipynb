{
 "cells": [
  {
   "cell_type": "markdown",
   "metadata": {},
   "source": [
    "# Ecuaciones diferenciales"
   ]
  },
  {
   "cell_type": "markdown",
   "metadata": {},
   "source": [
    "## Ecuaciones diferenciales de primer orden con una variable"
   ]
  },
  {
   "cell_type": "markdown",
   "metadata": {},
   "source": [
    "Resolveremos ecuaciones diferenciales de primer orden con una variable que no son resueltas fácilmente.\n",
    "\n",
    "E.g.\n",
    "\n",
    "$$\\frac{dx}{dt}=\\frac{2x}{t}+\\frac{3x^2}{t^3}$$"
   ]
  },
  {
   "cell_type": "markdown",
   "metadata": {},
   "source": [
    "### Método de Euler"
   ]
  },
  {
   "cell_type": "markdown",
   "metadata": {},
   "source": [
    "Supongamos que tenemos\n",
    "$$\\frac{dx}{dt}=f(x,t)$$\n",
    "\n",
    "Con una condición inicial en x y t. Expandiendo $x(t+h)$ en serie de Taylor:\n",
    "$$\n",
    "x(t+h)=x(t)+h\\frac{dx}{dt}+\\frac{1}{2}h^2\\frac{d^2x}{dt^2}+\\cdots\\\\\n",
    "       =x(t)+hf(x,t)+O(h^{2})\n",
    "$$\n",
    "\n",
    "A programar:\n",
    "            $$\n",
    "            x(t+h)=x(t)+hf(x,t)\n",
    "            $$\n",
    " "
   ]
  },
  {
   "cell_type": "markdown",
   "metadata": {},
   "source": [
    "Ejercicio: \n",
    "\n",
    "$$\\frac{dx}{dt}=-x^3+\\sin(t)$$\n",
    "\n",
    "Haz un programa que grafique t en el intervalo [0,10] con 1000 pasos"
   ]
  },
  {
   "cell_type": "code",
   "execution_count": 33,
   "metadata": {},
   "outputs": [],
   "source": [
    "import numpy as np\n",
    "import matplotlib.pyplot as plt\n",
    "\n",
    "def Euler(f,x0,t0,t):\n",
    "    h=1e-5\n",
    "    x = np.zeros(len(t))\n",
    "    x[0] = x0\n",
    "    t[0] = t0\n",
    "    for n in range(0,len(t)-1):\n",
    "        x[n+1] = x[n] + h*f(x[n],t)\n",
    "        \n",
    "    return x"
   ]
  },
  {
   "cell_type": "code",
   "execution_count": 34,
   "metadata": {},
   "outputs": [
    {
     "ename": "TypeError",
     "evalue": "only size-1 arrays can be converted to Python scalars",
     "output_type": "error",
     "traceback": [
      "\u001b[1;31m---------------------------------------------------------------------------\u001b[0m",
      "\u001b[1;31mTypeError\u001b[0m                                 Traceback (most recent call last)",
      "\u001b[1;32m<ipython-input-34-0e0a133d8920>\u001b[0m in \u001b[0;36m<module>\u001b[1;34m\u001b[0m\n\u001b[0;32m      6\u001b[0m \u001b[1;33m\u001b[0m\u001b[0m\n\u001b[0;32m      7\u001b[0m \u001b[0mf\u001b[0m \u001b[1;33m=\u001b[0m \u001b[1;32mlambda\u001b[0m \u001b[0mx\u001b[0m\u001b[1;33m,\u001b[0m\u001b[0mt\u001b[0m\u001b[1;33m:\u001b[0m \u001b[1;33m-\u001b[0m\u001b[0mx\u001b[0m\u001b[1;33m**\u001b[0m\u001b[1;36m3\u001b[0m \u001b[1;33m+\u001b[0m \u001b[0msin\u001b[0m\u001b[1;33m(\u001b[0m\u001b[0mt\u001b[0m\u001b[1;33m)\u001b[0m\u001b[1;33m\u001b[0m\u001b[1;33m\u001b[0m\u001b[0m\n\u001b[1;32m----> 8\u001b[1;33m \u001b[0meu\u001b[0m \u001b[1;33m=\u001b[0m \u001b[0mEuler\u001b[0m\u001b[1;33m(\u001b[0m\u001b[0mf\u001b[0m\u001b[1;33m,\u001b[0m\u001b[0mx0\u001b[0m\u001b[1;33m,\u001b[0m\u001b[0mt0\u001b[0m\u001b[1;33m,\u001b[0m\u001b[0mt\u001b[0m\u001b[1;33m)\u001b[0m\u001b[1;33m\u001b[0m\u001b[1;33m\u001b[0m\u001b[0m\n\u001b[0m\u001b[0;32m      9\u001b[0m \u001b[0mprint\u001b[0m\u001b[1;33m(\u001b[0m\u001b[0mf\u001b[0m\u001b[1;33m(\u001b[0m\u001b[1;36m0\u001b[0m\u001b[1;33m,\u001b[0m\u001b[1;36m10\u001b[0m\u001b[1;33m)\u001b[0m\u001b[1;33m)\u001b[0m\u001b[1;33m\u001b[0m\u001b[1;33m\u001b[0m\u001b[0m\n\u001b[0;32m     10\u001b[0m \u001b[0mplt\u001b[0m\u001b[1;33m.\u001b[0m\u001b[0mplot\u001b[0m\u001b[1;33m(\u001b[0m\u001b[0mt\u001b[0m\u001b[1;33m,\u001b[0m\u001b[0meu\u001b[0m\u001b[1;33m,\u001b[0m\u001b[1;34m'r-'\u001b[0m\u001b[1;33m)\u001b[0m\u001b[1;33m\u001b[0m\u001b[1;33m\u001b[0m\u001b[0m\n",
      "\u001b[1;32m<ipython-input-33-d33ae13bb275>\u001b[0m in \u001b[0;36mEuler\u001b[1;34m(f, x0, t0, t)\u001b[0m\n\u001b[0;32m      8\u001b[0m     \u001b[0mt\u001b[0m\u001b[1;33m[\u001b[0m\u001b[1;36m0\u001b[0m\u001b[1;33m]\u001b[0m \u001b[1;33m=\u001b[0m \u001b[0mt0\u001b[0m\u001b[1;33m\u001b[0m\u001b[1;33m\u001b[0m\u001b[0m\n\u001b[0;32m      9\u001b[0m     \u001b[1;32mfor\u001b[0m \u001b[0mn\u001b[0m \u001b[1;32min\u001b[0m \u001b[0mrange\u001b[0m\u001b[1;33m(\u001b[0m\u001b[1;36m0\u001b[0m\u001b[1;33m,\u001b[0m\u001b[0mlen\u001b[0m\u001b[1;33m(\u001b[0m\u001b[0mt\u001b[0m\u001b[1;33m)\u001b[0m\u001b[1;33m-\u001b[0m\u001b[1;36m1\u001b[0m\u001b[1;33m)\u001b[0m\u001b[1;33m:\u001b[0m\u001b[1;33m\u001b[0m\u001b[1;33m\u001b[0m\u001b[0m\n\u001b[1;32m---> 10\u001b[1;33m         \u001b[0mx\u001b[0m\u001b[1;33m[\u001b[0m\u001b[0mn\u001b[0m\u001b[1;33m+\u001b[0m\u001b[1;36m1\u001b[0m\u001b[1;33m]\u001b[0m \u001b[1;33m=\u001b[0m \u001b[0mx\u001b[0m\u001b[1;33m[\u001b[0m\u001b[0mn\u001b[0m\u001b[1;33m]\u001b[0m \u001b[1;33m+\u001b[0m \u001b[0mh\u001b[0m\u001b[1;33m*\u001b[0m\u001b[0mf\u001b[0m\u001b[1;33m(\u001b[0m\u001b[0mx\u001b[0m\u001b[1;33m[\u001b[0m\u001b[0mn\u001b[0m\u001b[1;33m]\u001b[0m\u001b[1;33m,\u001b[0m\u001b[0mt\u001b[0m\u001b[1;33m)\u001b[0m\u001b[1;33m\u001b[0m\u001b[1;33m\u001b[0m\u001b[0m\n\u001b[0m\u001b[0;32m     11\u001b[0m \u001b[1;33m\u001b[0m\u001b[0m\n\u001b[0;32m     12\u001b[0m     \u001b[1;32mreturn\u001b[0m \u001b[0mx\u001b[0m\u001b[1;33m\u001b[0m\u001b[1;33m\u001b[0m\u001b[0m\n",
      "\u001b[1;32m<ipython-input-34-0e0a133d8920>\u001b[0m in \u001b[0;36m<lambda>\u001b[1;34m(x, t)\u001b[0m\n\u001b[0;32m      5\u001b[0m \u001b[1;33m\u001b[0m\u001b[0m\n\u001b[0;32m      6\u001b[0m \u001b[1;33m\u001b[0m\u001b[0m\n\u001b[1;32m----> 7\u001b[1;33m \u001b[0mf\u001b[0m \u001b[1;33m=\u001b[0m \u001b[1;32mlambda\u001b[0m \u001b[0mx\u001b[0m\u001b[1;33m,\u001b[0m\u001b[0mt\u001b[0m\u001b[1;33m:\u001b[0m \u001b[1;33m-\u001b[0m\u001b[0mx\u001b[0m\u001b[1;33m**\u001b[0m\u001b[1;36m3\u001b[0m \u001b[1;33m+\u001b[0m \u001b[0msin\u001b[0m\u001b[1;33m(\u001b[0m\u001b[0mt\u001b[0m\u001b[1;33m)\u001b[0m\u001b[1;33m\u001b[0m\u001b[1;33m\u001b[0m\u001b[0m\n\u001b[0m\u001b[0;32m      8\u001b[0m \u001b[0meu\u001b[0m \u001b[1;33m=\u001b[0m \u001b[0mEuler\u001b[0m\u001b[1;33m(\u001b[0m\u001b[0mf\u001b[0m\u001b[1;33m,\u001b[0m\u001b[0mx0\u001b[0m\u001b[1;33m,\u001b[0m\u001b[0mt0\u001b[0m\u001b[1;33m,\u001b[0m\u001b[0mt\u001b[0m\u001b[1;33m)\u001b[0m\u001b[1;33m\u001b[0m\u001b[1;33m\u001b[0m\u001b[0m\n\u001b[0;32m      9\u001b[0m \u001b[0mprint\u001b[0m\u001b[1;33m(\u001b[0m\u001b[0mf\u001b[0m\u001b[1;33m(\u001b[0m\u001b[1;36m0\u001b[0m\u001b[1;33m,\u001b[0m\u001b[1;36m10\u001b[0m\u001b[1;33m)\u001b[0m\u001b[1;33m)\u001b[0m\u001b[1;33m\u001b[0m\u001b[1;33m\u001b[0m\u001b[0m\n",
      "\u001b[1;31mTypeError\u001b[0m: only size-1 arrays can be converted to Python scalars"
     ]
    }
   ],
   "source": [
    "t = np.linspace(0,10,1000)\n",
    "x0=0 \n",
    "t0=0\n",
    "\n",
    "\n",
    "\n",
    "f = lambda x,t: -x**3 + sin(t) \n",
    "eu = Euler(f,x0,t0,t)\n",
    "print(f(0,10))\n",
    "plt.plot(t,eu,'r-')\n",
    "plt.legend(['Solución por Euler'])\n",
    "plt.axis([0,10,0,1])\n",
    "plt.grid(True)\n",
    "plt.title(\"Espacio fase de la EDO con x(0)=0.5 y v(0)=0$\")\n",
    "plt.show()"
   ]
  },
  {
   "cell_type": "markdown",
   "metadata": {},
   "source": [
    "El error de truncamiento o error local es $h^2$. Cada paso tiene este error. Sin embargo, a lo largo de los 1000 pasos, se obtiene un error acumulado o el error global del método numérico.\n",
    "\n",
    "El error global se obtiene sumando N-1 veces el error local:\n",
    "$$\n",
    "\\sum_{k=0}^{N-1} \\frac{1}{2}h^2\\left[\\frac{d^2x}{dt^2} \\right]_{t=t_k}=\n",
    "\\frac{1}{2}h\\sum_{k=0}^{N-1}h\\left[\\frac{df}{dt} \\right]_{t=t_k}\\approx\n",
    "\\frac{h}{2}\\int_a^b\\frac{df}{dt} dt=\\frac{h}{2}\\left[f(x(b),b)-f(x(a),a)\\right]\n",
    "$$\n",
    "\n",
    "Entonces, el error global es proporcional a $h$"
   ]
  },
  {
   "cell_type": "markdown",
   "metadata": {},
   "source": [
    "## Método de Runge-Kutta de orden 2"
   ]
  },
  {
   "cell_type": "markdown",
   "metadata": {},
   "source": [
    "Cuidado: Extender la serie de Taylor a un orden superior no hace que se mejore la solución (sólo en algunos casos). Para mejorar usaremos el método de Runge-Kutta de segundo orden, o también conocido como el método del punto medio.\n",
    "\n",
    "Dessarrollando con serie de Taylor alrededor de $t+\\frac{1}{2}h$ para $x(t+h)$:\n",
    "\n",
    "$$\n",
    "x(t+h)=x(t+\\frac{1}{2}h)+\\frac{1}{2}h \\left(\\frac{dx}{dt}\\right)_{t+\\frac{1}{2}h}+\\frac{1}{8}h^2\\left(\\frac{d^2x}{dt^2}\\right)_{t+\\frac{1}{2}h}+O(h^{3})\\\\\n",
    "$$\n",
    "\n",
    "Haciendo lo mismo para $x(t)$:\n",
    "\n",
    "$$\n",
    "x(t)=x(t+\\frac{1}{2}h)-\\frac{1}{2}h \\left(\\frac{dx}{dt}\\right)_{t+\\frac{1}{2}h}+\\frac{1}{8}h^2\\left(\\frac{d^2x}{dt^2}\\right)_{t+\\frac{1}{2}h}+O(h^{3})\\\\\n",
    "$$\n",
    "\n",
    "Restando la segunda expresión de la primera y reacomodando términos:\n",
    "\n",
    "$$\n",
    "x(t+h)=x(t)+h\\left(\\frac{dx}{dt}\\right)_{t+\\frac{1}{2}h}+O(h^{3})\\\\\n",
    "=x(t)+hf(x(t+\\frac{1}{2}h),t+\\frac{1}{2}h)+O(h^{3})\n",
    "$$\n",
    "\n",
    "Un detalle importante, no conocemos en realidad $x(t+\\frac{1}{2}h)$! \n",
    "\n",
    "Para eso usamos el método de Euler, de esta manera podemos escribir:\n",
    "\n",
    "$$\n",
    "k_1=hf(x,t)\\\\\n",
    "k_2=hf(x+\\frac{1}{2}k_1,t+\\frac{1}{2}h)\\\\\n",
    "x(t+h)=x(t)+k_2\n",
    "$$\n",
    "\n",
    "\n",
    "Ya vimos que $x(t+h)$ tiene terminos de $O(h^{3})$ lo cual es aún mejor que el de Euler ($O(h^{2})$). Pero estamos asumiendo que usar Euler para la estimación original no mete terminos en Runge-Kutta en $x(t+h)$ mayores que $O(h^{3})$.\n",
    "\n",
    "Si haces una demostración correcta de porque este es el caso y lo expones en video tendras medio punto extra sobre esta tarea. (Hint: demuestra que $k_2$ va como $O(h^{3})$, expandiendo en serie de Taylor $f$ y $x$ alrededor de $t+\\frac{1}{2}h$)\n",
    "\n"
   ]
  },
  {
   "cell_type": "code",
   "execution_count": 5,
   "metadata": {},
   "outputs": [
    {
     "data": {
      "image/png": "[encoded data removed]",
      "text/plain": [
       "<Figure size 432x288 with 1 Axes>"
      ]
     },
     "metadata": {
      "needs_background": "light"
     },
     "output_type": "display_data"
    }
   ],
   "source": [
    "#Aqui pon tu metodo de Runge-Kutta de orden 2, resolviendo el mismo sistema que el\n",
    "#caso anterior, tienes que obtener la grafica de abajo. Usa 10, 20, 50 y cien pasos.\n",
    "#Describe como se compara con el metodo de Euler"
   ]
  },
  {
   "cell_type": "code",
   "execution_count": 3,
   "metadata": {},
   "outputs": [],
   "source": [
    "### Método de Runge-Kutta de orden 4."
   ]
  },
  {
   "cell_type": "markdown",
   "metadata": {},
   "source": [
    "$$\n",
    "k_1=hf(x,t)\n",
    "$$\n",
    "\n",
    "$$\n",
    "k_2=hf(x+0.5k_1,t+0.5h)\n",
    "$$\n",
    "\n",
    "$$\n",
    "k_3=hf(x+0.5k_2,t+0.5h)\n",
    "$$\n",
    "\n",
    "$$\n",
    "k_4=hf(x+k_3,t+h)\n",
    "$$\n",
    "\n",
    "$$\n",
    "x(t+h)=x(t)+\\frac{(k_1+2k_2+2k_3+k_4)}{6.}\n",
    "$$\n",
    "\n",
    "Si haces un vídeo exponiendo correctamente la deducción de Runge-Kutta de órden 4 tienes medio punto extra sobre esta tarea.\n",
    "\n",
    "Errores en las deducciones y en las implementaciones pueden llevar a resultados que parecen sensatos pero en realidad son erroneos!\n",
    "\n",
    "Describe un criterio para averiguar rápidamente si el código que resuelve una ecuación diferencial esta mal:"
   ]
  },
  {
   "cell_type": "markdown",
   "metadata": {},
   "source": [
    "PON AQUI TU RESPUESTA"
   ]
  },
  {
   "cell_type": "code",
   "execution_count": 4,
   "metadata": {
    "scrolled": true
   },
   "outputs": [
    {
     "data": {
      "image/png": "[encoded data removed]",
      "text/plain": [
       "<Figure size 432x288 with 1 Axes>"
      ]
     },
     "metadata": {},
     "output_type": "display_data"
    }
   ],
   "source": [
    "#Implementa Runge Kutta de orden 4, haz lo mismo que en el caso anterior pero con este método."
   ]
  }
 ],
 "metadata": {
  "kernelspec": {
   "display_name": "Python 3",
   "language": "python",
   "name": "python3"
  },
  "language_info": {
   "codemirror_mode": {
    "name": "ipython",
    "version": 3
   },
   "file_extension": ".py",
   "mimetype": "text/x-python",
   "name": "python",
   "nbconvert_exporter": "python",
   "pygments_lexer": "ipython3",
   "version": "3.7.6"
  }
 },
 "nbformat": 4,
 "nbformat_minor": 2
}
