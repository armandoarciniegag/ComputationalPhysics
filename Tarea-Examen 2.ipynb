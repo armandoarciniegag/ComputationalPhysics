{
 "cells": [
  {
   "cell_type": "markdown",
   "metadata": {},
   "source": [
    "# Tarea-examen 2\n",
    "  \n"
   ]
  },
  {
   "cell_type": "markdown",
   "metadata": {},
   "source": [
    "### Armando Q. Arciniega Gutiérrez"
   ]
  },
  {
   "cell_type": "code",
   "execution_count": 7,
   "metadata": {},
   "outputs": [],
   "source": [
    "import numpy as np \n",
    "import matplotlib.pyplot as plt\n",
    "import pandas as pd\n",
    "from collections import namedtuple  \n",
    "from itertools import zip_longest   \n",
    "from functools import partial"
   ]
  },
  {
   "cell_type": "markdown",
   "metadata": {},
   "source": [
    "## Interpolación "
   ]
  },
  {
   "cell_type": "markdown",
   "metadata": {},
   "source": [
    "1.- Interpolar $$f(x)= 2\\sin(\\pi x/6)$$"
   ]
  },
  {
   "cell_type": "code",
   "execution_count": 188,
   "metadata": {},
   "outputs": [],
   "source": [
    "def interp_cuadr(x, p0, p1, p2):\n",
    "    x0, y0 = p0\n",
    "    x1, y1 = p1\n",
    "    x2, y2 = p2\n",
    "    return y0*((x-x1)*(x-x2)/(x0-x1)*(x0-x2))+y1*((x-x0)*(x-x2)/(x1-x0)*(x1-x2))+y2*((x-x0)*(x-x1)/(x2-x0)*(x2-x1))             #formula de interpolacion cuadratica\n",
    "\n",
    "def interp_cubic(x, p0, p1, p2, p3):\n",
    "    x0, y0 = p0   #pn son los nodos (xn,yn) \n",
    "    x1, y1 = p1\n",
    "    x2, y2 = p2\n",
    "    x3, y3 = p2\n",
    "    \n",
    "    A=((x-x1)*(x-x2)*(x-x3))/((x0-x1)*(x0-x2)*(x0-x3))\n",
    "    B=((x-x0)*(x-x2)*(x-x3))/((x1-x0)*(x1-x2)*(x1-x3))\n",
    "    C=((x-x0)*(x-x1)*(x-x3))/((x2-x0)*(x2-x1)*(x2-x3))\n",
    "    D=((x-x0)*(x-x1)*(x-x2))/((x3-x0)*(x3-x1)*(x3-x2))\n",
    "    \n",
    "    return y0*A+y1*B+y2*C+y3*D"
   ]
  },
  {
   "cell_type": "markdown",
   "metadata": {},
   "source": [
    "a) Use $P_2(x)$ para aproximar f(2) y f(2.4)"
   ]
  },
  {
   "cell_type": "code",
   "execution_count": 192,
   "metadata": {},
   "outputs": [
    {
     "name": "stdout",
     "output_type": "stream",
     "text": [
      "Para x=2 el valor interpolado es = 6.666666666666666\n",
      "Valor real = 1.7320508075688772\n",
      "Error = 4.934615859097789\n"
     ]
    }
   ],
   "source": [
    "a=pi/6.0\n",
    "X = [0.0, 1.0, 3.0]\n",
    "Xa = [a*0.0, a*1.0, a*3.0] #lista auxiliar para multiplicar por pi/6\n",
    "Y = 2*np.sin(Xa)\n",
    "Puntos = list(zip(X,Y)) \n",
    "\n",
    "res = interp_cuadr(2.0, Puntos[0], Puntos[1], Puntos[2])\n",
    "print(\"Para x=2 el valor interpolado es =\", res) \n",
    "print(\"Valor real =\", 2.0*sin(2.0*pi/6))\n",
    "print(\"Error =\", abs(2*sin(2.0*pi/6) - res))"
   ]
  },
  {
   "cell_type": "code",
   "execution_count": 131,
   "metadata": {},
   "outputs": [
    {
     "name": "stdout",
     "output_type": "stream",
     "text": [
      "Para x=2.4 el valor interpolado es= 7.359999999999999\n",
      "Valor real = 1.902113032590307\n",
      "Error = 5.457886967409692\n"
     ]
    }
   ],
   "source": [
    "res = interp_cuadr(2.4, Puntos[0], Puntos[1], Puntos[2])\n",
    "print(\"Para x=2.4 el valor interpolado es=\", res) \n",
    "print(\"Valor real =\", 2*np.sin(2.4*np.pi/6))\n",
    "print(\"Error =\", abs(2*sin(2.4*pi/6) - res))"
   ]
  },
  {
   "cell_type": "markdown",
   "metadata": {},
   "source": [
    "b) Use $P_3(x)$ para aproximar f(2) y f(2.4)"
   ]
  },
  {
   "cell_type": "code",
   "execution_count": 189,
   "metadata": {},
   "outputs": [
    {
     "name": "stdout",
     "output_type": "stream",
     "text": [
      "(0.0, 0.0) (1.0, 0.9999999999999999) (3.0, 2.0) (5.0, 1.0000000000000007)\n"
     ]
    },
    {
     "ename": "ZeroDivisionError",
     "evalue": "float division by zero",
     "output_type": "error",
     "traceback": [
      "\u001b[1;31m---------------------------------------------------------------------------\u001b[0m",
      "\u001b[1;31mZeroDivisionError\u001b[0m                         Traceback (most recent call last)",
      "\u001b[1;32m<ipython-input-189-2c252c44acee>\u001b[0m in \u001b[0;36m<module>\u001b[1;34m\u001b[0m\n\u001b[0;32m      7\u001b[0m \u001b[1;33m\u001b[0m\u001b[0m\n\u001b[0;32m      8\u001b[0m \u001b[0mprint\u001b[0m\u001b[1;33m(\u001b[0m\u001b[0mPuntos1\u001b[0m\u001b[1;33m[\u001b[0m\u001b[1;36m0\u001b[0m\u001b[1;33m]\u001b[0m\u001b[1;33m,\u001b[0m\u001b[0mPuntos1\u001b[0m\u001b[1;33m[\u001b[0m\u001b[1;36m1\u001b[0m\u001b[1;33m]\u001b[0m\u001b[1;33m,\u001b[0m\u001b[0mPuntos1\u001b[0m\u001b[1;33m[\u001b[0m\u001b[1;36m2\u001b[0m\u001b[1;33m]\u001b[0m\u001b[1;33m,\u001b[0m\u001b[0mPuntos1\u001b[0m\u001b[1;33m[\u001b[0m\u001b[1;36m3\u001b[0m\u001b[1;33m]\u001b[0m\u001b[1;33m)\u001b[0m\u001b[1;33m\u001b[0m\u001b[1;33m\u001b[0m\u001b[0m\n\u001b[1;32m----> 9\u001b[1;33m \u001b[0myinterpolada\u001b[0m \u001b[1;33m=\u001b[0m \u001b[0minterp_cubic\u001b[0m\u001b[1;33m(\u001b[0m\u001b[1;36m2.0\u001b[0m\u001b[1;33m,\u001b[0m \u001b[0mPuntos1\u001b[0m\u001b[1;33m[\u001b[0m\u001b[1;36m0\u001b[0m\u001b[1;33m]\u001b[0m\u001b[1;33m,\u001b[0m \u001b[0mPuntos1\u001b[0m\u001b[1;33m[\u001b[0m\u001b[1;36m1\u001b[0m\u001b[1;33m]\u001b[0m\u001b[1;33m,\u001b[0m \u001b[0mPuntos1\u001b[0m\u001b[1;33m[\u001b[0m\u001b[1;36m2\u001b[0m\u001b[1;33m]\u001b[0m\u001b[1;33m,\u001b[0m \u001b[0mPuntos1\u001b[0m\u001b[1;33m[\u001b[0m\u001b[1;36m3\u001b[0m\u001b[1;33m]\u001b[0m\u001b[1;33m)\u001b[0m\u001b[1;33m\u001b[0m\u001b[1;33m\u001b[0m\u001b[0m\n\u001b[0m\u001b[0;32m     10\u001b[0m \u001b[1;31m#\"{:.4}, {:.4}, error = {:.4e}\".format(yinterpolada, 2*(np.sin(np.pi*(4/6))), 2*(np.sin(np.pi*(4/6))) - yinterpolada)\u001b[0m\u001b[1;33m\u001b[0m\u001b[1;33m\u001b[0m\u001b[1;33m\u001b[0m\u001b[0m\n\u001b[0;32m     11\u001b[0m \u001b[0mprint\u001b[0m\u001b[1;33m(\u001b[0m\u001b[1;34m'Aproximación de f(2.4) por interpolación cúbica'\u001b[0m\u001b[1;33m)\u001b[0m\u001b[1;33m\u001b[0m\u001b[1;33m\u001b[0m\u001b[0m\n",
      "\u001b[1;32m<ipython-input-188-0ad126c31b7d>\u001b[0m in \u001b[0;36minterp_cubic\u001b[1;34m(x, p0, p1, p2, p3)\u001b[0m\n\u001b[0;32m     13\u001b[0m     \u001b[0mA\u001b[0m\u001b[1;33m=\u001b[0m\u001b[1;33m(\u001b[0m\u001b[1;33m(\u001b[0m\u001b[0mx\u001b[0m\u001b[1;33m-\u001b[0m\u001b[0mx1\u001b[0m\u001b[1;33m)\u001b[0m\u001b[1;33m*\u001b[0m\u001b[1;33m(\u001b[0m\u001b[0mx\u001b[0m\u001b[1;33m-\u001b[0m\u001b[0mx2\u001b[0m\u001b[1;33m)\u001b[0m\u001b[1;33m*\u001b[0m\u001b[1;33m(\u001b[0m\u001b[0mx\u001b[0m\u001b[1;33m-\u001b[0m\u001b[0mx3\u001b[0m\u001b[1;33m)\u001b[0m\u001b[1;33m)\u001b[0m\u001b[1;33m/\u001b[0m\u001b[1;33m(\u001b[0m\u001b[1;33m(\u001b[0m\u001b[0mx0\u001b[0m\u001b[1;33m-\u001b[0m\u001b[0mx1\u001b[0m\u001b[1;33m)\u001b[0m\u001b[1;33m*\u001b[0m\u001b[1;33m(\u001b[0m\u001b[0mx0\u001b[0m\u001b[1;33m-\u001b[0m\u001b[0mx2\u001b[0m\u001b[1;33m)\u001b[0m\u001b[1;33m*\u001b[0m\u001b[1;33m(\u001b[0m\u001b[0mx0\u001b[0m\u001b[1;33m-\u001b[0m\u001b[0mx3\u001b[0m\u001b[1;33m)\u001b[0m\u001b[1;33m)\u001b[0m\u001b[1;33m\u001b[0m\u001b[1;33m\u001b[0m\u001b[0m\n\u001b[0;32m     14\u001b[0m     \u001b[0mB\u001b[0m\u001b[1;33m=\u001b[0m\u001b[1;33m(\u001b[0m\u001b[1;33m(\u001b[0m\u001b[0mx\u001b[0m\u001b[1;33m-\u001b[0m\u001b[0mx0\u001b[0m\u001b[1;33m)\u001b[0m\u001b[1;33m*\u001b[0m\u001b[1;33m(\u001b[0m\u001b[0mx\u001b[0m\u001b[1;33m-\u001b[0m\u001b[0mx2\u001b[0m\u001b[1;33m)\u001b[0m\u001b[1;33m*\u001b[0m\u001b[1;33m(\u001b[0m\u001b[0mx\u001b[0m\u001b[1;33m-\u001b[0m\u001b[0mx3\u001b[0m\u001b[1;33m)\u001b[0m\u001b[1;33m)\u001b[0m\u001b[1;33m/\u001b[0m\u001b[1;33m(\u001b[0m\u001b[1;33m(\u001b[0m\u001b[0mx1\u001b[0m\u001b[1;33m-\u001b[0m\u001b[0mx0\u001b[0m\u001b[1;33m)\u001b[0m\u001b[1;33m*\u001b[0m\u001b[1;33m(\u001b[0m\u001b[0mx1\u001b[0m\u001b[1;33m-\u001b[0m\u001b[0mx2\u001b[0m\u001b[1;33m)\u001b[0m\u001b[1;33m*\u001b[0m\u001b[1;33m(\u001b[0m\u001b[0mx1\u001b[0m\u001b[1;33m-\u001b[0m\u001b[0mx3\u001b[0m\u001b[1;33m)\u001b[0m\u001b[1;33m)\u001b[0m\u001b[1;33m\u001b[0m\u001b[1;33m\u001b[0m\u001b[0m\n\u001b[1;32m---> 15\u001b[1;33m     \u001b[0mC\u001b[0m\u001b[1;33m=\u001b[0m\u001b[1;33m(\u001b[0m\u001b[1;33m(\u001b[0m\u001b[0mx\u001b[0m\u001b[1;33m-\u001b[0m\u001b[0mx0\u001b[0m\u001b[1;33m)\u001b[0m\u001b[1;33m*\u001b[0m\u001b[1;33m(\u001b[0m\u001b[0mx\u001b[0m\u001b[1;33m-\u001b[0m\u001b[0mx1\u001b[0m\u001b[1;33m)\u001b[0m\u001b[1;33m*\u001b[0m\u001b[1;33m(\u001b[0m\u001b[0mx\u001b[0m\u001b[1;33m-\u001b[0m\u001b[0mx3\u001b[0m\u001b[1;33m)\u001b[0m\u001b[1;33m)\u001b[0m\u001b[1;33m/\u001b[0m\u001b[1;33m(\u001b[0m\u001b[1;33m(\u001b[0m\u001b[0mx2\u001b[0m\u001b[1;33m-\u001b[0m\u001b[0mx0\u001b[0m\u001b[1;33m)\u001b[0m\u001b[1;33m*\u001b[0m\u001b[1;33m(\u001b[0m\u001b[0mx2\u001b[0m\u001b[1;33m-\u001b[0m\u001b[0mx1\u001b[0m\u001b[1;33m)\u001b[0m\u001b[1;33m*\u001b[0m\u001b[1;33m(\u001b[0m\u001b[0mx2\u001b[0m\u001b[1;33m-\u001b[0m\u001b[0mx3\u001b[0m\u001b[1;33m)\u001b[0m\u001b[1;33m)\u001b[0m\u001b[1;33m\u001b[0m\u001b[1;33m\u001b[0m\u001b[0m\n\u001b[0m\u001b[0;32m     16\u001b[0m     \u001b[0mD\u001b[0m\u001b[1;33m=\u001b[0m\u001b[1;33m(\u001b[0m\u001b[1;33m(\u001b[0m\u001b[0mx\u001b[0m\u001b[1;33m-\u001b[0m\u001b[0mx0\u001b[0m\u001b[1;33m)\u001b[0m\u001b[1;33m*\u001b[0m\u001b[1;33m(\u001b[0m\u001b[0mx\u001b[0m\u001b[1;33m-\u001b[0m\u001b[0mx1\u001b[0m\u001b[1;33m)\u001b[0m\u001b[1;33m*\u001b[0m\u001b[1;33m(\u001b[0m\u001b[0mx\u001b[0m\u001b[1;33m-\u001b[0m\u001b[0mx2\u001b[0m\u001b[1;33m)\u001b[0m\u001b[1;33m)\u001b[0m\u001b[1;33m/\u001b[0m\u001b[1;33m(\u001b[0m\u001b[1;33m(\u001b[0m\u001b[0mx3\u001b[0m\u001b[1;33m-\u001b[0m\u001b[0mx0\u001b[0m\u001b[1;33m)\u001b[0m\u001b[1;33m*\u001b[0m\u001b[1;33m(\u001b[0m\u001b[0mx3\u001b[0m\u001b[1;33m-\u001b[0m\u001b[0mx1\u001b[0m\u001b[1;33m)\u001b[0m\u001b[1;33m*\u001b[0m\u001b[1;33m(\u001b[0m\u001b[0mx3\u001b[0m\u001b[1;33m-\u001b[0m\u001b[0mx2\u001b[0m\u001b[1;33m)\u001b[0m\u001b[1;33m)\u001b[0m\u001b[1;33m\u001b[0m\u001b[1;33m\u001b[0m\u001b[0m\n\u001b[0;32m     17\u001b[0m \u001b[1;33m\u001b[0m\u001b[0m\n",
      "\u001b[1;31mZeroDivisionError\u001b[0m: float division by zero"
     ]
    }
   ],
   "source": [
    "a=pi/6.0\n",
    "X = [0.0,1.0,3.0,5.0]\n",
    "X1 = [0.0,1.0*a,3.0*a,5.0*a]  #uso una lista auxiliar para multiplicar por pi/6\n",
    "Y1 = 2.0*np.sin(X1)\n",
    "Puntos1 = list(zip(X,Y1))\n",
    "\n",
    "\n",
    "print(Puntos1[0],Puntos1[1],Puntos1[2],Puntos1[3])\n",
    "yinterpolada = interp_cubic(2.0, Puntos1[0], Puntos1[1], Puntos1[2], Puntos1[3])\n",
    "#\"{:.4}, {:.4}, error = {:.4e}\".format(yinterpolada, 2*(np.sin(np.pi*(4/6))), 2*(np.sin(np.pi*(4/6))) - yinterpolada)\n",
    "print('Aproximación de f(2.4) por interpolación cúbica')\n",
    "print('f(x) interpolada =',yinterpolada) \n",
    "print('f(x) real = ',2*(sin(pi*(2.0/6.0))))\n",
    "print('Error =  ', 2*(sin(pi*2.0/6.0)) - yinterpolada)"
   ]
  },
  {
   "cell_type": "markdown",
   "metadata": {},
   "source": [
    "c) Use $P_2(x)$ para aproximar f(3.5) y f(4)"
   ]
  },
  {
   "cell_type": "code",
   "execution_count": 144,
   "metadata": {},
   "outputs": [
    {
     "name": "stdout",
     "output_type": "stream",
     "text": [
      "Para x=3.5 el valor interpolado es = 8.166666666666666\n",
      "Valor real = 1.9318516525781366\n",
      "Error = 6.23481501408853\n"
     ]
    }
   ],
   "source": [
    "a=pi/6\n",
    "X = [0.0, 1.0, 3.0]\n",
    "Xa = [a*0.0, a*1.0, a*3.0]\n",
    "Y = 2*np.sin(Xa)\n",
    "Puntos = list(zip(X,Y)) \n",
    "\n",
    "res = interp_cuadr(3.5, Puntos[0], Puntos[1], Puntos[2])\n",
    "print(\"Para x=3.5 el valor interpolado es =\", res) \n",
    "print(\"Valor real =\", 2.0*sin(3.5*pi/6))\n",
    "print(\"Error =\", abs(2*sin(3.5*pi/6) - res))"
   ]
  },
  {
   "cell_type": "code",
   "execution_count": 145,
   "metadata": {},
   "outputs": [
    {
     "name": "stdout",
     "output_type": "stream",
     "text": [
      "Para x=4.0 el valor interpolado es = 8.0\n",
      "Valor real = 1.7320508075688774\n",
      "Error = 6.267949192431122\n"
     ]
    }
   ],
   "source": [
    "res = interp_cuadr(4.0, Puntos[0], Puntos[1], Puntos[2])\n",
    "print(\"Para x=4.0 el valor interpolado es =\", res) \n",
    "print(\"Valor real =\", 2.0*sin(4.0*pi/6))\n",
    "print(\"Error =\", abs(2*sin(4.0*pi/6) - res))"
   ]
  },
  {
   "cell_type": "markdown",
   "metadata": {},
   "source": [
    "d) Use $P_3(x)$ para aproximar f(3.5) y f(4.0)"
   ]
  },
  {
   "cell_type": "code",
   "execution_count": 159,
   "metadata": {},
   "outputs": [
    {
     "name": "stdout",
     "output_type": "stream",
     "text": [
      "[(0.0, 0.0), (1.0, 0.9999999999999999), (3.0, 2.0), (5.0, 1.0000000000000007)]\n"
     ]
    },
    {
     "ename": "ZeroDivisionError",
     "evalue": "float division by zero",
     "output_type": "error",
     "traceback": [
      "\u001b[1;31m---------------------------------------------------------------------------\u001b[0m",
      "\u001b[1;31mZeroDivisionError\u001b[0m                         Traceback (most recent call last)",
      "\u001b[1;32m<ipython-input-159-763b208a6bc5>\u001b[0m in \u001b[0;36m<module>\u001b[1;34m\u001b[0m\n\u001b[0;32m      6\u001b[0m \u001b[1;33m\u001b[0m\u001b[0m\n\u001b[0;32m      7\u001b[0m \u001b[0mprint\u001b[0m\u001b[1;33m(\u001b[0m\u001b[0mPuntos1\u001b[0m\u001b[1;33m)\u001b[0m\u001b[1;33m\u001b[0m\u001b[1;33m\u001b[0m\u001b[0m\n\u001b[1;32m----> 8\u001b[1;33m \u001b[0myinterpolada\u001b[0m \u001b[1;33m=\u001b[0m \u001b[0minterp_cubic\u001b[0m\u001b[1;33m(\u001b[0m\u001b[1;36m3.5\u001b[0m\u001b[1;33m,\u001b[0m \u001b[0mPuntos1\u001b[0m\u001b[1;33m[\u001b[0m\u001b[1;36m0\u001b[0m\u001b[1;33m]\u001b[0m\u001b[1;33m,\u001b[0m \u001b[0mPuntos1\u001b[0m\u001b[1;33m[\u001b[0m\u001b[1;36m1\u001b[0m\u001b[1;33m]\u001b[0m\u001b[1;33m,\u001b[0m \u001b[0mPuntos1\u001b[0m\u001b[1;33m[\u001b[0m\u001b[1;36m2\u001b[0m\u001b[1;33m]\u001b[0m\u001b[1;33m,\u001b[0m \u001b[0mPuntos1\u001b[0m\u001b[1;33m[\u001b[0m\u001b[1;36m3\u001b[0m\u001b[1;33m]\u001b[0m\u001b[1;33m)\u001b[0m\u001b[1;33m\u001b[0m\u001b[1;33m\u001b[0m\u001b[0m\n\u001b[0m\u001b[0;32m      9\u001b[0m \u001b[1;31m#\"{:.4}, {:.4}, error = {:.4e}\".format(yinterpolada, 2*(np.sin(np.pi*(4/6))), 2*(np.sin(np.pi*(4/6))) - yinterpolada)\u001b[0m\u001b[1;33m\u001b[0m\u001b[1;33m\u001b[0m\u001b[1;33m\u001b[0m\u001b[0m\n\u001b[0;32m     10\u001b[0m \u001b[0mprint\u001b[0m\u001b[1;33m(\u001b[0m\u001b[1;34m'Aproximación de f(3.5) por interpolación cúbica'\u001b[0m\u001b[1;33m)\u001b[0m\u001b[1;33m\u001b[0m\u001b[1;33m\u001b[0m\u001b[0m\n",
      "\u001b[1;32m<ipython-input-105-88592e188bc4>\u001b[0m in \u001b[0;36minterp_cubic\u001b[1;34m(x, p0, p1, p2, p3)\u001b[0m\n\u001b[0;32m     13\u001b[0m     \u001b[0mA\u001b[0m\u001b[1;33m=\u001b[0m\u001b[1;33m(\u001b[0m\u001b[1;33m(\u001b[0m\u001b[0mx\u001b[0m\u001b[1;33m-\u001b[0m\u001b[0mx1\u001b[0m\u001b[1;33m)\u001b[0m\u001b[1;33m*\u001b[0m\u001b[1;33m(\u001b[0m\u001b[0mx\u001b[0m\u001b[1;33m-\u001b[0m\u001b[0mx2\u001b[0m\u001b[1;33m)\u001b[0m\u001b[1;33m*\u001b[0m\u001b[1;33m(\u001b[0m\u001b[0mx\u001b[0m\u001b[1;33m-\u001b[0m\u001b[0mx3\u001b[0m\u001b[1;33m)\u001b[0m\u001b[1;33m)\u001b[0m\u001b[1;33m/\u001b[0m\u001b[1;33m(\u001b[0m\u001b[1;33m(\u001b[0m\u001b[0mx0\u001b[0m\u001b[1;33m-\u001b[0m\u001b[0mx1\u001b[0m\u001b[1;33m)\u001b[0m\u001b[1;33m*\u001b[0m\u001b[1;33m(\u001b[0m\u001b[0mx0\u001b[0m\u001b[1;33m-\u001b[0m\u001b[0mx2\u001b[0m\u001b[1;33m)\u001b[0m\u001b[1;33m*\u001b[0m\u001b[1;33m(\u001b[0m\u001b[0mx0\u001b[0m\u001b[1;33m-\u001b[0m\u001b[0mx3\u001b[0m\u001b[1;33m)\u001b[0m\u001b[1;33m)\u001b[0m\u001b[1;33m\u001b[0m\u001b[1;33m\u001b[0m\u001b[0m\n\u001b[0;32m     14\u001b[0m     \u001b[0mB\u001b[0m\u001b[1;33m=\u001b[0m\u001b[1;33m(\u001b[0m\u001b[1;33m(\u001b[0m\u001b[0mx\u001b[0m\u001b[1;33m-\u001b[0m\u001b[0mx0\u001b[0m\u001b[1;33m)\u001b[0m\u001b[1;33m*\u001b[0m\u001b[1;33m(\u001b[0m\u001b[0mx\u001b[0m\u001b[1;33m-\u001b[0m\u001b[0mx2\u001b[0m\u001b[1;33m)\u001b[0m\u001b[1;33m*\u001b[0m\u001b[1;33m(\u001b[0m\u001b[0mx\u001b[0m\u001b[1;33m-\u001b[0m\u001b[0mx3\u001b[0m\u001b[1;33m)\u001b[0m\u001b[1;33m)\u001b[0m\u001b[1;33m/\u001b[0m\u001b[1;33m(\u001b[0m\u001b[1;33m(\u001b[0m\u001b[0mx1\u001b[0m\u001b[1;33m-\u001b[0m\u001b[0mx0\u001b[0m\u001b[1;33m)\u001b[0m\u001b[1;33m*\u001b[0m\u001b[1;33m(\u001b[0m\u001b[0mx1\u001b[0m\u001b[1;33m-\u001b[0m\u001b[0mx2\u001b[0m\u001b[1;33m)\u001b[0m\u001b[1;33m*\u001b[0m\u001b[1;33m(\u001b[0m\u001b[0mx1\u001b[0m\u001b[1;33m-\u001b[0m\u001b[0mx3\u001b[0m\u001b[1;33m)\u001b[0m\u001b[1;33m)\u001b[0m\u001b[1;33m\u001b[0m\u001b[1;33m\u001b[0m\u001b[0m\n\u001b[1;32m---> 15\u001b[1;33m     \u001b[0mC\u001b[0m\u001b[1;33m=\u001b[0m\u001b[1;33m(\u001b[0m\u001b[1;33m(\u001b[0m\u001b[0mx\u001b[0m\u001b[1;33m-\u001b[0m\u001b[0mx0\u001b[0m\u001b[1;33m)\u001b[0m\u001b[1;33m*\u001b[0m\u001b[1;33m(\u001b[0m\u001b[0mx\u001b[0m\u001b[1;33m-\u001b[0m\u001b[0mx1\u001b[0m\u001b[1;33m)\u001b[0m\u001b[1;33m*\u001b[0m\u001b[1;33m(\u001b[0m\u001b[0mx\u001b[0m\u001b[1;33m-\u001b[0m\u001b[0mx3\u001b[0m\u001b[1;33m)\u001b[0m\u001b[1;33m)\u001b[0m\u001b[1;33m/\u001b[0m\u001b[1;33m(\u001b[0m\u001b[1;33m(\u001b[0m\u001b[0mx2\u001b[0m\u001b[1;33m-\u001b[0m\u001b[0mx0\u001b[0m\u001b[1;33m)\u001b[0m\u001b[1;33m*\u001b[0m\u001b[1;33m(\u001b[0m\u001b[0mx2\u001b[0m\u001b[1;33m-\u001b[0m\u001b[0mx1\u001b[0m\u001b[1;33m)\u001b[0m\u001b[1;33m*\u001b[0m\u001b[1;33m(\u001b[0m\u001b[0mx2\u001b[0m\u001b[1;33m-\u001b[0m\u001b[0mx3\u001b[0m\u001b[1;33m)\u001b[0m\u001b[1;33m)\u001b[0m\u001b[1;33m\u001b[0m\u001b[1;33m\u001b[0m\u001b[0m\n\u001b[0m\u001b[0;32m     16\u001b[0m     \u001b[0mD\u001b[0m\u001b[1;33m=\u001b[0m\u001b[1;33m(\u001b[0m\u001b[1;33m(\u001b[0m\u001b[0mx\u001b[0m\u001b[1;33m-\u001b[0m\u001b[0mx0\u001b[0m\u001b[1;33m)\u001b[0m\u001b[1;33m*\u001b[0m\u001b[1;33m(\u001b[0m\u001b[0mx\u001b[0m\u001b[1;33m-\u001b[0m\u001b[0mx1\u001b[0m\u001b[1;33m)\u001b[0m\u001b[1;33m*\u001b[0m\u001b[1;33m(\u001b[0m\u001b[0mx\u001b[0m\u001b[1;33m-\u001b[0m\u001b[0mx2\u001b[0m\u001b[1;33m)\u001b[0m\u001b[1;33m)\u001b[0m\u001b[1;33m/\u001b[0m\u001b[1;33m(\u001b[0m\u001b[1;33m(\u001b[0m\u001b[0mx3\u001b[0m\u001b[1;33m-\u001b[0m\u001b[0mx0\u001b[0m\u001b[1;33m)\u001b[0m\u001b[1;33m*\u001b[0m\u001b[1;33m(\u001b[0m\u001b[0mx3\u001b[0m\u001b[1;33m-\u001b[0m\u001b[0mx1\u001b[0m\u001b[1;33m)\u001b[0m\u001b[1;33m*\u001b[0m\u001b[1;33m(\u001b[0m\u001b[0mx3\u001b[0m\u001b[1;33m-\u001b[0m\u001b[0mx2\u001b[0m\u001b[1;33m)\u001b[0m\u001b[1;33m)\u001b[0m\u001b[1;33m\u001b[0m\u001b[1;33m\u001b[0m\u001b[0m\n\u001b[0;32m     17\u001b[0m \u001b[1;33m\u001b[0m\u001b[0m\n",
      "\u001b[1;31mZeroDivisionError\u001b[0m: float division by zero"
     ]
    }
   ],
   "source": [
    "a=pi/6.0\n",
    "X = [0.0,1.0,3.0,5.0]\n",
    "X2 = [0.0,1.0*a,3.0*a,5.0*a]\n",
    "Y2 = 2.0*np.sin(X2)\n",
    "Puntos1 = list(zip(X,Y2))\n",
    "        \n",
    "print(Puntos1)\n",
    "yinterpolada = interp_cubic(3.5, Puntos1[0], Puntos1[1], Puntos1[2], Puntos1[3])\n",
    "#\"{:.4}, {:.4}, error = {:.4e}\".format(yinterpolada, 2*(np.sin(np.pi*(4/6))), 2*(np.sin(np.pi*(4/6))) - yinterpolada)\n",
    "print('Aproximación de f(3.5) por interpolación cúbica')\n",
    "print('f(x) interpolada =',yinterpolada) \n",
    "print('f(x) real = ', 2*(sin(pi*3.5/6)))\n",
    "print('Error =  ', 2*(sin(pi*3.5/6) - yinterpolada))"
   ]
  },
  {
   "cell_type": "markdown",
   "metadata": {},
   "source": [
    "Para x=4 vuelve a haber un error. \n",
    "Parece que mi función de interpolación cúbica tiene un error y parece que divide por cero en alguna parte pero no he encontrado la forma de arreglarlo. "
   ]
  },
  {
   "cell_type": "markdown",
   "metadata": {},
   "source": [
    "### 2.- a) Calcula la tabla de diferencias divididas "
   ]
  },
  {
   "cell_type": "markdown",
   "metadata": {},
   "source": [
    "#### Se crean los nodos"
   ]
  },
  {
   "cell_type": "code",
   "execution_count": 12,
   "metadata": {},
   "outputs": [
    {
     "data": {
      "text/html": [
       "<style  type=\"text/css\" >\n",
       "</style><table id=\"T_c12e3462_a81f_11ea_a164_c5533667b6a8\" ><thead>    <tr>        <th class=\"blank level0\" ></th>        <th class=\"col_heading level0 col0\" >0</th>        <th class=\"col_heading level0 col1\" >1</th>        <th class=\"col_heading level0 col2\" >2</th>        <th class=\"col_heading level0 col3\" >3</th>        <th class=\"col_heading level0 col4\" >4</th>    </tr></thead><tbody>\n",
       "                <tr>\n",
       "                        <th id=\"T_c12e3462_a81f_11ea_a164_c5533667b6a8level0_row0\" class=\"row_heading level0 row0\" >$x$</th>\n",
       "                        <td id=\"T_c12e3462_a81f_11ea_a164_c5533667b6a8row0_col0\" class=\"data row0 col0\" >1</td>\n",
       "                        <td id=\"T_c12e3462_a81f_11ea_a164_c5533667b6a8row0_col1\" class=\"data row0 col1\" >2</td>\n",
       "                        <td id=\"T_c12e3462_a81f_11ea_a164_c5533667b6a8row0_col2\" class=\"data row0 col2\" >3</td>\n",
       "                        <td id=\"T_c12e3462_a81f_11ea_a164_c5533667b6a8row0_col3\" class=\"data row0 col3\" >4</td>\n",
       "                        <td id=\"T_c12e3462_a81f_11ea_a164_c5533667b6a8row0_col4\" class=\"data row0 col4\" >5</td>\n",
       "            </tr>\n",
       "            <tr>\n",
       "                        <th id=\"T_c12e3462_a81f_11ea_a164_c5533667b6a8level0_row1\" class=\"row_heading level0 row1\" >$3.6/x$</th>\n",
       "                        <td id=\"T_c12e3462_a81f_11ea_a164_c5533667b6a8row1_col0\" class=\"data row1 col0\" >3.6</td>\n",
       "                        <td id=\"T_c12e3462_a81f_11ea_a164_c5533667b6a8row1_col1\" class=\"data row1 col1\" >1.8</td>\n",
       "                        <td id=\"T_c12e3462_a81f_11ea_a164_c5533667b6a8row1_col2\" class=\"data row1 col2\" >1.2</td>\n",
       "                        <td id=\"T_c12e3462_a81f_11ea_a164_c5533667b6a8row1_col3\" class=\"data row1 col3\" >0.9</td>\n",
       "                        <td id=\"T_c12e3462_a81f_11ea_a164_c5533667b6a8row1_col4\" class=\"data row1 col4\" >0.72</td>\n",
       "            </tr>\n",
       "    </tbody></table>"
      ],
      "text/plain": [
       "<pandas.io.formats.style.Styler at 0x1f7b6c2be08>"
      ]
     },
     "execution_count": 12,
     "metadata": {},
     "output_type": "execute_result"
    }
   ],
   "source": [
    "X1 = [i+1 for i in range(5)] \n",
    "df_poli = pd.DataFrame([[x, 3.6/x] for x in X1], columns=[\"$x$\", \"$3.6/x$\"]).transpose().style.format(\"{:g}\")\n",
    "df_poli"
   ]
  },
  {
   "cell_type": "markdown",
   "metadata": {},
   "source": [
    "#### Tabla de diferencias divididas"
   ]
  },
  {
   "cell_type": "code",
   "execution_count": 13,
   "metadata": {},
   "outputs": [
    {
     "data": {
      "text/html": [
       "<div>\n",
       "<style scoped>\n",
       "    .dataframe tbody tr th:only-of-type {\n",
       "        vertical-align: middle;\n",
       "    }\n",
       "\n",
       "    .dataframe tbody tr th {\n",
       "        vertical-align: top;\n",
       "    }\n",
       "\n",
       "    .dataframe thead th {\n",
       "        text-align: right;\n",
       "    }\n",
       "</style>\n",
       "<table border=\"1\" class=\"dataframe\">\n",
       "  <thead>\n",
       "    <tr style=\"text-align: right;\">\n",
       "      <th></th>\n",
       "      <th>$x_i$</th>\n",
       "      <th>$f(x_i)$</th>\n",
       "      <th>$Df(x_i)$</th>\n",
       "      <th>$D^2 f(x_i)$</th>\n",
       "      <th>$D^3 f(x_i)$</th>\n",
       "      <th>$D^4 f(x_i)$</th>\n",
       "    </tr>\n",
       "  </thead>\n",
       "  <tbody>\n",
       "    <tr>\n",
       "      <th>0</th>\n",
       "      <td>1</td>\n",
       "      <td>3.60</td>\n",
       "      <td>-1.80</td>\n",
       "      <td>0.60</td>\n",
       "      <td>-0.15</td>\n",
       "      <td>0.03</td>\n",
       "    </tr>\n",
       "    <tr>\n",
       "      <th>1</th>\n",
       "      <td>2</td>\n",
       "      <td>1.80</td>\n",
       "      <td>-0.60</td>\n",
       "      <td>0.15</td>\n",
       "      <td>-0.03</td>\n",
       "      <td>NaN</td>\n",
       "    </tr>\n",
       "    <tr>\n",
       "      <th>2</th>\n",
       "      <td>3</td>\n",
       "      <td>1.20</td>\n",
       "      <td>-0.30</td>\n",
       "      <td>0.06</td>\n",
       "      <td>NaN</td>\n",
       "      <td>NaN</td>\n",
       "    </tr>\n",
       "    <tr>\n",
       "      <th>3</th>\n",
       "      <td>4</td>\n",
       "      <td>0.90</td>\n",
       "      <td>-0.18</td>\n",
       "      <td>NaN</td>\n",
       "      <td>NaN</td>\n",
       "      <td>NaN</td>\n",
       "    </tr>\n",
       "    <tr>\n",
       "      <th>4</th>\n",
       "      <td>5</td>\n",
       "      <td>0.72</td>\n",
       "      <td>NaN</td>\n",
       "      <td>NaN</td>\n",
       "      <td>NaN</td>\n",
       "      <td>NaN</td>\n",
       "    </tr>\n",
       "  </tbody>\n",
       "</table>\n",
       "</div>"
      ],
      "text/plain": [
       "   $x_i$  $f(x_i)$  $Df(x_i)$  $D^2 f(x_i)$  $D^3 f(x_i)$  $D^4 f(x_i)$\n",
       "0      1      3.60      -1.80          0.60         -0.15          0.03\n",
       "1      2      1.80      -0.60          0.15         -0.03           NaN\n",
       "2      3      1.20      -0.30          0.06           NaN           NaN\n",
       "3      4      0.90      -0.18           NaN           NaN           NaN\n",
       "4      5      0.72        NaN           NaN           NaN           NaN"
      ]
     },
     "execution_count": 13,
     "metadata": {},
     "output_type": "execute_result"
    }
   ],
   "source": [
    "f_i = [(3.6/X1[i]) for i in range(5)]\n",
    "f_ii = [(f_i[i+1] - f_i[i]) / (X1[i+1] - X1[i]) for i in range(4)]\n",
    "f_iii = [(f_ii[i+1] - f_ii[i]) / (X1[i+2] - X1[i]) for i in range(3)]\n",
    "f_iiii = [(f_iii[i+1] - f_iii[i]) / (X1[i+3] - X1[i]) for i in range(2)]\n",
    "f_iiiii = [(f_iiii[i+1] - f_iiii[i]) / (X1[i+4] - X1[i]) for i in range(1)]\n",
    "\n",
    "ffdat = pd.DataFrame(list(zip_longest(f_i, f_ii, f_iii, f_iiii, f_iiiii)), \n",
    "          index=range(5), columns=[\"$f(x_i)$\", \"$Df(x_i)$\", \"$D^2 f(x_i)$\", \"$D^3 f(x_i)$\", \"$D^4 f(x_i)$\"])\n",
    "ffdat.insert(0, \"$x_i$\", X1) \n",
    "ffdat"
   ]
  },
  {
   "cell_type": "markdown",
   "metadata": {},
   "source": [
    "### b) Escribe los polinomios interpolados de Newton $P_1(x)$, $P_2(x)$, $P_3(x)$, $P_4(x)$"
   ]
  },
  {
   "cell_type": "markdown",
   "metadata": {},
   "source": [
    "##### Los polinomios interpolados de Newton"
   ]
  },
  {
   "cell_type": "markdown",
   "metadata": {},
   "source": [
    "\\begin{align}\n",
    "P_1(x) &= 3.6 -  1.8(x - 1)\\\\\n",
    "P_2(x) &= P_1(x) + 0.6 (x - 1) (x - 2)\\\\\n",
    "P_3(x) &= P_2(x) - 0.15 (x - 1) (x - 2) (x - 3)\\\\\n",
    "P_4(x) &= P_3(x) + 0.03 (x - 1) (x - 2) (x - 3) (x - 4)\\\\\n",
    "\\end{align}"
   ]
  },
  {
   "cell_type": "markdown",
   "metadata": {},
   "source": [
    "c) Calcule los valores de los polinomios hallados en el inciso (b) en los puntos x que se dan. $x=2.5, 3.5$"
   ]
  },
  {
   "cell_type": "code",
   "execution_count": 194,
   "metadata": {},
   "outputs": [],
   "source": [
    "a=3.6    \n",
    "b=-1.8\n",
    "c=0.6\n",
    "d=-0.15\n",
    "e=0.03   # a,b,c,d,e son los coeficientes calculados para los Pn(x)\n",
    "def P1(x):\n",
    "    return a+ b*(x-1)\n",
    "def P2(x):\n",
    "    return P1(x)+c*(x-1)*(x-2)\n",
    "def P3(x):\n",
    "    return P2(x)+d*(x-1)*(x-2)*(x-3)\n",
    "def P4(x):\n",
    "    return P3(x)+e*(x-1)*(x-2)*(x-3)*(x-4)"
   ]
  },
  {
   "cell_type": "markdown",
   "metadata": {},
   "source": [
    "Para x=2.5"
   ]
  },
  {
   "cell_type": "code",
   "execution_count": 15,
   "metadata": {},
   "outputs": [
    {
     "name": "stdout",
     "output_type": "stream",
     "text": [
      "P1(2.5)= 0.8999999999999999\n",
      "P2(2.5)= 1.3499999999999999\n",
      "P3(2.5)= 1.4062499999999998\n",
      "P4(2.5)= 1.4231249999999998\n"
     ]
    }
   ],
   "source": [
    "print(\"P1(2.5)=\",P1(2.5))\n",
    "print(\"P2(2.5)=\",P2(2.5))\n",
    "print(\"P3(2.5)=\",P3(2.5))\n",
    "print(\"P4(2.5)=\",P4(2.5))"
   ]
  },
  {
   "cell_type": "markdown",
   "metadata": {},
   "source": [
    "Para x=3.5"
   ]
  },
  {
   "cell_type": "code",
   "execution_count": 16,
   "metadata": {},
   "outputs": [
    {
     "name": "stdout",
     "output_type": "stream",
     "text": [
      "P1(2.5)= -0.8999999999999999\n",
      "P2(2.5)= 1.35\n",
      "P3(2.5)= 1.06875\n",
      "P4(2.5)= 1.0406250000000001\n"
     ]
    }
   ],
   "source": [
    "print(\"P1(2.5)=\",P1(3.5))\n",
    "print(\"P2(2.5)=\",P2(3.5))\n",
    "print(\"P3(2.5)=\",P3(3.5))\n",
    "print(\"P4(2.5)=\",P4(3.5))"
   ]
  },
  {
   "cell_type": "markdown",
   "metadata": {},
   "source": [
    "## Integración "
   ]
  },
  {
   "cell_type": "markdown",
   "metadata": {},
   "source": [
    "### 4.- Integración numérica"
   ]
  },
  {
   "cell_type": "markdown",
   "metadata": {},
   "source": [
    "Para este ejercicio primero calcule el valor de la integral principal y después hice las correspondientes operaciones para obtener $irms$"
   ]
  },
  {
   "cell_type": "code",
   "execution_count": 195,
   "metadata": {},
   "outputs": [],
   "source": [
    "def simpson(f, a, b, n):\n",
    "    #calculamos h\n",
    "    h=(b-a)/n  #0.005\n",
    "    suma = 0.0\n",
    "    for i in range(1, n):\n",
    "        #calculamos la x\n",
    "        #x=a-h+(2*h*i)\n",
    "        x=a+i*h\n",
    "        \n",
    "        if(i % 2 == 0):\n",
    "            suma = suma + 2 * fx(x, f)\n",
    "        \n",
    "        else:\n",
    "            suma = suma + 4 * fx(x, f)\n",
    "    \n",
    "    suma = suma + fx(a, f) + fx(b, f)\n",
    "    result = suma * (h / 3)\n",
    "    return (result)\n"
   ]
  },
  {
   "cell_type": "code",
   "execution_count": 198,
   "metadata": {},
   "outputs": [],
   "source": [
    "i0=1 #[A]\n",
    "t0=0.05 #[seg]\n",
    "b=0.2\n",
    "def fx(x, f):          #esta funcion auxiliar evalua la funcion f sobre la variable x\n",
    "    return eval(f)   \n",
    "\n",
    "f = \"(i0*(np.sin((np.pi*x)/t0)-b*(np.sin((2*np.pi*x)/t0))))**2\"    "
   ]
  },
  {
   "cell_type": "code",
   "execution_count": 202,
   "metadata": {},
   "outputs": [
    {
     "name": "stdout",
     "output_type": "stream",
     "text": [
      "El valor de la integral i_rms es: 0.7211102550927978\n",
      "El error con n=10 es: 1.1102230246251565e-16\n",
      "El error con n=100 es: 1.1102230246251565e-16\n",
      "El error con n=1000 es: 2.220446049250313e-16\n"
     ]
    }
   ],
   "source": [
    "real=0.721110255092798  #obtenido de mathematica\n",
    "i10=simpson(f,0,0.05,10)\n",
    "i100=simpson(f,0,0.05,100)\n",
    "i1000=simpson(f,0,0.05,1000)  #i es el valor de la integral \n",
    "\n",
    "irms10=np.sqrt((1/t0)*i10)\n",
    "irms100=np.sqrt((1/t0)*i100)\n",
    "irms1000=np.sqrt((1/t0)*i1000)  #irms es la función completa\n",
    "print(\"El valor de la integral i_rms es:\", irms1000)\n",
    "print(\"El error con n=10 es:\", abs(irms10-real))\n",
    "print(\"El error con n=100 es:\", abs(irms100-real))\n",
    "print(\"El error con n=1000 es:\", abs(irms1000-real))"
   ]
  },
  {
   "cell_type": "markdown",
   "metadata": {},
   "source": [
    "### 6.- Constante de Stephan Boltzman"
   ]
  },
  {
   "cell_type": "markdown",
   "metadata": {},
   "source": [
    "Reescribiendo la integral \n",
    "$$\n",
    "\\int_0^\\infty \\frac{x^3}{e^{x}-1} dx =  \\int_0^\\infty x^3(e^x-1)^{-1} dx  = \\int_0^\\infty \\frac{x^3 e^{-x}}{1-e^{-x}} dx  = \\frac{\\pi^4}{15} = 6.493939402266828...\n",
    "$$"
   ]
  },
  {
   "cell_type": "markdown",
   "metadata": {},
   "source": [
    "Se modificó la forma de la función en los difententes métodos ya que es muy inestable por en el límite al infinito."
   ]
  },
  {
   "cell_type": "code",
   "execution_count": 20,
   "metadata": {},
   "outputs": [
    {
     "name": "stdout",
     "output_type": "stream",
     "text": [
      "3.2487926178000746\n",
      "El error con el método del trapecio es 2.248991897458323 un error muy grande\n",
      "nan\n"
     ]
    },
    {
     "name": "stderr",
     "output_type": "stream",
     "text": [
      "C:\\Users\\arman\\anaconda3\\lib\\site-packages\\ipykernel_launcher.py:32: RuntimeWarning: invalid value encountered in double_scalars\n"
     ]
    }
   ],
   "source": [
    "kB =1.3806488e-23 #[J/K]\n",
    "c= 299792458 #[m/s]\n",
    "h=1.054571818e-34 #[Js]\n",
    "\n",
    "from numpy import *\n",
    "\n",
    "def trapecio(f,a,b,N):\n",
    "    h= (b-a)/N\n",
    "    s=0.0  #s=0.5*f(a)+0.5*f(b) metemos esto en el for\n",
    "    for k in range(1,N//2+1):\n",
    "        s+=f(a+(2*k-1)*h)\n",
    "    return s*h\n",
    "\n",
    "def Romberg(f,a,b,epsilon=1e-6):\n",
    "    I = (b-a)/2*(f(b)+f(a)) #primer termino es trapecio\n",
    "    eps=1\n",
    "    N=1\n",
    "    R =zeros((10000,10000)) \n",
    "    R[0,0]=I\n",
    "    i=0\n",
    "    while eps>epsilon:\n",
    "        N*=2\n",
    "        i+=1\n",
    "        R[i,0] = R[i-1,0]/2 + trapecio(f,a,b,N)\n",
    "        for m in range(i):\n",
    "            R[i,m+1] =R[i,m] + 1/(4**(m+1)-1)*(R[i,m] - R[i-1,m])\n",
    "            eps = abs(R[i,m+1]-R[i-1,m])\n",
    "    I= R[i,m+1]\n",
    "    return I\n",
    "\n",
    "def f(x):\n",
    "    return np.exp(-x)*(x**3)/(1-np.exp(-x))\n",
    "  \n",
    "Itrap=trapecio(f,0,1000,2000)\n",
    "\n",
    "\n",
    "\n",
    "print(Itrap) #Horrible\n",
    "print(\"El error con el método del trapecio es\", abs((pi**4/15)-trapecio(f,0,10000,2000)), \"un error muy grande\" )\n",
    "print(Romberg(f,0,10,1e-16))"
   ]
  },
  {
   "cell_type": "code",
   "execution_count": 21,
   "metadata": {},
   "outputs": [],
   "source": [
    "#función de la profesora\n",
    "def simpson(f, a, b, N):\n",
    "    h=0.01    #(b-a)/N\n",
    "    k=0.0\n",
    "    x=a+h\n",
    "    for i in range(1, N/2):\n",
    "        x += 2*h\n",
    "        k += 4*f(x)\n",
    "    for i in range(2,(N/2)-1):\n",
    "        x += 2*h\n",
    "        k += 2*f(x)\n",
    "    return (h/3)*(f(a)+f(b)+k)\n"
   ]
  },
  {
   "cell_type": "code",
   "execution_count": 203,
   "metadata": {},
   "outputs": [
    {
     "ename": "TypeError",
     "evalue": "eval() arg 1 must be a string, bytes or code object",
     "output_type": "error",
     "traceback": [
      "\u001b[1;31m---------------------------------------------------------------------------\u001b[0m",
      "\u001b[1;31mTypeError\u001b[0m                                 Traceback (most recent call last)",
      "\u001b[1;32m<ipython-input-203-e316af88c144>\u001b[0m in \u001b[0;36m<module>\u001b[1;34m\u001b[0m\n\u001b[0;32m      2\u001b[0m     \u001b[1;32mreturn\u001b[0m \u001b[1;33m(\u001b[0m\u001b[0mx\u001b[0m\u001b[1;33m**\u001b[0m\u001b[1;36m3\u001b[0m\u001b[1;33m)\u001b[0m\u001b[1;33m*\u001b[0m\u001b[1;33m(\u001b[0m\u001b[0mexp\u001b[0m\u001b[1;33m(\u001b[0m\u001b[0mx\u001b[0m\u001b[1;33m)\u001b[0m\u001b[1;33m-\u001b[0m\u001b[1;36m1\u001b[0m\u001b[1;33m)\u001b[0m\u001b[1;33m**\u001b[0m\u001b[1;33m(\u001b[0m\u001b[1;33m-\u001b[0m\u001b[1;36m1\u001b[0m\u001b[1;33m)\u001b[0m\u001b[1;33m\u001b[0m\u001b[1;33m\u001b[0m\u001b[0m\n\u001b[0;32m      3\u001b[0m \u001b[1;33m\u001b[0m\u001b[0m\n\u001b[1;32m----> 4\u001b[1;33m \u001b[0mprint\u001b[0m\u001b[1;33m(\u001b[0m\u001b[0msimpson\u001b[0m\u001b[1;33m(\u001b[0m\u001b[0mf\u001b[0m\u001b[1;33m,\u001b[0m\u001b[1;36m0\u001b[0m\u001b[1;33m,\u001b[0m\u001b[1;36m1000\u001b[0m\u001b[1;33m,\u001b[0m\u001b[1;36m1000\u001b[0m\u001b[1;33m)\u001b[0m\u001b[1;33m)\u001b[0m\u001b[1;33m\u001b[0m\u001b[1;33m\u001b[0m\u001b[0m\n\u001b[0m\u001b[0;32m      5\u001b[0m \u001b[1;33m\u001b[0m\u001b[0m\n",
      "\u001b[1;32m<ipython-input-195-aa08f6395530>\u001b[0m in \u001b[0;36msimpson\u001b[1;34m(f, a, b, n)\u001b[0m\n\u001b[0;32m     12\u001b[0m \u001b[1;33m\u001b[0m\u001b[0m\n\u001b[0;32m     13\u001b[0m         \u001b[1;32melse\u001b[0m\u001b[1;33m:\u001b[0m\u001b[1;33m\u001b[0m\u001b[1;33m\u001b[0m\u001b[0m\n\u001b[1;32m---> 14\u001b[1;33m             \u001b[0msuma\u001b[0m \u001b[1;33m=\u001b[0m \u001b[0msuma\u001b[0m \u001b[1;33m+\u001b[0m \u001b[1;36m4\u001b[0m \u001b[1;33m*\u001b[0m \u001b[0mfx\u001b[0m\u001b[1;33m(\u001b[0m\u001b[0mx\u001b[0m\u001b[1;33m,\u001b[0m \u001b[0mf\u001b[0m\u001b[1;33m)\u001b[0m\u001b[1;33m\u001b[0m\u001b[1;33m\u001b[0m\u001b[0m\n\u001b[0m\u001b[0;32m     15\u001b[0m \u001b[1;33m\u001b[0m\u001b[0m\n\u001b[0;32m     16\u001b[0m     \u001b[0msuma\u001b[0m \u001b[1;33m=\u001b[0m \u001b[0msuma\u001b[0m \u001b[1;33m+\u001b[0m \u001b[0mfx\u001b[0m\u001b[1;33m(\u001b[0m\u001b[0ma\u001b[0m\u001b[1;33m,\u001b[0m \u001b[0mf\u001b[0m\u001b[1;33m)\u001b[0m \u001b[1;33m+\u001b[0m \u001b[0mfx\u001b[0m\u001b[1;33m(\u001b[0m\u001b[0mb\u001b[0m\u001b[1;33m,\u001b[0m \u001b[0mf\u001b[0m\u001b[1;33m)\u001b[0m\u001b[1;33m\u001b[0m\u001b[1;33m\u001b[0m\u001b[0m\n",
      "\u001b[1;32m<ipython-input-198-508082c1e807>\u001b[0m in \u001b[0;36mfx\u001b[1;34m(x, f)\u001b[0m\n\u001b[0;32m      3\u001b[0m \u001b[0mb\u001b[0m\u001b[1;33m=\u001b[0m\u001b[1;36m0.2\u001b[0m\u001b[1;33m\u001b[0m\u001b[1;33m\u001b[0m\u001b[0m\n\u001b[0;32m      4\u001b[0m \u001b[1;32mdef\u001b[0m \u001b[0mfx\u001b[0m\u001b[1;33m(\u001b[0m\u001b[0mx\u001b[0m\u001b[1;33m,\u001b[0m \u001b[0mf\u001b[0m\u001b[1;33m)\u001b[0m\u001b[1;33m:\u001b[0m          \u001b[1;31m#esta funcion auxiliar evalua la funcion f sobre la variable x\u001b[0m\u001b[1;33m\u001b[0m\u001b[1;33m\u001b[0m\u001b[0m\n\u001b[1;32m----> 5\u001b[1;33m     \u001b[1;32mreturn\u001b[0m \u001b[0meval\u001b[0m\u001b[1;33m(\u001b[0m\u001b[0mf\u001b[0m\u001b[1;33m)\u001b[0m\u001b[1;33m\u001b[0m\u001b[1;33m\u001b[0m\u001b[0m\n\u001b[0m\u001b[0;32m      6\u001b[0m \u001b[1;33m\u001b[0m\u001b[0m\n\u001b[0;32m      7\u001b[0m \u001b[0mf\u001b[0m \u001b[1;33m=\u001b[0m \u001b[1;34m\"(i0*(np.sin((np.pi*x)/t0)-b*(np.sin((2*np.pi*x)/t0))))**2\"\u001b[0m\u001b[1;33m\u001b[0m\u001b[1;33m\u001b[0m\u001b[0m\n",
      "\u001b[1;31mTypeError\u001b[0m: eval() arg 1 must be a string, bytes or code object"
     ]
    }
   ],
   "source": [
    "def f(x):          #esta funcion auxiliar evalua la funcion f sobre la variable x\n",
    "    return (x**3)*(exp(x)-1)**(-1) \n",
    "\n",
    "print(simpson(f,0,1000,1000))\n",
    "\n"
   ]
  },
  {
   "cell_type": "code",
   "execution_count": 204,
   "metadata": {},
   "outputs": [],
   "source": [
    "def gaussxw(N):\n",
    "\n",
    "    #Aproximación inicial de las raíces de los polinomios de Legendre\n",
    "    a = linspace(3,4*N-1,N)/(4*N+2)\n",
    "    x = cos(pi*a+1/(8*N*N*tan(a)))\n",
    "\n",
    "        # Encontramos ceros de Legendre con Newton-Raphson\n",
    "    epsilon = 1e-15\n",
    "    delta = 1.0\n",
    "    while delta>epsilon:\n",
    "        p0 = ones(N,float)\n",
    "        p1 = copy(x)\n",
    "        for k in range(1,N):\n",
    "            p0,p1 = p1,((2*k+1)*x*p1-k*p0)/(k+1)\n",
    "        dp = (N+1)*(p0-x*p1)/(1-x*x)\n",
    "        dx = p1/dp\n",
    "        x -= dx\n",
    "        delta = max(abs(dx))\n",
    "\n",
    "    # Calculando los pesos\n",
    "    w = 2*(N+1)*(N+1)/(N*N*(1-x*x)*dp*dp)\n",
    "    return x,w\n",
    "\n",
    "def gaussxwab(N,a,b):\n",
    "    x,w = gaussxw(N)\n",
    "    return 0.5*(b-a)*x+0.5*(b+a),0.5*(b-a)*w"
   ]
  },
  {
   "cell_type": "code",
   "execution_count": 205,
   "metadata": {},
   "outputs": [
    {
     "name": "stdout",
     "output_type": "stream",
     "text": [
      "6.493939402261861\n",
      "El error es: 4.9666937229631e-12\n"
     ]
    }
   ],
   "source": [
    "def f(x):\n",
    "    return (np.exp(-x)*(x**3))/(1-np.exp(-x))\n",
    "\n",
    "N = 3000\n",
    "a = 0.0\n",
    "b = 100000.0\n",
    "\n",
    "x,w = gaussxw(N)\n",
    "xp = 0.5*(b-a)*x + 0.5*(b+a)\n",
    "wp = 0.5*(b-a)*w\n",
    "\n",
    "# Hacemos la integral\n",
    "s = 0.0\n",
    "for k in range(N):\n",
    "    s += wp[k]*f(xp[k])\n",
    "\n",
    "print(s)\n",
    "print(\"El error es:\", (pi**4/15)-s)"
   ]
  },
  {
   "cell_type": "markdown",
   "metadata": {},
   "source": [
    "#### Una vez calculada la integral, calculamos $W$. "
   ]
  },
  {
   "cell_type": "markdown",
   "metadata": {},
   "source": [
    "Con el método del trapecio"
   ]
  },
  {
   "cell_type": "code",
   "execution_count": 25,
   "metadata": {},
   "outputs": [],
   "source": [
    "from pylab import *\n",
    "def Wtrapecio(T):\n",
    "    C=c**2\n",
    "    return (kB**4/(4*pi**2*C*h**3))*(T**4)*Itrap     #*trapecio(f,0,1000,2000)\n"
   ]
  },
  {
   "cell_type": "code",
   "execution_count": 26,
   "metadata": {},
   "outputs": [],
   "source": [
    "#Valor real de W resolviendo analíticamente la integral\n",
    "def Wreal(T):\n",
    "    C=c**2\n",
    "    return (kB**4/(4*pi**2*C*h**3))*(T**4)*(pi**4)/15"
   ]
  },
  {
   "cell_type": "markdown",
   "metadata": {},
   "source": [
    "Con el método de cuadratura gaussiana"
   ]
  },
  {
   "cell_type": "code",
   "execution_count": 39,
   "metadata": {},
   "outputs": [
    {
     "data": {
      "image/png": "[encoded data removed]",
      "text/plain": [
       "<Figure size 432x288 with 1 Axes>"
      ]
     },
     "metadata": {
      "needs_background": "light"
     },
     "output_type": "display_data"
    }
   ],
   "source": [
    "def Wquadgauss(T):\n",
    "    C=c**2\n",
    "    return (kB**4/(4*pi**2*C*h**3))*(T**4)*s     #*trapecio(f,0,1000,2000)\n",
    "T=arange(-10.0,10.0,0.01)\n",
    "\n",
    "\n",
    "plt.plot(T,Wquadgauss(T),'bx', label = \"QuadGauss\")\n",
    "plt.plot(T,Wtrapecio(T),'r.', label = \"Trapecio\")\n",
    "plt.plot(T,Wreal(T),'y.', label= \"real\")\n",
    "grid(True)\n",
    "title('W(T) calculada con distintos métodos')\n",
    "ylabel('W(T)')\n",
    "xlabel('Temperatura [K]')\n",
    "plt.show()"
   ]
  },
  {
   "cell_type": "markdown",
   "metadata": {},
   "source": [
    "En la gráfica anterior se grafican los valores de $W(T)$ para toda $T$ el valor real de la funcion $W(T)$ (línea amarilla), el método de Cuadratura Gaussiana (línea azul) es el que mejor aproxima. Por el otro lado la solución con el método del Trapecio (línea roja) con un error muy grande.  \n",
    "Con los otros métodos no pude obtener W(T) :( "
   ]
  },
  {
   "cell_type": "markdown",
   "metadata": {},
   "source": [
    "#### En resumen... "
   ]
  },
  {
   "cell_type": "markdown",
   "metadata": {},
   "source": [
    "Me parece que lo importante es el valor de la integral \n",
    "$$\\int_0^\\infty \\frac{x^3}{e^{x}-1} dx = \\frac{\\pi^4}{15} = 6.493939402266828...$$\n",
    "\n",
    "\n"
   ]
  },
  {
   "cell_type": "markdown",
   "metadata": {},
   "source": [
    "Para todos los métodos se utilizó el límite superior de la integral un valor muy grande $b>>1$, de tal forma que $b\\rightarrow \\infty$. \n",
    "\n",
    "Para el método del trapecio se tiene que "
   ]
  },
  {
   "cell_type": "code",
   "execution_count": 358,
   "metadata": {},
   "outputs": [
    {
     "name": "stdout",
     "output_type": "stream",
     "text": [
      "Valor calculado con el método del trapecio = 3.2487926178000746\n",
      "El error con el método del trapecio es  2.248991897458323\n"
     ]
    }
   ],
   "source": [
    "print(\"Valor calculado con el método del trapecio =\",Itrap) #Horrible\n",
    "print(\"El error con el método del trapecio es \", abs((pi**4/15)-trapecio(f,0,100000,20000)))"
   ]
  },
  {
   "cell_type": "markdown",
   "metadata": {},
   "source": [
    "Para el método de Quadratura Gaussiana"
   ]
  },
  {
   "cell_type": "code",
   "execution_count": 425,
   "metadata": {},
   "outputs": [
    {
     "name": "stdout",
     "output_type": "stream",
     "text": [
      "El valor de la integral es 6.493939402261861\n",
      "El error es: 4.9666937229631e-12\n"
     ]
    }
   ],
   "source": [
    "print(\"El valor de la integral es\", s)\n",
    "print(\"El error es:\", (pi**4/15)-s)  "
   ]
  },
  {
   "cell_type": "markdown",
   "metadata": {},
   "source": [
    "Cuadratura Gaussiana aproxima con gran precisión.\n",
    "\n",
    "\n",
    "Con los demás métodos hubo problemas para que calculara la integral. "
   ]
  },
  {
   "cell_type": "markdown",
   "metadata": {},
   "source": [
    "## Ecuaciones Diferenciales "
   ]
  },
  {
   "cell_type": "markdown",
   "metadata": {},
   "source": [
    "### 9.- Comparemos Métodos  "
   ]
  },
  {
   "cell_type": "markdown",
   "metadata": {},
   "source": [
    "La ecuación diferencial a resolver es:\n",
    "$$\n",
    "\\frac{d^2 x}{d t^2} = \\frac{c}{m x^2} - \\frac{k}{m}(x-L)\n",
    "$$\n",
    "se tomaron valores arbitrarios de las constantes $k$, $c$, $m$ y $L$"
   ]
  },
  {
   "cell_type": "markdown",
   "metadata": {},
   "source": [
    "Método de Euler"
   ]
  },
  {
   "cell_type": "code",
   "execution_count": 544,
   "metadata": {},
   "outputs": [],
   "source": [
    "def Euler(f,x0,v0,t):\n",
    "    h=1e-5\n",
    "    v = np.zeros(len(t))\n",
    "    x = np.zeros(len(t))\n",
    "    v[0] = v0\n",
    "    x[0] = x0\n",
    "    for n in range(0,len(t)-1):\n",
    "        x[n+1] = x[n] + h*v[n]\n",
    "        v[n+1] = v[n] + h*f(x[n],v[n])\n",
    "        \n",
    "    return v,x"
   ]
  },
  {
   "cell_type": "code",
   "execution_count": 545,
   "metadata": {},
   "outputs": [
    {
     "name": "stderr",
     "output_type": "stream",
     "text": [
      "C:\\Users\\arman\\anaconda3\\lib\\site-packages\\IPython\\core\\pylabtools.py:132: UserWarning: Creating legend with loc=\"best\" can be slow with large amounts of data.\n",
      "  fig.canvas.print_figure(bytes_io, **kw)\n"
     ]
    },
    {
     "data": {
      "image/png": "[encoded data removed]",
      "text/plain": [
       "<Figure size 432x288 with 1 Axes>"
      ]
     },
     "metadata": {
      "needs_background": "light"
     },
     "output_type": "display_data"
    }
   ],
   "source": [
    "t = np.linspace(-100,100,1000000)\n",
    "c=1\n",
    "k=0.5\n",
    "L=2.1\n",
    "m=2   ##Valores arbitrarios\n",
    "x0=0.5  #posicion inicial distinta de cero\n",
    "v0=0\n",
    "\n",
    "\n",
    "\n",
    "f = lambda x,v: (c/(m*x**2)) - (k/m)*(x-L)\n",
    "eu = Euler(f,x0,v0,t)\n",
    "plt.plot(eu[0],eu[1],'r-')\n",
    "plt.legend(['Solución por Euler'])\n",
    "plt.axis([-1.6,1.6,0,5.5])\n",
    "plt.grid(True)\n",
    "plt.title(\"Espacio fase de la EDO con x(0)=0.5 y v(0)=0$\")\n",
    "plt.show()\n",
    "\n",
    "\n",
    "#print(y[0])\n",
    "#print(y[1])"
   ]
  },
  {
   "cell_type": "code",
   "execution_count": 68,
   "metadata": {},
   "outputs": [],
   "source": [
    "#método de runge kutta de 4to orden para ecuaciones dif de segundo orden\n",
    "def RK4(f,x0,v0,t):\n",
    "    h=1e-5\n",
    "    v = np.zeros(len(t))\n",
    "    x = np.zeros(len(t))\n",
    "    v[0] = v0\n",
    "    x[0] = x0\n",
    "    for n in range(0,len(t)-1):\n",
    "        k1=h*v\n",
    "        l1=h*f(x0,v0)\n",
    "        k2=h*(v+0.5*l1)\n",
    "        l2=h*f(x0 + .5*h,  v0+0.5*k1)\n",
    "        k3=h*(v+0.5*l2)\n",
    "        l3=h*f(x0 + 0.5 * h, v0 + 0.5 * k2)\n",
    "        l4=h*f(x0 + h, v0 + k3)\n",
    "        k4=h*(v+l3)\n",
    "        x[n+1] = x[n] + h*v[n]\n",
    "        v[n+1] = v[n] + h*f(x[n],v[n])\n",
    "        \n",
    "    return v,x"
   ]
  },
  {
   "cell_type": "code",
   "execution_count": 209,
   "metadata": {},
   "outputs": [
    {
     "data": {
      "image/png": "[encoded data removed]",
      "text/plain": [
       "<Figure size 432x288 with 1 Axes>"
      ]
     },
     "metadata": {
      "needs_background": "light"
     },
     "output_type": "display_data"
    }
   ],
   "source": [
    "t = np.linspace(0,100,100000)\n",
    "c=1\n",
    "k=0.5\n",
    "L=2.1\n",
    "m=2   ##Valores arbitrarios\n",
    "x0=0.5  #posicion inicial distinta de cero\n",
    "v0=0\n",
    "f = lambda x,v: (c/(m*x**2)) - (k/m)*(x-L)\n",
    "rk = RK4(f,x0,v0,t)\n",
    "\n",
    "plt.plot(rk[0],rk[1],'r-')\n",
    "plt.legend(['Solución por RK4'])\n",
    "plt.axis([-1.6,1.6,0,5.5])\n",
    "plt.grid(True)\n",
    "plt.title(\"Espacio fase de la EDO con x(0)=0.5 y v(0)=0$\")\n",
    "plt.show()"
   ]
  },
  {
   "cell_type": "markdown",
   "metadata": {},
   "source": [
    "El problema con el método de Runge-Kutta 4 es que requiere de mucho tiempo computacional. En este caso no logré que graficara completamente la gráfica, sólo un pedazo de esta."
   ]
  },
  {
   "cell_type": "markdown",
   "metadata": {},
   "source": [
    "Método de Leap Frog"
   ]
  },
  {
   "cell_type": "code",
   "execution_count": 57,
   "metadata": {},
   "outputs": [],
   "source": [
    "def LeapFrog(f,x0,v0,t):\n",
    "    h=1e-5\n",
    "    v = np.zeros(len(t))\n",
    "    x = np.zeros(len(t))\n",
    "    v[0] = v0; x[0] = x0\n",
    "    for n in range(0,len(t)-1):\n",
    "        x[n+1] = x[n] + h*v[n]+ h*h/2 *f(x[n],v[n])\n",
    "        v[n+1] = v[n] + h/2*(f(x0,v0) + f(x[n+1],n+1))\n",
    "        \n",
    "    return v,x"
   ]
  },
  {
   "cell_type": "code",
   "execution_count": 64,
   "metadata": {},
   "outputs": [
    {
     "name": "stderr",
     "output_type": "stream",
     "text": [
      "C:\\Users\\arman\\anaconda3\\lib\\site-packages\\IPython\\core\\pylabtools.py:132: UserWarning: Creating legend with loc=\"best\" can be slow with large amounts of data.\n",
      "  fig.canvas.print_figure(bytes_io, **kw)\n"
     ]
    },
    {
     "data": {
      "image/png": "[encoded data removed]",
      "text/plain": [
       "<Figure size 432x288 with 1 Axes>"
      ]
     },
     "metadata": {
      "needs_background": "light"
     },
     "output_type": "display_data"
    }
   ],
   "source": [
    "t = np.linspace(-100,100,5000000)\n",
    "c=1\n",
    "k=0.5\n",
    "L=2.1\n",
    "m=2   ##Valores arbitrarios\n",
    "x0=0.5  #posicion inicial distinta de cero\n",
    "v0=0\n",
    "f = lambda x,v: (c/(m*x**2)) - (k/m)*(x-L)\n",
    "lf = LeapFrog(f,x0,v0,t)\n",
    "\n",
    "plt.plot(lf[0],lf[1],'r-')\n",
    "plt.legend(['Solución por Leap-Frog'])\n",
    "plt.axis([-5,5,0,25])\n",
    "plt.grid(True)\n",
    "plt.title(\"Espacio fase de la EDO con x(0)=0.5 y v(0)=0$\")\n",
    "plt.show()"
   ]
  },
  {
   "cell_type": "markdown",
   "metadata": {},
   "source": [
    "No logré hallar el valor de la amplitud y el periodo. Pero logré resolver la EDO y graficar el espacio fase por 3 diferentes métodos, aunque para Runge-Kutta 4 requiere mucho tiempo computacional. \n",
    "Euler falla por mucho ya que el mejor resultado fue con Leap Frog y estoy seguro que para RK4 con suficiente tiempo y haciendo el linspace mas fino se llagará a una solución mejor pero mi computadora no pudo hacerlo bien. "
   ]
  },
  {
   "cell_type": "markdown",
   "metadata": {},
   "source": [
    "### Órbita de la tierra"
   ]
  },
  {
   "cell_type": "markdown",
   "metadata": {},
   "source": [
    "Este código lo hice en otra clase de métodos numéricos, Vpython tiene animaciones muy buenas pero parece que Jupyter no acepta estas animaciones. \n",
    "Se obtiene muy bien los valores de la posición $(x,y)$ en cada valor de tiempo $t$. Esta animación se puede ver bien si el código se corre en una terminal, o bien en https://trinket.io/glowscript/31d0f9ad9e  o en https://www.glowscript.org/"
   ]
  },
  {
   "cell_type": "markdown",
   "metadata": {},
   "source": [
    "Considerando que una unidad astronómica $[ua]$ es el radio de la órbita terrestre usaremos esta unidad para la longitud y $[ms]$ masas solares como unidad de masa. \n",
    "Calculé la constante gravitacional $G$ con la tercera ley de Kepler, que relaciona periodo de un planeta, radio de su órbita y la masa del planeta:\n",
    "$$\n",
    "T^2 = \\frac{4\\pi^2  a^3}{GM_{0}}\n",
    "$$\n",
    "tomando $a=1ua$, $T=1$ año y $M_0 =1ms$, despejando $G$\n",
    "$$\n",
    "G=4\\pi^2 \n",
    "$$\n",
    "también se define $k=GMm$ masa del sol $M$ y de la tierra $m$. En estas unidades $k=GMm$. Además en coordenadas polares se tiene una relación del siguiente tipo:\n",
    "$$\n",
    "r'(\\theta)^2 = \\frac{m^2 r^4}{L^4} [ {\\frac{2[E-E_{p}(r)]}{m} - \\frac{L^2}{m^2r^2}]  } \n",
    "$$\n",
    "donde $L$ es el momento angular y $E_p$ energía potencial la cual depende del momento angular. \n",
    "Usando la ecuación de la elipse en coordenadas polares se puede reescribir la EDO en estas variables. \n",
    "\n",
    "Al final usando el algoritmo de Verlet se obtiene el sistema de ecuaciones a resolver:\n",
    "\\begin{equation}\n",
    "x_{n+1} = 2x_{n} - x_{n-1} - h^2\\frac{GM}{r_n^2}(\\frac{x_n}{r_n})\n",
    "\\end{equation}\n",
    "\n",
    "\n",
    "\\begin{equation}\n",
    "y_{n+1} = 2y_{n} - y_{n-1} - h^2\\frac{GM}{r_n^2}(\\frac{y_n}{r_n})\n",
    "\\end{equation}\n",
    "con\n",
    "$$\n",
    "r_n^2 = x_n^2 + y_n^2\n",
    "$$\n",
    "\n",
    "Para la iniciación del algoritmo se emplea\n",
    "$$\n",
    "x_{-1} = x_0 - v_0h + \\frac{h^2}{2m}F(x_0,y_0)\n",
    "$$\n",
    "$$\n",
    "y_{-1} = y_0 - v_0h + \\frac{h^2}{2m}F(x_0,y_0)\n",
    "$$\n",
    "con $v_0=0$ , $y_0=0$ y $x_0=r_{min}$, donde $r_{min} = \\frac{L^2}{(1+\\varepsilon)mk}$ (que se obtiene de la EDO en coordenadas polares)\n",
    "\n",
    "Además para F se ocupa la expresión de la gravitación universal de Newton,\n",
    "$$\n",
    "F(r) = G \\frac{Mm}{r^2}\n",
    "$$\n",
    "o bien\n",
    "$$\n",
    "F(x,y) = G \\frac{Mm}{x^2 + y^2}\n",
    "$$"
   ]
  },
  {
   "cell_type": "code",
   "execution_count": 240,
   "metadata": {},
   "outputs": [
    {
     "name": "stdout",
     "output_type": "stream",
     "text": [
      "t =  0.0 , x =  0.9828466665256129 , y =  0.01750937811646199\n",
      "t =  0.002 , x =  0.9823867163883702 , y =  0.035013293868071345\n",
      "t =  0.005 , x =  0.9816203004247891 , y =  0.05250628685590642\n",
      "t =  0.008 , x =  0.9805476699582996 , y =  0.06998290061185092\n",
      "t =  0.010 , x =  0.9791691766931481 , y =  0.0874376845613562\n",
      "t =  0.013 , x =  0.9774852725659727 , y =  0.104865195983038\n",
      "t =  0.016 , x =  0.9754965095551564 , y =  0.12226000196405752\n",
      "t =  0.019 , x =  0.9732035394480973 , y =  0.13961668135024063\n",
      "t =  0.021 , x =  0.9706071135665658 , y =  0.15692982668989489\n",
      "t =  0.024 , x =  0.9677080824503475 , y =  0.17419404617028938\n",
      "t =  0.027 , x =  0.9645073954994015 , y =  0.19140396554577102\n",
      "t =  0.030 , x =  0.9610061005747943 , y =  0.20855423005649795\n",
      "t =  0.032 , x =  0.9572053435586962 , y =  0.22563950633678115\n",
      "t =  0.035 , x =  0.9531063678737587 , y =  0.24265448431203485\n",
      "t =  0.038 , x =  0.9487105139622186 , y =  0.25959387908334836\n",
      "t =  0.041 , x =  0.9440192187251035 , y =  0.27645243279870346\n",
      "t =  0.043 , x =  0.9390340149219389 , y =  0.2932249165098753\n",
      "t =  0.046 , x =  0.9337565305313872 , y =  0.3099061320140683\n",
      "t =  0.049 , x =  0.9281884880732724 , y =  0.32649091367935396\n",
      "t =  0.052 , x =  0.9223317038924728 , y =  0.3429741302529928\n",
      "t =  0.054 , x =  0.9161880874051871 , y =  0.3593506866517397\n",
      "t =  0.057 , x =  0.9097596403081054 , y =  0.37561552573324936\n",
      "t =  0.060 , x =  0.9030484557510395 , y =  0.3917636300477161\n",
      "t =  0.063 , x =  0.8960567174735913 , y =  0.4077900235689021\n",
      "t =  0.065 , x =  0.8887866989064591 , y =  0.4236897734037276\n",
      "t =  0.068 , x =  0.8812407622380054 , y =  0.4394579914796162\n",
      "t =  0.071 , x =  0.8734213574467277 , y =  0.45508983620881027\n",
      "t =  0.073 , x =  0.8653310213002972 , y =  0.47058051412889323\n",
      "t =  0.076 , x =  0.8569723763218481 , y =  0.48592528151877595\n",
      "t =  0.079 , x =  0.8483481297242178 , y =  0.5011194459894299\n",
      "t =  0.082 , x =  0.8394610723128578 , y =  0.5161583680486707\n",
      "t =  0.084 , x =  0.8303140773581504 , y =  0.5310374626393201\n",
      "t =  0.087 , x =  0.8209100994378832 , y =  0.5457522006500996\n",
      "t =  0.090 , x =  0.8112521732506472 , y =  0.5602981103986316\n",
      "t =  0.093 , x =  0.8013434124009403 , y =  0.5746707790859511\n",
      "t =  0.095 , x =  0.7911870081567676 , y =  0.5888658542219531\n",
      "t =  0.098 , x =  0.7807862281805472 , y =  0.6028790450212311\n",
      "t =  0.101 , x =  0.7701444152341371 , y =  0.6167061237687824\n",
      "t =  0.104 , x =  0.7592649858588103 , y =  0.6303429271550867\n",
      "t =  0.106 , x =  0.7481514290310164 , y =  0.6437853575800874\n",
      "t =  0.109 , x =  0.7368073047947749 , y =  0.6570293844256336\n",
      "t =  0.112 , x =  0.7252362428715525 , y =  0.6700710452959654\n",
      "t =  0.115 , x =  0.7134419412484851 , y =  0.6829064472258525\n",
      "t =  0.117 , x =  0.7014281647458088 , y =  0.695531767856024\n",
      "t =  0.120 , x =  0.6891987435643714 , y =  0.707943256575551\n",
      "t =  0.123 , x =  0.6767575718140975 , y =  0.7201372356308721\n",
      "t =  0.126 , x =  0.6641086060242845 , y =  0.7321101012011779\n",
      "t =  0.128 , x =  0.651255863636609 , y =  0.743858324439898\n",
      "t =  0.131 , x =  0.6382034214817236 , y =  0.7553784524820568\n",
      "t =  0.134 , x =  0.6249554142403242 , y =  0.7666671094172957\n",
      "t =  0.136 , x =  0.6115160328895691 , y =  0.7777209972283797\n",
      "t =  0.139 , x =  0.5978895231357281 , y =  0.7885368966950371\n",
      "t =  0.142 , x =  0.5840801838339372 , y =  0.7991116682630012\n",
      "t =  0.145 , x =  0.5700923653959346 , y =  0.8094422528781531\n",
      "t =  0.147 , x =  0.5559304681866448 , y =  0.8195256727856861\n",
      "t =  0.150 , x =  0.5415989409104793 , y =  0.8293590322942371\n",
      "t =  0.153 , x =  0.5271022789882104 , y =  0.8389395185049556\n",
      "t =  0.156 , x =  0.5124450229252739 , y =  0.8482644020055039\n",
      "t =  0.158 , x =  0.49763175667234794 , y =  0.8573310375290052\n",
      "t =  0.161 , x =  0.4826671059790452 , y =  0.8661368645779796\n",
      "t =  0.164 , x =  0.467555736741553 , y =  0.8746794080133297\n",
      "t =  0.167 , x =  0.45230235334504093 , y =  0.8829562786084604\n",
      "t =  0.169 , x =  0.4369116970016515 , y =  0.8909651735686379\n",
      "t =  0.172 , x =  0.42138854408487564 , y =  0.8987038770157142\n",
      "t =  0.175 , x =  0.40573770446110646 , y =  0.9061702604383639\n",
      "t =  0.178 , x =  0.3899640198191527 , y =  0.9133622831080002\n",
      "t =  0.180 , x =  0.3740723619984817 , y =  0.920277992460555\n",
      "t =  0.183 , x =  0.35806763131695013 , y =  0.9269155244443285\n",
      "t =  0.186 , x =  0.34195475489876725 , y =  0.93327310383413\n",
      "t =  0.189 , x =  0.3257386850034236 , y =  0.9393490445119511\n",
      "t =  0.191 , x =  0.30942439735630367 , y =  0.9451417497144273\n",
      "t =  0.194 , x =  0.2930168894816874 , y =  0.9506497122473616\n",
      "t =  0.197 , x =  0.276521179038832 , y =  0.9558715146675996\n",
      "t =  0.2 , x =  0.2599423021618098 , y =  0.9608058294325598\n",
      "t =  0.202 , x =  0.24328531180376414 , y =  0.9654514190177379\n",
      "t =  0.205 , x =  0.22655527608622947 , y =  0.9698071360025174\n",
      "t =  0.208 , x =  0.20975727665414687 , y =  0.9738719231246319\n",
      "t =  0.210 , x =  0.19289640703719046 , y =  0.9776448133036372\n",
      "t =  0.213 , x =  0.17597777101800435 , y =  0.9811249296337641\n",
      "t =  0.216 , x =  0.15900648100793371 , y =  0.9843114853465319\n",
      "t =  0.219 , x =  0.1419876564308178 , y =  0.9872037837435157\n",
      "t =  0.221 , x =  0.12492642211539585 , y =  0.9898012180996689\n",
      "t =  0.224 , x =  0.10782790669686117 , y =  0.9921032715376125\n",
      "t =  0.227 , x =  0.09069724102808124 , y =  0.9941095168733111\n",
      "t =  0.230 , x =  0.07353955660098638 , y =  0.9958196164335646\n",
      "t =  0.232 , x =  0.05635998397861168 , y =  0.9972333218457511\n",
      "t =  0.235 , x =  0.03916365123826136 , y =  0.9983504738002628\n",
      "t =  0.238 , x =  0.021955682426247354 , y =  0.9991710017860861\n",
      "t =  0.241 , x =  0.004741196024637781 , y =  0.999694923799979\n",
      "t =  0.243 , x =  -0.012474696569565675 , y =  0.9999223460297069\n",
      "t =  0.246 , x =  -0.02968689255241902 , y =  0.9998534625117999\n",
      "t =  0.249 , x =  -0.04689029920780965 , y =  0.9994885547643029\n",
      "t =  0.252 , x =  -0.06407983538864265 , y =  0.9988279913949881\n",
      "t =  0.254 , x =  -0.081250432984086 , y =  0.9978722276855061\n",
      "t =  0.257 , x =  -0.09839703837253717 , y =  0.9966218051519525\n",
      "t =  0.260 , x =  -0.1155146138599891 , y =  0.9950773510823306\n",
      "t =  0.263 , x =  -0.1325981391034898 , y =  0.9932395780513887\n",
      "t =  0.265 , x =  -0.14964261251940505 , y =  0.9911092834133158\n",
      "t =  0.268 , x =  -0.16664305267620888 , y =  0.9886873487727763\n",
      "t =  0.271 , x =  -0.18359449967154215 , y =  0.9859747394347657\n",
      "t =  0.273 , x =  -0.20049201649329398 , y =  0.9829725038337691\n",
      "t =  0.276 , x =  -0.21733069036447575 , y =  0.9796817729427031\n",
      "t =  0.279 , x =  -0.23410563407167162 , y =  0.9761037596621185\n",
      "t =  0.282 , x =  -0.2508119872768642 , y =  0.9722397581901431\n",
      "t =  0.284 , x =  -0.2674449178124471 , y =  0.9680911433736379\n",
      "t =  0.287 , x =  -0.2839996229592506 , y =  0.96365937004104\n",
      "t =  0.290 , x =  -0.3004713307074195 , y =  0.9589459723173608\n",
      "t =  0.293 , x =  -0.31685530099999576 , y =  0.9539525629218064\n",
      "t =  0.295 , x =  -0.33314682695907033 , y =  0.9486808324484817\n",
      "t =  0.298 , x =  -0.34934123609438245 , y =  0.943132548630637\n",
      "t =  0.301 , x =  -0.3654338914942558 , y =  0.9373095555889116\n",
      "t =  0.304 , x =  -0.38142019299877333 , y =  0.9312137730640228\n",
      "t =  0.306 , x =  -0.3972955783551033 , y =  0.9248471956343457\n",
      "t =  0.309 , x =  -0.4130555243549016 , y =  0.9182118919188232\n",
      "t =  0.312 , x =  -0.4286955479537247 , y =  0.9113100037656399\n",
      "t =  0.315 , x =  -0.4442112073723995 , y =  0.9041437454270878\n",
      "t =  0.317 , x =  -0.45959810318030553 , y =  0.8967154027210479\n",
      "t =  0.320 , x =  -0.4748518793605356 , y =  0.8890273321795024\n",
      "t =  0.323 , x =  -0.48996822435690945 , y =  0.8810819601844879\n",
      "t =  0.326 , x =  -0.5049428721028256 , y =  0.8728817820918947\n",
      "t =  0.328 , x =  -0.5197716030319438 , y =  0.8644293613435069\n",
      "t =  0.331 , x =  -0.5344502450707002 , y =  0.8557273285676757\n",
      "t =  0.334 , x =  -0.5489746746126645 , y =  0.8467783806690081\n",
      "t =  0.336 , x =  -0.5633408174747575 , y =  0.8375852799074467\n",
      "t =  0.339 , x =  -0.577544649835353 , y =  0.828150852967111\n",
      "t =  0.342 , x =  -0.5915821991542967 , y =  0.8184779900152612\n",
      "t =  0.345 , x =  -0.6054495450748802 , y =  0.8085696437517388\n",
      "t =  0.347 , x =  -0.6191428203078174 , y =  0.7984288284492307\n",
      "t =  0.350 , x =  -0.6326582114972709 , y =  0.7880586189846973\n"
     ]
    },
    {
     "name": "stdout",
     "output_type": "stream",
     "text": [
      "t =  0.353 , x =  -0.645991960068989 , y =  0.777462149862295\n",
      "t =  0.356 , x =  -0.6591403630606136 , y =  0.7666426142281182\n",
      "t =  0.358 , x =  -0.6720997739342274 , y =  0.755603262877077\n",
      "t =  0.361 , x =  -0.6848666033712115 , y =  0.7443474032522195\n",
      "t =  0.364 , x =  -0.6974373200494921 , y =  0.7328783984367992\n",
      "t =  0.367 , x =  -0.7098084514032544 , y =  0.7211996661393825\n",
      "t =  0.369 , x =  -0.7219765843652106 , y =  0.7093146776722793\n",
      "t =  0.372 , x =  -0.7339383660915081 , y =  0.6972269569235784\n",
      "t =  0.375 , x =  -0.7456905046693706 , y =  0.6849400793230541\n",
      "t =  0.378 , x =  -0.7572297698075654 , y =  0.6724576708022101\n",
      "t =  0.380 , x =  -0.7685529935097933 , y =  0.6597834067487132\n",
      "t =  0.383 , x =  -0.7796570707311006 , y =  0.6469210109554665\n",
      "t =  0.386 , x =  -0.7905389600174133 , y =  0.6338742545645611\n",
      "t =  0.389 , x =  -0.8011956841282978 , y =  0.6206469550063395\n",
      "t =  0.391 , x =  -0.8116243306430496 , y =  0.6072429749337952\n",
      "t =  0.394 , x =  -0.8218220525502181 , y =  0.5936662211525288\n",
      "t =  0.397 , x =  -0.8317860688206711 , y =  0.5799206435464691\n",
      "t =  0.4 , x =  -0.8415136649643076 , y =  0.5660102339995654\n",
      "t =  0.402 , x =  -0.8510021935705256 , y =  0.5519390253136464\n",
      "t =  0.405 , x =  -0.8602490748325522 , y =  0.5377110901226368\n",
      "t =  0.408 , x =  -0.8692517970557427 , y =  0.5233305398033153\n",
      "t =  0.410 , x =  -0.8780079171499575 , y =  0.5088015233827897\n",
      "t =  0.413 , x =  -0.8865150611061211 , y =  0.49412822644286103\n",
      "t =  0.416 , x =  -0.8947709244570708 , y =  0.47931487002143985\n",
      "t =  0.419 , x =  -0.9027732727227987 , y =  0.4643657095111729\n",
      "t =  0.421 , x =  -0.9105199418401908 , y =  0.4492850335554319\n",
      "t =  0.424 , x =  -0.9180088385773657 , y =  0.43407716294181065\n",
      "t =  0.427 , x =  -0.9252379409327134 , y =  0.4187464494932701\n",
      "t =  0.430 , x =  -0.932205298518733 , y =  0.403297274957067\n",
      "t =  0.432 , x =  -0.9389090329307666 , y =  0.38773404989159416\n",
      "t =  0.435 , x =  -0.945347338100723 , y =  0.37206121255125696\n",
      "t =  0.438 , x =  -0.9515184806358863 , y =  0.356283227769505\n",
      "t =  0.441 , x =  -0.9574208001428961 , y =  0.3404045858401322\n",
      "t =  0.443 , x =  -0.9630527095369898 , y =  0.32442980139695526\n",
      "t =  0.446 , x =  -0.9684126953365905 , y =  0.3083634122919743\n",
      "t =  0.449 , x =  -0.9734993179433213 , y =  0.2922099784721168\n",
      "t =  0.452 , x =  -0.978311211907528 , y =  0.27597408085466035\n",
      "t =  0.454 , x =  -0.9828470861793819 , y =  0.25966032020142576\n",
      "t =  0.457 , x =  -0.9871057243456383 , y =  0.24327331599183016\n",
      "t =  0.460 , x =  -0.9910859848521184 , y =  0.22681770529488315\n",
      "t =  0.463 , x =  -0.9947868012119803 , y =  0.21029814164020816\n",
      "t =  0.465 , x =  -0.9982071821998406 , y =  0.19371929388816653\n",
      "t =  0.468 , x =  -1.0013462120318062 , y =  0.17708584509915937\n",
      "t =  0.471 , x =  -1.004203050531469 , y =  0.16040249140217927\n",
      "t =  0.473 , x =  -1.0067769332819156 , y =  0.1436739408626813\n",
      "t =  0.476 , x =  -1.009067171763798 , y =  0.12690491234984028\n",
      "t =  0.479 , x =  -1.0110731534795072 , y =  0.11010013440325939\n",
      "t =  0.482 , x =  -1.01279434206349 , y =  0.0932643440991925\n",
      "t =  0.484 , x =  -1.0142302773787417 , y =  0.07640228591634171\n",
      "t =  0.487 , x =  -1.0153805755995065 , y =  0.05951871060128923\n",
      "t =  0.490 , x =  -1.0162449292802092 , y =  0.04261837403362176\n",
      "t =  0.493 , x =  -1.016823107410643 , y =  0.025706036090804237\n",
      "t =  0.495 , x =  -1.017114955457429 , y =  0.00878645951285884\n",
      "t =  0.498 , x =  -1.0171203953917594 , y =  -0.008135591233095534\n",
      "t =  0.501 , x =  -1.0168394257034363 , y =  -0.025055351088388696\n",
      "t =  0.504 , x =  -1.0162721214012078 , y =  -0.04196805553837517\n",
      "t =  0.506 , x =  -1.015418633999402 , y =  -0.05886894174798657\n",
      "t =  0.509 , x =  -1.0142791914908553 , y =  -0.07575324969720604\n",
      "t =  0.512 , x =  -1.0128540983061258 , y =  -0.09261622331641008\n",
      "t =  0.515 , x =  -1.0111437352589785 , y =  -0.10945311162152266\n",
      "t =  0.517 , x =  -1.009148559478125 , y =  -0.1262591698489257\n",
      "t =  0.520 , x =  -1.0068691043251972 , y =  -0.143029660590069\n",
      "t =  0.523 , x =  -1.0043059792989257 , y =  -0.1597598549257216\n",
      "t =  0.526 , x =  -1.001459869925498 , y =  -0.17644503355980534\n",
      "t =  0.528 , x =  -0.9983315376350563 , y =  -0.19308048795274943\n",
      "t =  0.531 , x =  -0.994921819624301 , y =  -0.20966152145430328\n",
      "t =  0.534 , x =  -0.9912316287051542 , y =  -0.2261834504357429\n",
      "t =  0.536 , x =  -0.9872619531394385 , y =  -0.24264160542140378\n",
      "t =  0.539 , x =  -0.9830138564595196 , y =  -0.259031332219471\n",
      "t =  0.542 , x =  -0.9784884772748579 , y =  -0.27534799305195423\n",
      "t =  0.545 , x =  -0.9736870290644126 , y =  -0.2915869676837731\n",
      "t =  0.547 , x =  -0.968610799954834 , y =  -0.30774365455087493\n",
      "t =  0.550 , x =  -0.9632611524843798 , y =  -0.3238134718873035\n",
      "t =  0.553 , x =  -0.9576395233524868 , y =  -0.33979185885113466\n",
      "t =  0.556 , x =  -0.9517474231549241 , y =  -0.3556742766491908\n",
      "t =  0.558 , x =  -0.9455864361044535 , y =  -0.37145620966044135\n",
      "t =  0.561 , x =  -0.9391582197369172 , y =  -0.38713316655799435\n",
      "t =  0.564 , x =  -0.9324645046026716 , y =  -0.40270068142957843\n",
      "t =  0.567 , x =  -0.9255070939432823 , y =  -0.41815431489641075\n",
      "t =  0.569 , x =  -0.9182878633533922 , y =  -0.4334896552303419\n",
      "t =  0.572 , x =  -0.9108087604276729 , y =  -0.4487023194691637\n",
      "t =  0.575 , x =  -0.9030718043927678 , y =  -0.46378795452996174\n",
      "t =  0.578 , x =  -0.8950790857241301 , y =  -0.47874223832038787\n",
      "t =  0.580 , x =  -0.8868327657476603 , y =  -0.4935608808477246\n",
      "t =  0.583 , x =  -0.8783350762260438 , y =  -0.5082396253256062\n",
      "t =  0.586 , x =  -0.869588318929687 , y =  -0.5227742492782567\n",
      "t =  0.589 , x =  -0.8605948651921521 , y =  -0.5371605656420986\n",
      "t =  0.591 , x =  -0.8513571554499836 , y =  -0.5513944238645813\n",
      "t =  0.594 , x =  -0.8418776987668245 , y =  -0.5654717110000704\n",
      "t =  0.597 , x =  -0.8321590723417152 , y =  -0.5793883528026351\n",
      "t =  0.6 , x =  -0.822203921001468 , y =  -0.593140314815562\n",
      "t =  0.602 , x =  -0.812014956677012 , y =  -0.6067236034574196\n",
      "t =  0.605 , x =  -0.8015949578635982 , y =  -0.6201342671044903\n",
      "t =  0.608 , x =  -0.7909467690647606 , y =  -0.633368397169378\n",
      "t =  0.610 , x =  -0.7800733002199224 , y =  -0.6464221291755969\n",
      "t =  0.613 , x =  -0.768977526115544 , y =  -0.659291643827936\n",
      "t =  0.616 , x =  -0.7576624857797039 , y =  -0.6719731680783882\n",
      "t =  0.619 , x =  -0.7461312818600071 , y =  -0.6844629761874272\n",
      "t =  0.621 , x =  -0.7343870799847197 , y =  -0.6967573907804057\n",
      "t =  0.624 , x =  -0.7224331081070232 , y =  -0.7088527838988428\n",
      "t =  0.627 , x =  -0.7102726558322897 , y =  -0.720745578046361\n",
      "t =  0.630 , x =  -0.6979090737282787 , y =  -0.7324322472290239\n",
      "t =  0.632 , x =  -0.6853457726181581 , y =  -0.7439093179898211\n",
      "t =  0.635 , x =  -0.6725862228562558 , y =  -0.7551733704370367\n",
      "t =  0.638 , x =  -0.6596339535864502 , y =  -0.7662210392662319\n",
      "t =  0.641 , x =  -0.6464925519831114 , y =  -0.7770490147755628\n",
      "t =  0.643 , x =  -0.6331656624745092 , y =  -0.7876540438741492\n",
      "t =  0.646 , x =  -0.6196569859486056 , y =  -0.7980329310831995\n",
      "t =  0.649 , x =  -0.605970278941156 , y =  -0.8081825395295924\n",
      "t =  0.652 , x =  -0.5921093528060465 , y =  -0.8180997919316051\n",
      "t =  0.654 , x =  -0.5780780728677998 , y =  -0.8277816715764728\n",
      "t =  0.657 , x =  -0.5638803575561863 , y =  -0.8372252232894548\n",
      "t =  0.660 , x =  -0.5495201775228843 , y =  -0.8464275543940764\n",
      "t =  0.663 , x =  -0.535001554740137 , y =  -0.855385835663205\n",
      "t =  0.665 , x =  -0.5203285615813611 , y =  -0.8640973022606175\n",
      "t =  0.668 , x =  -0.5055053198836682 , y =  -0.8725592546727002\n",
      "t =  0.671 , x =  -0.49053599999226627 , y =  -0.8807690596299232\n",
      "t =  0.673 , x =  -0.4754248197867165 , y =  -0.8887241510177186\n",
      "t =  0.676 , x =  -0.4601760436890275 , y =  -0.8964220307763864\n",
      "t =  0.679 , x =  -0.4447939816535763 , y =  -0.9038602697896454\n",
      "t =  0.682 , x =  -0.4292829881388557 , y =  -0.9110365087614388\n",
      "t =  0.684 , x =  -0.4136474610610525 , y =  -0.9179484590805973\n",
      "t =  0.687 , x =  -0.3978918407294741 , y =  -0.924593903672956\n",
      "t =  0.690 , x =  -0.38202060876384614 , y =  -0.9309706978405161\n",
      "t =  0.693 , x =  -0.3660382869935166 , y =  -0.9370767700872336\n",
      "t =  0.695 , x =  -0.34994943633860914 , y =  -0.9429101229310132\n",
      "t =  0.698 , x =  -0.3337586556731807 , y =  -0.9484688337014798\n",
      "t =  0.701 , x =  -0.3174705806704468 , y =  -0.9537510553230922\n"
     ]
    },
    {
     "name": "stdout",
     "output_type": "stream",
     "text": [
      "t =  0.704 , x =  -0.3010898826301512 , y =  -0.9587550170831604\n",
      "t =  0.706 , x =  -0.28462126728816517 , y =  -0.963479025384322\n",
      "t =  0.709 , x =  -0.26806947360841576 , y =  -0.9679214644810283\n",
      "t =  0.712 , x =  -0.25143927255725196 , y =  -0.9720807971995858\n",
      "t =  0.715 , x =  -0.23473546586037136 , y =  -0.9759555656412942\n",
      "t =  0.717 , x =  -0.217962884742442 , y =  -0.9795443918682192\n",
      "t =  0.720 , x =  -0.20112638864956622 , y =  -0.9828459785711348\n",
      "t =  0.723 , x =  -0.1842308639547475 , y =  -0.9858591097191635\n",
      "t =  0.726 , x =  -0.16728122264653356 , y =  -0.9885826511906441\n",
      "t =  0.728 , x =  -0.15028240100102352 , y =  -0.9910155513847512\n",
      "t =  0.731 , x =  -0.13323935823744032 , y =  -0.9931568418133884\n",
      "t =  0.734 , x =  -0.11615707515748379 , y =  -0.9950056376728785\n",
      "t =  0.736 , x =  -0.09904055276869472 , y =  -0.9965611383949678\n",
      "t =  0.739 , x =  -0.08189481089207425 , y =  -0.997822628176664\n",
      "t =  0.742 , x =  -0.0647248867542183 , y =  -0.9987894764884259\n",
      "t =  0.745 , x =  -0.04753583356424185 , y =  -0.9994611385602226\n",
      "t =  0.747 , x =  -0.030332719075783058 , y =  -0.9998371558449807\n",
      "t =  0.750 , x =  -0.013120624134392864 , y =  -0.9999171564589384\n",
      "t =  0.753 , x =  0.004095358789368534 , y =  -0.9997008555984269\n",
      "t =  0.756 , x =  0.02131012708079109 , y =  -0.9991880559326016\n",
      "t =  0.758 , x =  0.03851856947547693 , y =  -0.9983786479716485\n",
      "t =  0.761 , x =  0.05571556756703552 , y =  -0.9972726104099926\n",
      "t =  0.764 , x =  0.07289599732762624 , y =  -0.9958700104440393\n",
      "t =  0.767 , x =  0.09005473064094616 , y =  -0.9941710040639855\n",
      "t =  0.769 , x =  0.10718663684724451 , y =  -0.9921758363192378\n",
      "t =  0.772 , x =  0.1242865842999286 , y =  -0.9898848415569846\n",
      "t =  0.775 , x =  0.14134944193330948 , y =  -0.9872984436334722\n",
      "t =  0.778 , x =  0.15837008084101914 , y =  -0.9844171560975405\n",
      "t =  0.780 , x =  0.17534337586461413 , y =  -0.9812415823459849\n",
      "t =  0.783 , x =  0.19226420719186424 , y =  -0.9777724157503123\n",
      "t =  0.786 , x =  0.20912746196420817 , y =  -0.9740104397544738\n",
      "t =  0.789 , x =  0.22592803589284158 , y =  -0.9699565279431606\n",
      "t =  0.791 , x =  0.24266083488288673 , y =  -0.965611644080261\n",
      "t =  0.794 , x =  0.2593207766650765 , y =  -0.9609768421170867\n",
      "t =  0.797 , x =  0.2759027924343694 , y =  -0.9560532661699858\n",
      "t =  0.8 , x =  0.2924018284948958 , y =  -0.9508421504669731\n",
      "t =  0.802 , x =  0.3088128479106217 , y =  -0.9453448192630183\n",
      "t =  0.805 , x =  0.325130832161097 , y =  -0.9395626867236464\n",
      "t =  0.808 , x =  0.34135078280164444 , y =  -0.9334972567765177\n",
      "t =  0.810 , x =  0.3574677231273262 , y =  -0.9271501229306678\n",
      "t =  0.813 , x =  0.3734766998400133 , y =  -0.9205229680631034\n",
      "t =  0.816 , x =  0.38937278471786635 , y =  -0.9136175641724648\n",
      "t =  0.819 , x =  0.4051510762865236 , y =  -0.9064357720994798\n",
      "t =  0.821 , x =  0.42080670149127697 , y =  -0.8989795412139537\n",
      "t =  0.824 , x =  0.43633481736950475 , y =  -0.8912509090680526\n",
      "t =  0.827 , x =  0.45173061272261505 , y =  -0.8832520010156577\n",
      "t =  0.830 , x =  0.4669893097867432 , y =  -0.8749850297975865\n",
      "t =  0.832 , x =  0.4821061659014326 , y =  -0.8664522950924929\n",
      "t =  0.835 , x =  0.4970764751755184 , y =  -0.8576561830332802\n",
      "t =  0.838 , x =  0.5118955701494202 , y =  -0.8485991656888797\n",
      "t =  0.841 , x =  0.5265588234530427 , y =  -0.8392838005112678\n",
      "t =  0.843 , x =  0.5410616494584688 , y =  -0.829712729747615\n",
      "t =  0.846 , x =  0.5553995059266247 , y =  -0.8198886798174834\n",
      "t =  0.849 , x =  0.5695678956470847 , y =  -0.8098144606550087\n",
      "t =  0.852 , x =  0.5835623680701765 , y =  -0.7994929650160276\n",
      "t =  0.854 , x =  0.5973785209305401 , y =  -0.7889271677501316\n",
      "t =  0.857 , x =  0.6110120018612869 , y =  -0.7781201250376542\n",
      "t =  0.860 , x =  0.6244585099978985 , y =  -0.76707497359162\n",
      "t =  0.863 , x =  0.637713797571001 , y =  -0.7557949298247102\n",
      "t =  0.865 , x =  0.6507736714871443 , y =  -0.7442832889813206\n",
      "t =  0.868 , x =  0.6636339948967135 , y =  -0.7325434242348167\n",
      "t =  0.871 , x =  0.6762906887480956 , y =  -0.7205787857501124\n",
      "t =  0.873 , x =  0.6887397333272225 , y =  -0.7083928997117258\n",
      "t =  0.876 , x =  0.7009771697816101 , y =  -0.6959893673174908\n",
      "t =  0.879 , x =  0.7129991016280133 , y =  -0.683371863738129\n",
      "t =  0.882 , x =  0.724801696242816 , y =  -0.6705441370429122\n",
      "t =  0.884 , x =  0.7363811863342768 , y =  -0.6575100070916735\n",
      "t =  0.887 , x =  0.7477338713957538 , y =  -0.6442733643934491\n",
      "t =  0.890 , x =  0.7588561191390325 , y =  -0.6308381689320601\n",
      "t =  0.893 , x =  0.7697443669068897 , y =  -0.6172084489589725\n",
      "t =  0.895 , x =  0.780395123064024 , y =  -0.6033882997537957\n",
      "t =  0.898 , x =  0.7908049683654952 , y =  -0.5893818823528104\n",
      "t =  0.901 , x =  0.8009705573018189 , y =  -0.5751934222459417\n",
      "t =  0.904 , x =  0.8108886194198703 , y =  -0.5608272080426188\n",
      "t =  0.906 , x =  0.8205559606187601 , y =  -0.5462875901069905\n",
      "t =  0.909 , x =  0.8299694644198538 , y =  -0.5315789791629919\n",
      "t =  0.912 , x =  0.8391260932101178 , y =  -0.5167058448697822\n",
      "t =  0.915 , x =  0.8480228894579862 , y =  -0.5016727143681009\n",
      "t =  0.917 , x =  0.8566569769009528 , y =  -0.4864841707981146\n",
      "t =  0.920 , x =  0.8650255617041085 , y =  -0.47114485178935195\n",
      "t =  0.923 , x =  0.8731259335888572 , y =  -0.45565944792334884\n",
      "t =  0.926 , x =  0.8809554669310573 , y =  -0.4400327011696517\n",
      "t =  0.928 , x =  0.8885116218278543 , y =  -0.4242694032958493\n",
      "t =  0.931 , x =  0.8957919451324825 , y =  -0.4083743942523282\n",
      "t =  0.934 , x =  0.9027940714563374 , y =  -0.39235256053247075\n",
      "t =  0.936 , x =  0.9095157241376322 , y =  -0.37620883350903545\n",
      "t =  0.939 , x =  0.9159547161759767 , y =  -0.3599481877474837\n",
      "t =  0.942 , x =  0.9221089511322339 , y =  -0.3435756392970376\n",
      "t =  0.945 , x =  0.9279764239930308 , y =  -0.32709624396027404\n",
      "t =  0.947 , x =  0.9335552219993233 , y =  -0.31051509554208206\n",
      "t =  0.950 , x =  0.9388435254384353 , y =  -0.2938373240788288\n",
      "t =  0.953 , x =  0.9438396083990177 , y =  -0.27706809404859856\n",
      "t =  0.956 , x =  0.9485418394883943 , y =  -0.260212602563389\n",
      "t =  0.958 , x =  0.9529486825117887 , y =  -0.24327607754416386\n",
      "t =  0.961 , x =  0.9570586971129494 , y =  -0.22626377587967983\n",
      "t =  0.964 , x =  0.960870539375719 , y =  -0.20918098157002074\n",
      "t =  0.967 , x =  0.9643829623861152 , y =  -0.1920330038557866\n",
      "t =  0.969 , x =  0.9675948167545247 , y =  -0.1748251753338995\n",
      "t =  0.972 , x =  0.9705050510976323 , y =  -0.15756285006100199\n",
      "t =  0.975 , x =  0.9731127124797395 , y =  -0.1402514016454349\n",
      "t =  0.978 , x =  0.9754169468131554 , y =  -0.12289622132879371\n",
      "t =  0.980 , x =  0.9774169992173684 , y =  -0.10550271605807246\n",
      "t =  0.983 , x =  0.9791122143367409 , y =  -0.08807630654941367\n",
      "t =  0.986 , x =  0.9805020366164955 , y =  -0.07062242534449134\n",
      "t =  0.989 , x =  0.9815860105367921 , y =  -0.05314651486056098\n",
      "t =  0.991 , x =  0.9823637808047269 , y =  -0.03565402543521753\n",
      "t =  0.994 , x =  0.9828350925041127 , y =  -0.018150413366906787\n",
      "t =  0.997 , x =  0.9829997912029323 , y =  -0.0006411389522407016\n",
      "t =  1.0 , x =  0.9828578230183856 , y =  0.016868335478830317\n"
     ]
    }
   ],
   "source": [
    "#%GlowScript 3.7.6 VPython\n",
    "from vpython import *\n",
    "h = 1.0/365.0  #[unidad astronomica]\n",
    "m = 1.0/332946.0  #[masa de la tierra]\n",
    "ep = 0.017     #energia potencial\n",
    "T = 1.0   #periodo (1 año)\n",
    "\n",
    "\n",
    "G = 4.0*pi*pi   ## Constante gravitacional\n",
    "k = G*m        #constante definida\n",
    "E = -pow(pi*pi*k*k*m/2.0/T/T,1.0/3.0)  #Energía \n",
    "L2 = m*k*k*(ep*ep-1)/2.0/E    #momento angular \n",
    "rmin = L2/(1+ep)/m/k  #radio minimo\n",
    "\n",
    "x1=rmin\n",
    "y1 = 0.0\n",
    "vx = 0.0   #(x1,y1) condiciones iniciales\n",
    "vy = sqrt(2/m*(E+k/rmin))   \n",
    "\n",
    "##Le damos forma al sistema tierra-sol\n",
    "display(range=1.2)\n",
    "Tiempo = label(pos=vec(0,0.65,0), color=color.green,height = 16,text='t = 0.000', box=False)\n",
    "Sol = sphere(pos=vec(0,0,0), radius=0.12, color=color.yellow)\n",
    "Tierra = sphere(pos=vec(x1,y1,0), radius=0.05, color=color.blue,make_trail=True)\n",
    "\n",
    "def fx(x,y):\n",
    "    r3=pow(x*x+y*y,1.5)  #pow() funcion para \"elevar\"\n",
    "    return(-G/r3*x)\n",
    "\n",
    "def fy(x,y):\n",
    "    r3=pow(x*x+y*y,1.5)\n",
    "    return(-G/r3*y)\n",
    "\n",
    "x0=x1-vx*h+h*h*fx(x1,y1)/2 \n",
    "y0=y1-vy*h+h*h*fy(x1,y1)/2\n",
    "\n",
    "for t in range(366):     #de 0 a 366 son 365 días\n",
    "    rate(50)\n",
    "    x2=2*x1-x0+h*h*fx(x1,y1)   #Algoritmo de Verlet \n",
    "    y2=2*y1-y0+h*h*fy(x1,y1)\n",
    "    Tierra.pos=vec(x2,y2,0)\n",
    "    S = str(t*h)[0:5]\n",
    "    Tiempo.text='t = ' + S\n",
    "    sleep(0.1)\n",
    "    print ('t = ',S, ', x = ',x2,', y = ',y2)\n",
    "    x0 = x1; x1 = x2\n",
    "    y0 = y1; y1 = y2   "
   ]
  },
  {
   "cell_type": "code",
   "execution_count": null,
   "metadata": {},
   "outputs": [],
   "source": []
  }
 ],
 "metadata": {
  "kernelspec": {
   "display_name": "Python 3",
   "language": "python",
   "name": "python3"
  },
  "language_info": {
   "codemirror_mode": {
    "name": "ipython",
    "version": 3
   },
   "file_extension": ".py",
   "mimetype": "text/x-python",
   "name": "python",
   "nbconvert_exporter": "python",
   "pygments_lexer": "ipython3",
   "version": "3.7.6"
  }
 },
 "nbformat": 4,
 "nbformat_minor": 4
}
