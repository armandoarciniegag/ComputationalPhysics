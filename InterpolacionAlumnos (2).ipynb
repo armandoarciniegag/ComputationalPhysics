{
 "cells": [
  {
   "cell_type": "markdown",
   "metadata": {
    "slideshow": {
     "slide_type": "slide"
    }
   },
   "source": [
    "# Interpolación"
   ]
  },
  {
   "cell_type": "code",
   "execution_count": 9,
   "metadata": {},
   "outputs": [],
   "source": [
    "import numpy as np\n",
    "import pandas as pd\n",
    "import matplotlib.pyplot as plt"
   ]
  },
  {
   "cell_type": "markdown",
   "metadata": {
    "slideshow": {
     "slide_type": "slide"
    }
   },
   "source": [
    "## Interpolación\n",
    "\n",
    "*Interpolación* es el proceso de encontrar una expressión (en muchos casos un polinomio) con un conjunto de puntos $(x, y)$ que pasan por este polinomio.\n",
    "\n",
    "### Ejemplo\n",
    "Buscamos el polinomio\n",
    "$$ p(x) = a_0 + a_1 x + a_2 x^2 $$\n",
    "donde tengamos algunos puntos dados\n",
    "$$ p(x_i) = y_i, \\qquad i = 1, 2, 3 $$"
   ]
  },
  {
   "cell_type": "code",
   "execution_count": 10,
   "metadata": {
    "hide_input": false,
    "slideshow": {
     "slide_type": "subslide"
    }
   },
   "outputs": [
    {
     "data": {
      "text/html": [
       "<div>\n",
       "<style scoped>\n",
       "    .dataframe tbody tr th:only-of-type {\n",
       "        vertical-align: middle;\n",
       "    }\n",
       "\n",
       "    .dataframe tbody tr th {\n",
       "        vertical-align: top;\n",
       "    }\n",
       "\n",
       "    .dataframe thead th {\n",
       "        text-align: right;\n",
       "    }\n",
       "</style>\n",
       "<table border=\"1\" class=\"dataframe\">\n",
       "  <thead>\n",
       "    <tr style=\"text-align: right;\">\n",
       "      <th></th>\n",
       "      <th>0</th>\n",
       "      <th>1</th>\n",
       "      <th>2</th>\n",
       "    </tr>\n",
       "  </thead>\n",
       "  <tbody>\n",
       "    <tr>\n",
       "      <th>x</th>\n",
       "      <td>0.0</td>\n",
       "      <td>0.785398</td>\n",
       "      <td>1.570796</td>\n",
       "    </tr>\n",
       "    <tr>\n",
       "      <th>y</th>\n",
       "      <td>0.0</td>\n",
       "      <td>0.707107</td>\n",
       "      <td>1.000000</td>\n",
       "    </tr>\n",
       "  </tbody>\n",
       "</table>\n",
       "</div>"
      ],
      "text/plain": [
       "     0         1         2\n",
       "x  0.0  0.785398  1.570796\n",
       "y  0.0  0.707107  1.000000"
      ]
     },
     "execution_count": 10,
     "metadata": {},
     "output_type": "execute_result"
    }
   ],
   "source": [
    "from math import *\n",
    "X1 = (0, pi/4, pi/2)      \n",
    "Y1 = (sin(0), sin(pi/4), sin(pi/2))    #X1, Y1 son arreglos\n",
    "pd.DataFrame([X1, Y1], index=[\"x\", \"y\"])  "
   ]
  },
  {
   "cell_type": "code",
   "execution_count": 11,
   "metadata": {
    "hide_input": true
   },
   "outputs": [
    {
     "ename": "ModuleNotFoundError",
     "evalue": "No module named 'sympy'",
     "output_type": "error",
     "traceback": [
      "\u001b[0;31m---------------------------------------------------------------------------\u001b[0m",
      "\u001b[0;31mModuleNotFoundError\u001b[0m                       Traceback (most recent call last)",
      "\u001b[0;32m<ipython-input-11-1f448fbcc89f>\u001b[0m in \u001b[0;36m<module>\u001b[0;34m\u001b[0m\n\u001b[0;32m----> 1\u001b[0;31m \u001b[0;32mfrom\u001b[0m \u001b[0msympy\u001b[0m \u001b[0;32mimport\u001b[0m \u001b[0minit_printing\u001b[0m\u001b[0;34m\u001b[0m\u001b[0;34m\u001b[0m\u001b[0m\n\u001b[0m\u001b[1;32m      2\u001b[0m \u001b[0;32mfrom\u001b[0m \u001b[0msympy\u001b[0m \u001b[0;32mimport\u001b[0m \u001b[0;34m*\u001b[0m\u001b[0;34m\u001b[0m\u001b[0;34m\u001b[0m\u001b[0m\n\u001b[1;32m      3\u001b[0m \u001b[0;32mfrom\u001b[0m \u001b[0msympy\u001b[0m\u001b[0;34m.\u001b[0m\u001b[0mabc\u001b[0m \u001b[0;32mimport\u001b[0m \u001b[0mx\u001b[0m\u001b[0;34m,\u001b[0m \u001b[0mepsilon\u001b[0m\u001b[0;34m,\u001b[0m \u001b[0malpha\u001b[0m\u001b[0;34m\u001b[0m\u001b[0;34m\u001b[0m\u001b[0m\n\u001b[1;32m      4\u001b[0m \u001b[0;34m\u001b[0m\u001b[0m\n\u001b[1;32m      5\u001b[0m \u001b[0mp1\u001b[0m \u001b[0;34m=\u001b[0m \u001b[0minterpolating_poly\u001b[0m\u001b[0;34m(\u001b[0m\u001b[0;36m3\u001b[0m\u001b[0;34m,\u001b[0m \u001b[0mx\u001b[0m\u001b[0;34m,\u001b[0m \u001b[0mX1\u001b[0m\u001b[0;34m,\u001b[0m \u001b[0mY1\u001b[0m\u001b[0;34m)\u001b[0m \u001b[0;31m#funcion de SymPy que interpola un polinomio  (grado, sobre que variable, nodos)\u001b[0m\u001b[0;34m\u001b[0m\u001b[0;34m\u001b[0m\u001b[0m\n",
      "\u001b[0;31mModuleNotFoundError\u001b[0m: No module named 'sympy'"
     ]
    }
   ],
   "source": [
    "from sympy import init_printing\n",
    "from sympy import *\n",
    "from sympy.abc import x, epsilon, alpha\n",
    "\n",
    "p1 = interpolating_poly(3, x, X1, Y1) #funcion de SymPy que interpola un polinomio  (grado, sobre que variable, nodos)\n",
    "p1n = lambdify(x, p1) #lambdify=(args, expr) Translates a SymPy expression into an equivalent numeric function , se traduce a calculo numérico con lambdify \n",
    "\n",
    "x1r = np.linspace(0, 1.58)\n",
    "plt.plot(x1r, np.sin(x1r), label = \"$\\sin x$\")\n",
    "plt.plot(x1r, p1n(x1r), label=\"$p_2(x)$\")\n",
    "plt.plot([N(x) for x in X1], [N(x) for x in Y1], 's')   #se grafican los puntos, X1,Y1 son los nodos, los nodos son los puntos que están en la función \n",
    "plt.legend();"
   ]
  },
  {
   "cell_type": "markdown",
   "metadata": {
    "slideshow": {
     "slide_type": "slide"
    }
   },
   "source": [
    "## Propósitos de la interpolación\n",
    "\n",
    "1. Reemplazar un conjunto de puntos ${(x_i, y_i)}$ por una función cerrada.\n",
    "2. Aproximar una función por otra, más sencilla. Tipicamente se usan polinomios o polinomios a trozos (piecewise polinomials)\n",
    "\n",
    "Propósito #1 tiene varios aspectos:\n",
    "\n",
    "- Los datos pueden ser generadas por una clase de función específica. Por ejemplo:\n",
    "  $$ p(x) = a_0 + a_1 e^x + a_2 e^{2x} + \\dots + a_n e^{n x}$$\n",
    "  En este caso hay que encontrar a los coeficientes ${a_j}$."
   ]
  },
  {
   "cell_type": "markdown",
   "metadata": {
    "slideshow": {
     "slide_type": "subslide"
    }
   },
   "source": [
    "- Tenemos los valores de la función $f(x)$ tabulados. Queremos evaluar $f(x)$ para un $x$ desconocido.\n",
    "\n",
    "  Por ejemplo. tenemos una tabla de logaritmos y queremos el logaritmo para un $x$ no en dado.\n",
    "  \n",
    "- Dado un conjunto de puntos ${(x_i, y_i)}$, queremos una curva que pasa por los puntos. Eso ocurre, por ejemplo, cuando gráficamos funciones. \n",
    "  Usar líneas rectas genera esquinas, nos gusta más tener una funciones diferenciable en todos los puntos."
   ]
  },
  {
   "cell_type": "markdown",
   "metadata": {
    "slideshow": {
     "slide_type": "subslide"
    }
   },
   "source": [
    "El propósito #2 es aproximar una función $f(x)$ para una función más sencilla. Eso puede ayudar para encontrar la derivada o la integral de $f(x)$. \n",
    "\n",
    "Por ejemplo: la evaluación de\n",
    "$$ I = \\int_0^1 \\frac{d x}{1 + x^{10}} $$\n",
    "no es fácil en forma cerrada. Veremos como es posible resolverlo con la integración de polinomios interpolantes."
   ]
  },
  {
   "cell_type": "markdown",
   "metadata": {
    "slideshow": {
     "slide_type": "slide"
    }
   },
   "source": [
    "## Interpolación lineal\n",
    "\n",
    "La forma más fácil de interpolar es usar una line recta, es decir, un polinomio del orden 1\n",
    "$$ P_1(x) = a_0 + a_1 x $$\n",
    "Es único, dado dos puntos $(x_0, y_0)$, $(x_1, y_1)$. Existen diferentes representaciones:\n",
    "\\begin{align}\n",
    "P_1(x)\n",
    "  &= \\frac{x - x_1}{x_0 - x_1} y_0 + \\frac{x - x_0}{x_1 - x_0} y_1 \\\\\n",
    "  &= \\frac{(x_1 - x) y_0 + (x - x_0) y_1}{x_1 - x_0} \\\\\n",
    "  &= y_0 + \\frac{x - x_0}{x_1 - x_0} [y_1 - y_0] \\\\\n",
    "  &= y_0 + \\frac{y_1 - y_0}{x_1 - x_0} (x - x_0) \\\\\n",
    "\\end{align}\n"
   ]
  },
  {
   "cell_type": "code",
   "execution_count": 4,
   "metadata": {},
   "outputs": [
    {
     "name": "stdout",
     "output_type": "stream",
     "text": [
      "El resultado de zip es: \n",
      "[('Alan', 4, 18), ('Elly', 1, 19), ('Elias', 3, 20), ('Jordan', 2, 21)]\n",
      "\n",
      "\n"
     ]
    }
   ],
   "source": [
    "#Antes, un poco sobre Zip\n",
    "\n",
    "nombre = [ \"Alan\", \"Elly\", \"Elias\", \"Jordan\" ] \n",
    "semestre = [ 4, 1, 3, 2 ] \n",
    "edad = [ 18, 19, 20, 21 ] \n",
    "  \n",
    "# using zip() to map values \n",
    "junto = zip(nombre, semestre, edad) \n",
    "  \n",
    "# converting values to print as list \n",
    "junto = list(junto) \n",
    "  \n",
    "print (\"El resultado de zip es: \") \n",
    "print (junto) \n",
    "  \n",
    "print(\"\\n\") \n",
    "  "
   ]
  },
  {
   "cell_type": "markdown",
   "metadata": {
    "slideshow": {
     "slide_type": "subslide"
    }
   },
   "source": [
    "### Ejemplo\n",
    "\n",
    "Interpolación para $f(x) = \\tan x$ para $x=1.15$."
   ]
  },
  {
   "cell_type": "code",
   "execution_count": 14,
   "metadata": {},
   "outputs": [
    {
     "data": {
      "text/html": [
       "<div>\n",
       "<style scoped>\n",
       "    .dataframe tbody tr th:only-of-type {\n",
       "        vertical-align: middle;\n",
       "    }\n",
       "\n",
       "    .dataframe tbody tr th {\n",
       "        vertical-align: top;\n",
       "    }\n",
       "\n",
       "    .dataframe thead th {\n",
       "        text-align: right;\n",
       "    }\n",
       "</style>\n",
       "<table border=\"1\" class=\"dataframe\">\n",
       "  <thead>\n",
       "    <tr style=\"text-align: right;\">\n",
       "      <th></th>\n",
       "      <th>0</th>\n",
       "      <th>1</th>\n",
       "      <th>2</th>\n",
       "      <th>3</th>\n",
       "    </tr>\n",
       "  </thead>\n",
       "  <tbody>\n",
       "    <tr>\n",
       "      <th>$x$</th>\n",
       "      <td>1.000000</td>\n",
       "      <td>1.10000</td>\n",
       "      <td>1.200000</td>\n",
       "      <td>1.300000</td>\n",
       "    </tr>\n",
       "    <tr>\n",
       "      <th>$\\tan x$</th>\n",
       "      <td>1.557408</td>\n",
       "      <td>1.96476</td>\n",
       "      <td>2.572152</td>\n",
       "      <td>3.602102</td>\n",
       "    </tr>\n",
       "  </tbody>\n",
       "</table>\n",
       "</div>"
      ],
      "text/plain": [
       "                 0        1         2         3\n",
       "$x$       1.000000  1.10000  1.200000  1.300000\n",
       "$\\tan x$  1.557408  1.96476  2.572152  3.602102"
      ]
     },
     "execution_count": 14,
     "metadata": {},
     "output_type": "execute_result"
    }
   ],
   "source": [
    "import numpy as np\n",
    "import pandas as pd\n",
    "import matplotlib.pyplot as plt\n",
    "\n",
    "\n",
    "X2 = [1, 1.1, 1.2, 1.3]\n",
    "Y2 = np.tan(X2)\n",
    "Points2 = list(zip(X2, Y2)) \n",
    "#zip() the purpose of zip() is to map the similar index of multiple containers \n",
    "#so that they can be used just using as single entity.\n",
    "\n",
    "tan = pd.DataFrame(Points2, columns=[\"$x$\", r\"$\\tan x$\"]).transpose()\n",
    "tan\n"
   ]
  },
  {
   "cell_type": "code",
   "execution_count": 3,
   "metadata": {
    "slideshow": {
     "slide_type": "-"
    }
   },
   "outputs": [
    {
     "data": {
      "text/plain": [
       "'2.268, 2.234, error = -3.3959e-02'"
      ]
     },
     "execution_count": 3,
     "metadata": {},
     "output_type": "execute_result"
    }
   ],
   "source": [
    "def lin_interp(x, p0, p1):\n",
    "    x0, y0 = p0\n",
    "    x1, y1 = p1\n",
    "    return y0 + (x - x0) / (x1 - x0) * (y1 - y0) #formula de interpolacion lineal\n",
    "\n",
    "res = lin_interp(1.15, Points2[1], Points2[2])\n",
    "\"{:.4}, {:.4}, error = {:.4e}\".format(res, np.tan(1.15), np.tan(1.15) - res)"
   ]
  },
  {
   "cell_type": "code",
   "execution_count": 15,
   "metadata": {
    "hide_input": true,
    "slideshow": {
     "slide_type": "subslide"
    }
   },
   "outputs": [
    {
     "data": {
      "text/plain": [
       "<matplotlib.legend.Legend at 0x7f814d30ba50>"
      ]
     },
     "execution_count": 15,
     "metadata": {},
     "output_type": "execute_result"
    },
    {
     "data": {
      "image/png": "[encoded data removed]",
      "text/plain": [
       "<Figure size 1440x648 with 2 Axes>"
      ]
     },
     "metadata": {
      "needs_background": "light"
     },
     "output_type": "display_data"
    }
   ],
   "source": [
    "#la r frente a una cadena de caracteres lo hace un raw string (literal). \n",
    "\n",
    "# creamos una figura completa (fig), que tendra 2 subfiguras ax1 y ax2 con la \n",
    "fig, (ax1, ax2) = plt.subplots(nrows=1,ncols=2, figsize=(20, 9))    \n",
    "xr = np.linspace(0, 1.4)  #linspace regresa valores equidistantes entre el intervalo (0,1.4)\n",
    "ax1.plot(xr, np.tan(xr), label=r\"$y = \\tan x$\")\n",
    "ax1.plot(X2, Y2, \"o\")\n",
    "ax1.set_title(r\"$y = \\tan x$\")\n",
    "ax1.legend()\n",
    "\n",
    "xr = np.linspace(1.08, 1.22)\n",
    "ax2.plot(xr, np.tan(xr), label=\"r$y = \\tan x$\")  #\n",
    "ax2.plot(xr, lin_interp(xr, Points2[1], Points2[2]), \":\", label=r\"$y = p_1(x)$\")\n",
    "ax2.set_title(r\"$y = interpolate\\;\\tan x$\")\n",
    "ax2.legend()"
   ]
  },
  {
   "cell_type": "markdown",
   "metadata": {
    "slideshow": {
     "slide_type": "slide"
    }
   },
   "source": [
    "## Interpolación cuadratica\n",
    "\n",
    "Queremos encontrar el polinomio\n",
    "$$ P_2(x) = a_0 + a_1 x + a_2 x^2 $$\n",
    "con\n",
    "$$ P(x_i) = y_i, \\qquad i = 1, 2, 3 $$\n",
    "para los puntos $(x_0, y_0)$, $(x_1, y_1)$, $(x_2, y_2)$. Una posibilidad es \n",
    "$$ P_2(x) = y_0 L_0(x) + y_1 L_1(x) + y_2 L_2(x) $$\n",
    "con\n",
    "$$ L_0 = \\frac{(x - x_1)(x - x_2)}{(x_0 - x_1)(x_0 - x_2)} $$\n",
    "$$ \n",
    "  L_1 = \\frac{(x - x_0)(x - x_2)}{(x_1 - x_0)(x_1 - x_2)}, \\qquad \n",
    "  L_2 = \\frac{(x - x_1)(x - x_0)}{(x_0 - x_1)(x_2 - x_1)}\n",
    "$$\n",
    "\"$L_n$ funciones cardinales\" y los $y_n$ son las y´s de los nodos.   Es la *forma de Lagrange* para el polinomio interpolante.\n",
    "\n",
    "\n"
   ]
  },
  {
   "cell_type": "markdown",
   "metadata": {
    "slideshow": {
     "slide_type": "subslide"
    }
   },
   "source": [
    "### Polinomios base de Lagrange\n",
    "\n",
    "$$ L_0 = \\frac{(x - x_1)(x - x_2)}{(x_0 - x_1)(x_0 - x_2)} $$\n",
    "$$ \n",
    "  L_1 = \\frac{(x - x_0)(x - x_2)}{(x_1 - x_0)(x_1 - x_2)}, \\qquad \n",
    "  L_2 = \\frac{(x - x_1)(x - x_0)}{(x_0 - x_1)(x_2 - x_1)}\n",
    "$$\n",
    "son los *polinomios base* de Lagrange para interpolación cuadratica. Tienen la propiedad\n",
    "$$ L_i(x_j) = \\begin{cases}\n",
    "                1, \\quad i = j\\\\\n",
    "                0, \\quad i \\ne j\\\\\n",
    "              \\end{cases}\n",
    "              \\qquad i, j = 1, 2, 3\n",
    "$$\n",
    "Por construcción tienen grado 2. Como consecuencia, el polinomio interpolante\n",
    "$$ P_2(x) = y_0 L_0(x) + y_1 L_1(x) + y_2 L_2(x) $$\n",
    "debe tener grado $\\le 2$."
   ]
  },
  {
   "cell_type": "markdown",
   "metadata": {
    "slideshow": {
     "slide_type": "subslide"
    }
   },
   "source": [
    "### Solución única?\n",
    "\n",
    "Suponemos que exista $Q(x)$ con $\\mathrm{deg} (Q) \\le 2$ y\n",
    "$$ Q(x_i) = y_i, \\qquad i=1, 2, 3 $$\n",
    "Definimos\n",
    "$$ R(x) = P_2(x) - Q(x) $$\n",
    "que tiene que tener $\\deg(R) \\le 2$. Además\n",
    "$$ R(x_i) = P_2(x_i) - Q(x_i) = y_i - y_i = 0 $$\n",
    "El único polinomio de grado 2 con 3 ceros distintos es el cero-polinomio\n",
    "$$ R(x) = 0 $$\n",
    "Entonces tenemos \n",
    "$$ Q(x) = P_2(x) $$ **QED**"
   ]
  },
  {
   "cell_type": "code",
   "execution_count": null,
   "metadata": {},
   "outputs": [],
   "source": []
  },
  {
   "cell_type": "code",
   "execution_count": 59,
   "metadata": {},
   "outputs": [
    {
     "data": {
      "text/plain": [
       "'0.08052, 3.602, error = 3.5216e+00'"
      ]
     },
     "execution_count": 59,
     "metadata": {},
     "output_type": "execute_result"
    }
   ],
   "source": [
    "#Haz tu código con gráfica del polinomio interpolado de grado 2 para Tan\n",
    "\n",
    "def interp_cuadr(x, p0, p1, p2):\n",
    "    x0, y0 = p0\n",
    "    x1, y1 = p1\n",
    "    x2, y2 = p2\n",
    "    return y0*((x-x1)*(x-x2)/(x0-x1)*(x0-x2))+y1*((x-x0)*(x-x2)/(x1-x0)*(x1-x2))+y2*((x-x0)*(x-x1)/(x2-x0)*(x2-x1))             #formula de interpolacion cuadratica\n",
    "\n",
    "\n",
    "\n",
    "X2 = [1, 1.1, 1.2, 1.3]\n",
    "Y2 = np.tan(X2)\n",
    "Points3 = list(zip(X2,Y2)) \n",
    "\n",
    "res = interp_cuadr(1.3, Points3[0], Points3[1], Points3[2])\n",
    "\"{:.4}, {:.4}, error = {:.4e}\".format(res, np.tan(1.3), np.tan(1.3) - res)\n",
    "\n"
   ]
  },
  {
   "cell_type": "code",
   "execution_count": 63,
   "metadata": {},
   "outputs": [
    {
     "data": {
      "text/plain": [
       "<matplotlib.legend.Legend at 0x200aa2ee9c8>"
      ]
     },
     "execution_count": 63,
     "metadata": {},
     "output_type": "execute_result"
    },
    {
     "data": {
      "image/png": "[encoded data removed]",
      "text/plain": [
       "<Figure size 1440x648 with 2 Axes>"
      ]
     },
     "metadata": {
      "needs_background": "light"
     },
     "output_type": "display_data"
    }
   ],
   "source": [
    "fig, (ax1, ax2) = plt.subplots(nrows=1,ncols=2, figsize=(20, 9))    \n",
    "xr = np.linspace(1.0, 1.3)  #linspace regresa valores equidistantes entre el intervalo (0,1.4)\n",
    "ax1.plot(xr, np.tan(xr), label=r\"$y = \\tan x$\")\n",
    "ax1.plot(X2, Y2, \"o\")\n",
    "ax1.set_title(r\"$y = \\tan x$\")\n",
    "ax1.legend()\n",
    "\n",
    "xr = np.linspace(0,2)\n",
    "ax2.plot(xr, np.tan(xr), label=r\"$y = \\tan x$\")  #\n",
    "ax2.plot(xr, interp_cuadr(xr, Points3[0], Points3[1],Points3[2]), \":\", label=r\"$y = p_1(x)+p_2(x^2)$\")\n",
    "ax2.set_title(r\"$y = interpolate\\;\\tan x$\")\n",
    "ax2.legend()"
   ]
  },
  {
   "cell_type": "markdown",
   "metadata": {},
   "source": [
    "## Interpolación de orden más alto\n",
    "\n",
    "Consideramos el caso de interpolación con un polinomio de orden $n$. Buscamos a un polinomio $P_n(x)$ con\n",
    "$$ \\deg(P_n) \\leq n$$\n",
    "$$ P_n(x_i) = y_i, \\qquad i = 0, 1, \\dots, n $$\n",
    "con los puntos\n",
    "$$ (x_0, y_0), (x_1, y_1), \\dots, (x_n, y_n)$$\n",
    "La solución esta proporcionada por la *formula de Lagrange*\n",
    "$$ P_n(x) = y_0 L_0(x) + y_1 L_1(x) + \\dots + y_n L_n(x) $$\n",
    "Los funciones base de Lagrange son\n",
    "$$ L_k(x) = \\frac{(x - x_0) \\dots (x - x_{k-1})(x - x_{k+1}) \\dots (x - x_n)}{(x_k - x_0) \\dots (x_k - x_{k-1})(x - x_{k+1}) \\dots (x_k - x_n)}$$\n",
    "para $k = 1, 2, \\dots, n$. \n",
    "\n",
    "Se puede demonstra de manera similar al caso cuadratico que $P_n(x)$ es solución única al problema de interpolación."
   ]
  },
  {
   "cell_type": "markdown",
   "metadata": {},
   "source": [
    "En la expresión\n",
    "$$ L_k(x) = \\frac{(x - x_0) \\dots (x - x_{k-1})(x - x_{k+1}) \\dots (x - x_n)}{(x_k - x_0) \\dots (x_k - x_{k-1})(x - x_{k+1}) \\dots (x_k - x_n)}$$\n",
    "es claro que es polinomio de grado $n$. Adicionalmente\n",
    "$$ L_k(x_j) = \\begin{cases}\n",
    "                1, \\quad k = j\\\\\n",
    "                0, \\quad k \\ne j\\\\\n",
    "              \\end{cases}\n",
    "              \\qquad k, j = 1, 2, \\dots, n\n",
    "$$\n",
    "Con estas propriedades es fácil concluir que \n",
    "$$ P_n(x) = y_0 L_0(x) + y_1 L_1(x) + \\dots + y_n L_n(x) $$\n",
    "realmente cumple con \n",
    "$$ \\deg(P_n) \\leq n$$\n",
    "$$ P_n(x_i) = y_i, \\qquad i = 0, 1, \\dots, n $$"
   ]
  },
  {
   "cell_type": "code",
   "execution_count": 9,
   "metadata": {},
   "outputs": [
    {
     "data": {
      "text/html": [
       "<div>\n",
       "<style scoped>\n",
       "    .dataframe tbody tr th:only-of-type {\n",
       "        vertical-align: middle;\n",
       "    }\n",
       "\n",
       "    .dataframe tbody tr th {\n",
       "        vertical-align: top;\n",
       "    }\n",
       "\n",
       "    .dataframe thead th {\n",
       "        text-align: right;\n",
       "    }\n",
       "</style>\n",
       "<table border=\"1\" class=\"dataframe\">\n",
       "  <thead>\n",
       "    <tr style=\"text-align: right;\">\n",
       "      <th></th>\n",
       "      <th>0</th>\n",
       "      <th>1</th>\n",
       "      <th>2</th>\n",
       "      <th>3</th>\n",
       "    </tr>\n",
       "  </thead>\n",
       "  <tbody>\n",
       "    <tr>\n",
       "      <th>$x$</th>\n",
       "      <td>1.000000</td>\n",
       "      <td>1.10000</td>\n",
       "      <td>1.200000</td>\n",
       "      <td>1.300000</td>\n",
       "    </tr>\n",
       "    <tr>\n",
       "      <th>$\\tan x$</th>\n",
       "      <td>1.557408</td>\n",
       "      <td>1.96476</td>\n",
       "      <td>2.572152</td>\n",
       "      <td>3.602102</td>\n",
       "    </tr>\n",
       "  </tbody>\n",
       "</table>\n",
       "</div>"
      ],
      "text/plain": [
       "                 0        1         2         3\n",
       "$x$       1.000000  1.10000  1.200000  1.300000\n",
       "$\\tan x$  1.557408  1.96476  2.572152  3.602102"
      ]
     },
     "execution_count": 9,
     "metadata": {},
     "output_type": "execute_result"
    }
   ],
   "source": [
    "tan"
   ]
  },
  {
   "cell_type": "markdown",
   "metadata": {},
   "source": [
    "Lo interpolamos con los nodos $x_0=1.0$, $x_1=1.1$, $x_2=1.2$ y $x_3=1.3$."
   ]
  },
  {
   "cell_type": "code",
   "execution_count": 10,
   "metadata": {},
   "outputs": [],
   "source": [
    "interp = [N(interpolating_poly(2, 1.15, X2[1:3], Y2[1:3])), # x_1, x_2   (grado, sobre que variable)\n",
    "          N(interpolating_poly(3, 1.15, X2[:3], Y2[:3])),   # x_0, x_1, x_2\n",
    "          N(interpolating_poly(3, 1.15, X2[1:], Y2[1:])),   # x_1, x_2, x_3\n",
    "          N(interpolating_poly(4, 1.15, X2, Y2)),           # x_0, x_1, x_2, x_3\n",
    "]"
   ]
  },
  {
   "cell_type": "code",
   "execution_count": 11,
   "metadata": {},
   "outputs": [
    {
     "data": {
      "text/html": [
       "<div>\n",
       "<style scoped>\n",
       "    .dataframe tbody tr th:only-of-type {\n",
       "        vertical-align: middle;\n",
       "    }\n",
       "\n",
       "    .dataframe tbody tr th {\n",
       "        vertical-align: top;\n",
       "    }\n",
       "\n",
       "    .dataframe thead th {\n",
       "        text-align: right;\n",
       "    }\n",
       "</style>\n",
       "<table border=\"1\" class=\"dataframe\">\n",
       "  <thead>\n",
       "    <tr style=\"text-align: right;\">\n",
       "      <th></th>\n",
       "      <th>$n$</th>\n",
       "      <th>$P_n(1.15)$</th>\n",
       "      <th>error</th>\n",
       "    </tr>\n",
       "  </thead>\n",
       "  <tbody>\n",
       "    <tr>\n",
       "      <th>0</th>\n",
       "      <td>1</td>\n",
       "      <td>2.26845563968749</td>\n",
       "      <td>-0.0339586909321601</td>\n",
       "    </tr>\n",
       "    <tr>\n",
       "      <th>1</th>\n",
       "      <td>2</td>\n",
       "      <td>2.24345063565200</td>\n",
       "      <td>-0.00895368689666975</td>\n",
       "    </tr>\n",
       "    <tr>\n",
       "      <th>2</th>\n",
       "      <td>2</td>\n",
       "      <td>2.21563578206699</td>\n",
       "      <td>0.0188611666883389</td>\n",
       "    </tr>\n",
       "    <tr>\n",
       "      <th>3</th>\n",
       "      <td>3</td>\n",
       "      <td>2.22954320885949</td>\n",
       "      <td>0.00495373989583525</td>\n",
       "    </tr>\n",
       "  </tbody>\n",
       "</table>\n",
       "</div>"
      ],
      "text/plain": [
       "   $n$       $P_n(1.15)$                 error\n",
       "0    1  2.26845563968749   -0.0339586909321601\n",
       "1    2  2.24345063565200  -0.00895368689666975\n",
       "2    2  2.21563578206699    0.0188611666883389\n",
       "3    3  2.22954320885949   0.00495373989583525"
      ]
     },
     "execution_count": 11,
     "metadata": {},
     "output_type": "execute_result"
    }
   ],
   "source": [
    "degree = [1, 2, 2, 3]\n",
    "errors = [np.tan(1.15) - r for r in interp]\n",
    "df_ex2 = pd.DataFrame(list(zip(degree, interp, errors)), columns=[\"$n$\", \"$P_n(1.15)$\", \"error\"])\n",
    "df_ex2"
   ]
  },
  {
   "cell_type": "markdown",
   "metadata": {},
   "source": [
    "Notamos que el error baja con el orden la interpolación, pero no muy rapidamente. El error crece otra vez cuando aumentamos puntos!\n",
    "\n",
    "En general, la interpolación con un polinomio de orden alto y nodos $\\{ x_i \\}$ equidistantes y muy separados no tiene buen comportamiento numérico."
   ]
  },
  {
   "cell_type": "code",
   "execution_count": 12,
   "metadata": {},
   "outputs": [],
   "source": [
    "#Haz tu código con gráfica del polinomio interpolado de grado 2 para Tan"
   ]
  },
  {
   "cell_type": "code",
   "execution_count": 13,
   "metadata": {},
   "outputs": [],
   "source": [
    "#Tu codigo de interpolacion de polinomio de grado n"
   ]
  },
  {
   "cell_type": "code",
   "execution_count": 43,
   "metadata": {},
   "outputs": [
    {
     "ename": "TypeError",
     "evalue": "'module' object is not callable",
     "output_type": "error",
     "traceback": [
      "\u001b[0;31m---------------------------------------------------------------------------\u001b[0m",
      "\u001b[0;31mTypeError\u001b[0m                                 Traceback (most recent call last)",
      "\u001b[0;32m<ipython-input-43-3bffaea7bbf3>\u001b[0m in \u001b[0;36m<module>\u001b[0;34m\u001b[0m\n\u001b[0;32m----> 1\u001b[0;31m \u001b[0mxm\u001b[0m \u001b[0;34m=\u001b[0m \u001b[0marray\u001b[0m\u001b[0;34m(\u001b[0m\u001b[0;34m[\u001b[0m\u001b[0;36m1\u001b[0m\u001b[0;34m,\u001b[0m\u001b[0;36m2\u001b[0m\u001b[0;34m,\u001b[0m\u001b[0;36m3\u001b[0m\u001b[0;34m,\u001b[0m\u001b[0;36m4\u001b[0m\u001b[0;34m,\u001b[0m\u001b[0;36m5\u001b[0m\u001b[0;34m,\u001b[0m\u001b[0;36m6\u001b[0m\u001b[0;34m]\u001b[0m\u001b[0;34m)\u001b[0m\u001b[0;34m\u001b[0m\u001b[0;34m\u001b[0m\u001b[0m\n\u001b[0m\u001b[1;32m      2\u001b[0m \u001b[0mym\u001b[0m \u001b[0;34m=\u001b[0m \u001b[0marray\u001b[0m\u001b[0;34m(\u001b[0m\u001b[0;34m[\u001b[0m\u001b[0;34m-\u001b[0m\u001b[0;36m3\u001b[0m \u001b[0;34m,\u001b[0m\u001b[0;36m0\u001b[0m \u001b[0;34m,\u001b[0m\u001b[0;34m-\u001b[0m\u001b[0;36m1\u001b[0m \u001b[0;34m,\u001b[0m\u001b[0;36m2\u001b[0m \u001b[0;34m,\u001b[0m\u001b[0;36m1\u001b[0m \u001b[0;34m,\u001b[0m \u001b[0;36m4\u001b[0m\u001b[0;34m]\u001b[0m\u001b[0;34m)\u001b[0m\u001b[0;34m\u001b[0m\u001b[0;34m\u001b[0m\u001b[0m\n\u001b[1;32m      3\u001b[0m \u001b[0mxplot\u001b[0m \u001b[0;34m=\u001b[0m\u001b[0;31m \u001b[0m\u001b[0;31m\\\u001b[0m\u001b[0;34m\u001b[0m\u001b[0;34m\u001b[0m\u001b[0m\n\u001b[1;32m      4\u001b[0m \u001b[0mlinspace\u001b[0m \u001b[0;34m(\u001b[0m \u001b[0;36m0.9\u001b[0m \u001b[0;34m,\u001b[0m \u001b[0;36m6.1\u001b[0m \u001b[0;34m,\u001b[0m \u001b[0;36m100\u001b[0m \u001b[0;34m)\u001b[0m\u001b[0;34m\u001b[0m\u001b[0;34m\u001b[0m\u001b[0m\n\u001b[1;32m      5\u001b[0m \u001b[0myplot\u001b[0m \u001b[0;34m=\u001b[0m\u001b[0;31m \u001b[0m\u001b[0;31m\\\u001b[0m\u001b[0;34m\u001b[0m\u001b[0;34m\u001b[0m\u001b[0m\n",
      "\u001b[0;31mTypeError\u001b[0m: 'module' object is not callable"
     ]
    }
   ],
   "source": []
  },
  {
   "cell_type": "code",
   "execution_count": 50,
   "metadata": {},
   "outputs": [],
   "source": [
    "def lagrange(x,i,xm):   #crea los polinomios de Lagrange\n",
    "    n=len( xm )-1    #define el grado del polinomio que es n-1\n",
    "    y=1 \n",
    "    for j in range (n+1):  \n",
    "        if i!=j:      #donde i es distinto de j \n",
    "            y*=( x-xm[j])/( xm[i]-xm[j])   #formula de los polinomios \n",
    "    return y\n"
   ]
  },
  {
   "cell_type": "code",
   "execution_count": 48,
   "metadata": {},
   "outputs": [],
   "source": [
    "def interpolation(x,xm,ym):\n",
    "    n=len( xm )-1\n",
    "    lagrpoly = array ([ lagrange (x ,i , xm ) for i in range ( n+1 )])\n",
    "    y = dot( ym , lagrpoly )\n",
    "    return y"
   ]
  },
  {
   "cell_type": "code",
   "execution_count": 49,
   "metadata": {},
   "outputs": [
    {
     "ename": "TypeError",
     "evalue": "'module' object is not callable",
     "output_type": "error",
     "traceback": [
      "\u001b[0;31m---------------------------------------------------------------------------\u001b[0m",
      "\u001b[0;31mTypeError\u001b[0m                                 Traceback (most recent call last)",
      "\u001b[0;32m<ipython-input-49-3bffaea7bbf3>\u001b[0m in \u001b[0;36m<module>\u001b[0;34m\u001b[0m\n\u001b[0;32m----> 1\u001b[0;31m \u001b[0mxm\u001b[0m \u001b[0;34m=\u001b[0m \u001b[0marray\u001b[0m\u001b[0;34m(\u001b[0m\u001b[0;34m[\u001b[0m\u001b[0;36m1\u001b[0m\u001b[0;34m,\u001b[0m\u001b[0;36m2\u001b[0m\u001b[0;34m,\u001b[0m\u001b[0;36m3\u001b[0m\u001b[0;34m,\u001b[0m\u001b[0;36m4\u001b[0m\u001b[0;34m,\u001b[0m\u001b[0;36m5\u001b[0m\u001b[0;34m,\u001b[0m\u001b[0;36m6\u001b[0m\u001b[0;34m]\u001b[0m\u001b[0;34m)\u001b[0m\u001b[0;34m\u001b[0m\u001b[0;34m\u001b[0m\u001b[0m\n\u001b[0m\u001b[1;32m      2\u001b[0m \u001b[0mym\u001b[0m \u001b[0;34m=\u001b[0m \u001b[0marray\u001b[0m\u001b[0;34m(\u001b[0m\u001b[0;34m[\u001b[0m\u001b[0;34m-\u001b[0m\u001b[0;36m3\u001b[0m \u001b[0;34m,\u001b[0m\u001b[0;36m0\u001b[0m \u001b[0;34m,\u001b[0m\u001b[0;34m-\u001b[0m\u001b[0;36m1\u001b[0m \u001b[0;34m,\u001b[0m\u001b[0;36m2\u001b[0m \u001b[0;34m,\u001b[0m\u001b[0;36m1\u001b[0m \u001b[0;34m,\u001b[0m \u001b[0;36m4\u001b[0m\u001b[0;34m]\u001b[0m\u001b[0;34m)\u001b[0m\u001b[0;34m\u001b[0m\u001b[0;34m\u001b[0m\u001b[0m\n\u001b[1;32m      3\u001b[0m \u001b[0mxplot\u001b[0m \u001b[0;34m=\u001b[0m\u001b[0;31m \u001b[0m\u001b[0;31m\\\u001b[0m\u001b[0;34m\u001b[0m\u001b[0;34m\u001b[0m\u001b[0m\n\u001b[1;32m      4\u001b[0m \u001b[0mlinspace\u001b[0m \u001b[0;34m(\u001b[0m \u001b[0;36m0.9\u001b[0m \u001b[0;34m,\u001b[0m \u001b[0;36m6.1\u001b[0m \u001b[0;34m,\u001b[0m \u001b[0;36m100\u001b[0m \u001b[0;34m)\u001b[0m\u001b[0;34m\u001b[0m\u001b[0;34m\u001b[0m\u001b[0m\n\u001b[1;32m      5\u001b[0m \u001b[0myplot\u001b[0m \u001b[0;34m=\u001b[0m\u001b[0;31m \u001b[0m\u001b[0;31m\\\u001b[0m\u001b[0;34m\u001b[0m\u001b[0;34m\u001b[0m\u001b[0m\n",
      "\u001b[0;31mTypeError\u001b[0m: 'module' object is not callable"
     ]
    }
   ],
   "source": [
    "xm = array([1,2,3,4,5,6])\n",
    "ym = array([-3 ,0 ,-1 ,2 ,1 , 4])\n",
    "xplot = \\\n",
    "linspace ( 0.9 , 6.1 , 100 )\n",
    "yplot = \\\n",
    "interpolation ( xplot , xm , ym )"
   ]
  },
  {
   "cell_type": "code",
   "execution_count": null,
   "metadata": {},
   "outputs": [],
   "source": []
  }
 ],
 "metadata": {
  "celltoolbar": "Slideshow",
  "hide_input": false,
  "kernelspec": {
   "display_name": "Python 3",
   "language": "python",
   "name": "python3"
  },
  "language_info": {
   "codemirror_mode": {
    "name": "ipython",
    "version": 3
   },
   "file_extension": ".py",
   "mimetype": "text/x-python",
   "name": "python",
   "nbconvert_exporter": "python",
   "pygments_lexer": "ipython3",
   "version": "3.7.6"
  },
  "latex_envs": {
   "LaTeX_envs_menu_present": true,
   "autoclose": false,
   "autocomplete": true,
   "bibliofile": "biblio.bib",
   "cite_by": "apalike",
   "current_citInitial": 1,
   "eqLabelWithNumbers": true,
   "eqNumInitial": 1,
   "hotkeys": {
    "equation": "Ctrl-E",
    "itemize": "Ctrl-I"
   },
   "labels_anchors": false,
   "latex_user_defs": false,
   "report_style_numbering": false,
   "user_envs_cfg": false
  },
  "toc": {
   "base_numbering": 1,
   "nav_menu": {
    "height": "156px",
    "width": "252px"
   },
   "number_sections": true,
   "sideBar": true,
   "skip_h1_title": true,
   "title_cell": "Table of Contents",
   "title_sidebar": "Contents",
   "toc_cell": false,
   "toc_position": {},
   "toc_section_display": "block",
   "toc_window_display": false
  },
  "varInspector": {
   "cols": {
    "lenName": 16,
    "lenType": 16,
    "lenVar": 40
   },
   "kernels_config": {
    "python": {
     "delete_cmd_postfix": "",
     "delete_cmd_prefix": "del ",
     "library": "var_list.py",
     "varRefreshCmd": "print(var_dic_list())"
    },
    "r": {
     "delete_cmd_postfix": ") ",
     "delete_cmd_prefix": "rm(",
     "library": "var_list.r",
     "varRefreshCmd": "cat(var_dic_list()) "
    }
   },
   "types_to_exclude": [
    "module",
    "function",
    "builtin_function_or_method",
    "instance",
    "_Feature"
   ],
   "window_display": false
  }
 },
 "nbformat": 4,
 "nbformat_minor": 4
}
