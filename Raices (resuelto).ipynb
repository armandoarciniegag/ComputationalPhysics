{
 "cells": [
  {
   "cell_type": "markdown",
   "metadata": {},
   "source": [
    "# Raíces de funciones\n",
    "\n",
    "Buscamos los valores para $x$ donde $f(x) = 0$ para una función $f$ conocida. Estos valores se llaman *ceros* o *raíces* de $f$ y se denotan $\\alpha$."
   ]
  },
  {
   "cell_type": "markdown",
   "metadata": {},
   "source": [
    "En general, los métodos para encontrar raíces son sucesiones que convergen a la raíz. Como son sucesiones, damos un valor inicial $x_0$. De acuerdo a que tan bueno sea la aproximación, será la rápidez del programa."
   ]
  },
  {
   "cell_type": "markdown",
   "metadata": {},
   "source": [
    "## Búsqueda incremental \"Incremental search\""
   ]
  },
  {
   "cell_type": "markdown",
   "metadata": {},
   "source": [
    "Está es una suceción muy arcaíca. Tomamos un punto inicial de la sucesión y luego nos movemos al siguiente punto con un dx. Evaluamos la función en estos puntos. Si hay un cambio de signo en estos dos puntos, hay una raíz en ese intervalo."
   ]
  },
  {
   "cell_type": "code",
   "execution_count": 1,
   "metadata": {},
   "outputs": [],
   "source": [
    "#Incremental Search\n",
    "def incremental(f,a,b,dx):\n",
    "    x0=a;f0=f(x0)\n",
    "    x1=x0+dx;f1=f(x1)\n",
    "    contador=0.0\n",
    "    while f0*f1>0.0:\n",
    "        if x1>=b: return ('nada') #salgo del bucle infinito\n",
    "        x0=x1;f0=f1\n",
    "        x1=x0+dx;f1=f(x1)\n",
    "        contador=contador+1\n",
    "    return [x1,contador]"
   ]
  },
  {
   "cell_type": "markdown",
   "metadata": {},
   "source": [
    "Probemos nuestro método con la función: \n",
    "$$ f(x)=x^3-10x^2+5$$\n",
    "con dx=0.2 (tolerancia) y evaluemos el intervalo [0,0.8]"
   ]
  },
  {
   "cell_type": "code",
   "execution_count": 2,
   "metadata": {},
   "outputs": [
    {
     "name": "stdout",
     "output_type": "stream",
     "text": [
      "[0.7300000000000004, 73.0]\n"
     ]
    }
   ],
   "source": [
    "def f(x):\n",
    "    return x**3-10*x**2+5\n",
    "print(incremental(f,0,0.8,1e-2))\n",
    "\n",
    "#De acuerdo a Mathematica, el resultado con tolerancia 10-17 es 0.7346035077893032"
   ]
  },
  {
   "cell_type": "code",
   "execution_count": 3,
   "metadata": {},
   "outputs": [
    {
     "data": {
      "text/html": [
       "<div>\n",
       "<style scoped>\n",
       "    .dataframe tbody tr th:only-of-type {\n",
       "        vertical-align: middle;\n",
       "    }\n",
       "\n",
       "    .dataframe tbody tr th {\n",
       "        vertical-align: top;\n",
       "    }\n",
       "\n",
       "    .dataframe thead th {\n",
       "        text-align: right;\n",
       "    }\n",
       "</style>\n",
       "<table border=\"1\" class=\"dataframe\">\n",
       "  <thead>\n",
       "    <tr style=\"text-align: right;\">\n",
       "      <th></th>\n",
       "      <th>Raiz</th>\n",
       "      <th>Pasos</th>\n",
       "      <th>error %</th>\n",
       "    </tr>\n",
       "  </thead>\n",
       "  <tbody>\n",
       "    <tr>\n",
       "      <th>0.10000</th>\n",
       "      <td>0.7000</td>\n",
       "      <td>7.0</td>\n",
       "      <td>4.710501</td>\n",
       "    </tr>\n",
       "    <tr>\n",
       "      <th>0.01000</th>\n",
       "      <td>0.7300</td>\n",
       "      <td>73.0</td>\n",
       "      <td>0.626666</td>\n",
       "    </tr>\n",
       "    <tr>\n",
       "      <th>0.00100</th>\n",
       "      <td>0.7340</td>\n",
       "      <td>734.0</td>\n",
       "      <td>0.082154</td>\n",
       "    </tr>\n",
       "    <tr>\n",
       "      <th>0.00010</th>\n",
       "      <td>0.7346</td>\n",
       "      <td>7346.0</td>\n",
       "      <td>0.000478</td>\n",
       "    </tr>\n",
       "    <tr>\n",
       "      <th>0.00001</th>\n",
       "      <td>0.7346</td>\n",
       "      <td>73460.0</td>\n",
       "      <td>0.000478</td>\n",
       "    </tr>\n",
       "  </tbody>\n",
       "</table>\n",
       "</div>"
      ],
      "text/plain": [
       "           Raiz    Pasos   error %\n",
       "0.10000  0.7000      7.0  4.710501\n",
       "0.01000  0.7300     73.0  0.626666\n",
       "0.00100  0.7340    734.0  0.082154\n",
       "0.00010  0.7346   7346.0  0.000478\n",
       "0.00001  0.7346  73460.0  0.000478"
      ]
     },
     "execution_count": 3,
     "metadata": {},
     "output_type": "execute_result"
    }
   ],
   "source": [
    "import pandas as pd\n",
    "\n",
    "lista_incremental = []\n",
    "idx = []\n",
    "valor_real=0.7346035077893032 #valor obtenido con tolerancia de 10-17\n",
    "for i in range(1,6):\n",
    "    tol = 10**(-i)\n",
    "    idx.append(tol)\n",
    "    raiz=incremental(f,0,0.8,tol) #cada renglon de la tabla\n",
    "    error=(abs(valor_real-raiz[0])/valor_real)*100\n",
    "    lista_incremental.append([raiz[0],raiz[1],error])\n",
    "cols = [\"Raiz\",\"Pasos\",\"error %\"]\n",
    "pd.DataFrame(lista_incremental, index=idx, columns=cols)"
   ]
  },
  {
   "cell_type": "markdown",
   "metadata": {},
   "source": [
    "#### Ventajas\n",
    "\n",
    "1. Cuando tenemos funciones con discontinuidades, llegamos al resultado. No necesitas más información (como derivadas).\n",
    "2. ¡¡¡Llegas porque llegas a la raíz!!! Siempre converge\n",
    "\n",
    "#### Desventajas\n",
    "1. Requiere mucho cómputo para llegar a una buena solución.\n",
    "2. ¡¡¡Es lento a más no poder!!! Convergencia lentísima"
   ]
  },
  {
   "cell_type": "markdown",
   "metadata": {},
   "source": [
    "## Método de Bisección\n",
    "Este método consiste en tomar un intervalo (a,b) y lo iremos cortando por la mitad hasta que se encuentre la raíz. Este método se repetirá hasta que se cumpla la tolerancia.\n",
    "$$\n",
    "\\left|x_2 - x_1 \\right| \\leq \\epsilon\n",
    "$$"
   ]
  },
  {
   "cell_type": "markdown",
   "metadata": {},
   "source": [
    "Suponemos\n",
    "1. la función $f$ tiene al menos un cero en el intervalo de prueba $[a, b]$\n",
    "2. $f$ es continua en $[a, b]$\n",
    "3. Tenemos un *error aceptable* o *tolerancia* $\\epsilon > 0$ y buscamos una raiz aproximada $\\tilde \\alpha$ con\n",
    "$$ |x_n - \\tilde \\alpha| \\le \\epsilon $$\n",
    "4. También suponemos que $f$ cambia signo en $[a, b]$, es decir\n",
    "$$ f(a) f(b) < 0 $$\n",
    "o\n",
    "$$ \\sgn f(a) = -\\sgn f(b) $$"
   ]
  },
  {
   "cell_type": "code",
   "execution_count": 4,
   "metadata": {},
   "outputs": [],
   "source": [
    "#Biseccion\n",
    "def biseccion(f,a,b,epsilon):\n",
    "    contador=0\n",
    "    dx=abs(b-a)\n",
    "    while dx>epsilon:\n",
    "        x=(a+b)/2.0\n",
    "        if (f(a)*f(x))<0:\n",
    "            b=x #izquierda\n",
    "        else:\n",
    "            a=x #derecho\n",
    "        dx=abs(b-a) #renombrar intervalo\n",
    "        contador=contador+1\n",
    "    return [x, contador]"
   ]
  },
  {
   "cell_type": "code",
   "execution_count": 15,
   "metadata": {},
   "outputs": [
    {
     "name": "stdout",
     "output_type": "stream",
     "text": [
      "[0.7345703125, 12]\n"
     ]
    }
   ],
   "source": [
    "print(biseccion(f,0,0.8,2e-4))"
   ]
  },
  {
   "cell_type": "code",
   "execution_count": 6,
   "metadata": {},
   "outputs": [
    {
     "data": {
      "text/html": [
       "<div>\n",
       "<style scoped>\n",
       "    .dataframe tbody tr th:only-of-type {\n",
       "        vertical-align: middle;\n",
       "    }\n",
       "\n",
       "    .dataframe tbody tr th {\n",
       "        vertical-align: top;\n",
       "    }\n",
       "\n",
       "    .dataframe thead th {\n",
       "        text-align: right;\n",
       "    }\n",
       "</style>\n",
       "<table border=\"1\" class=\"dataframe\">\n",
       "  <thead>\n",
       "    <tr style=\"text-align: right;\">\n",
       "      <th></th>\n",
       "      <th>Raiz</th>\n",
       "      <th>Pasos</th>\n",
       "      <th>error %</th>\n",
       "    </tr>\n",
       "  </thead>\n",
       "  <tbody>\n",
       "    <tr>\n",
       "      <th>0.10000</th>\n",
       "      <td>0.700000</td>\n",
       "      <td>3</td>\n",
       "      <td>4.710501</td>\n",
       "    </tr>\n",
       "    <tr>\n",
       "      <th>0.01000</th>\n",
       "      <td>0.731250</td>\n",
       "      <td>7</td>\n",
       "      <td>0.456506</td>\n",
       "    </tr>\n",
       "    <tr>\n",
       "      <th>0.00100</th>\n",
       "      <td>0.735156</td>\n",
       "      <td>10</td>\n",
       "      <td>0.075244</td>\n",
       "    </tr>\n",
       "    <tr>\n",
       "      <th>0.00010</th>\n",
       "      <td>0.734668</td>\n",
       "      <td>13</td>\n",
       "      <td>0.008775</td>\n",
       "    </tr>\n",
       "    <tr>\n",
       "      <th>0.00001</th>\n",
       "      <td>0.734601</td>\n",
       "      <td>17</td>\n",
       "      <td>0.000365</td>\n",
       "    </tr>\n",
       "  </tbody>\n",
       "</table>\n",
       "</div>"
      ],
      "text/plain": [
       "             Raiz  Pasos   error %\n",
       "0.10000  0.700000      3  4.710501\n",
       "0.01000  0.731250      7  0.456506\n",
       "0.00100  0.735156     10  0.075244\n",
       "0.00010  0.734668     13  0.008775\n",
       "0.00001  0.734601     17  0.000365"
      ]
     },
     "execution_count": 6,
     "metadata": {},
     "output_type": "execute_result"
    }
   ],
   "source": [
    "l_biseccion = []\n",
    "idx = []\n",
    "valor_real=0.7346035077893032 #valor obtenido con tolerancia de 10-17\n",
    "for i in range(1,6):\n",
    "    tol = 10**(-i)\n",
    "    idx.append(tol)\n",
    "    raiz=biseccion(f,0,0.8,tol) #cada renglon de la tabla\n",
    "    error=(abs(valor_real-raiz[0])/valor_real)*100\n",
    "    l_biseccion.append([raiz[0],raiz[1],error])\n",
    "cols = [\"Raiz\",\"Pasos\",\"error %\"]\n",
    "pd.DataFrame(l_biseccion, index=idx, columns=cols)"
   ]
  },
  {
   "cell_type": "markdown",
   "metadata": {},
   "source": [
    "#### Ventajas\n",
    "\n",
    "1. Siempre converge\n",
    "2. Límite de error garantizado, baja con cada iteración.\n",
    "3. ¡¡¡ Error se reduce a un medio con cada iteración !!!\n",
    "\n",
    "\n",
    "#### Desventajas\n",
    "1. Convergencia lenta para funciones con múltiples derivadas continuas en la región del cero $\\alpha$.\n"
   ]
  },
  {
   "cell_type": "markdown",
   "metadata": {},
   "source": [
    "### Estimación del error cuando no tenemos la solución real.\n",
    "\n",
    "El intervalo incial es $[a_1, b_1]$. Los intervalos siguientes son $[a_j, b_j]$ con centro $c_j$. Tal que\n",
    "$$ |\\alpha - c_j| \\le b_j - c_j = c_j - a_j =  \\frac{1}{2}(b_j - a_j)$$\n",
    "\n",
    "Por inducción tenemos\n",
    "$$ |\\alpha - c_n| = \\left(\\frac{1}{2}\\right)^n (b_1 - a_1) $$"
   ]
  },
  {
   "cell_type": "markdown",
   "metadata": {},
   "source": [
    "### Ejemplo\n",
    "\n",
    "Busamos el cero más grande de \n",
    "$$ f(x) = x^6 - x -1 $$\n",
    "con error $\\epsilon = 0.001$. El cero se encuentra en $[1, 2]$, $f(1) = -1$, $f(2) = 61$."
   ]
  },
  {
   "cell_type": "code",
   "execution_count": 3,
   "metadata": {},
   "outputs": [
    {
     "data": {
      "text/plain": [
       "<matplotlib.lines.Line2D at 0x26fae271588>"
      ]
     },
     "execution_count": 3,
     "metadata": {},
     "output_type": "execute_result"
    },
    {
     "data": {
      "image/png": "[encoded data removed]",
      "text/plain": [
       "<Figure size 432x288 with 1 Axes>"
      ]
     },
     "metadata": {
      "needs_background": "light"
     },
     "output_type": "display_data"
    }
   ],
   "source": [
    "import numpy as np\n",
    "import pylab as plt\n",
    "x = np.linspace(1, 2)\n",
    "#x = np.linspace(1, 1.3)\n",
    "def poly1(x):\n",
    "    return x**6 - x - 1\n",
    "plt.plot(x, poly1(x), 'cyan')\n",
    "plt.axhline(y=0)"
   ]
  },
  {
   "cell_type": "code",
   "execution_count": 8,
   "metadata": {},
   "outputs": [
    {
     "data": {
      "text/html": [
       "<div>\n",
       "<style scoped>\n",
       "    .dataframe tbody tr th:only-of-type {\n",
       "        vertical-align: middle;\n",
       "    }\n",
       "\n",
       "    .dataframe tbody tr th {\n",
       "        vertical-align: top;\n",
       "    }\n",
       "\n",
       "    .dataframe thead th {\n",
       "        text-align: right;\n",
       "    }\n",
       "</style>\n",
       "<table border=\"1\" class=\"dataframe\">\n",
       "  <thead>\n",
       "    <tr style=\"text-align: right;\">\n",
       "      <th></th>\n",
       "      <th>a</th>\n",
       "      <th>b</th>\n",
       "      <th>c</th>\n",
       "      <th>f(c)</th>\n",
       "    </tr>\n",
       "  </thead>\n",
       "  <tbody>\n",
       "    <tr>\n",
       "      <th>1</th>\n",
       "      <td>1.000000</td>\n",
       "      <td>2.000000</td>\n",
       "      <td>1.500000</td>\n",
       "      <td>8.890625</td>\n",
       "    </tr>\n",
       "    <tr>\n",
       "      <th>2</th>\n",
       "      <td>1.000000</td>\n",
       "      <td>1.500000</td>\n",
       "      <td>1.250000</td>\n",
       "      <td>1.564697</td>\n",
       "    </tr>\n",
       "    <tr>\n",
       "      <th>3</th>\n",
       "      <td>1.000000</td>\n",
       "      <td>1.250000</td>\n",
       "      <td>1.125000</td>\n",
       "      <td>-0.097713</td>\n",
       "    </tr>\n",
       "    <tr>\n",
       "      <th>4</th>\n",
       "      <td>1.125000</td>\n",
       "      <td>1.250000</td>\n",
       "      <td>1.187500</td>\n",
       "      <td>0.616653</td>\n",
       "    </tr>\n",
       "    <tr>\n",
       "      <th>5</th>\n",
       "      <td>1.125000</td>\n",
       "      <td>1.187500</td>\n",
       "      <td>1.156250</td>\n",
       "      <td>0.233269</td>\n",
       "    </tr>\n",
       "    <tr>\n",
       "      <th>6</th>\n",
       "      <td>1.125000</td>\n",
       "      <td>1.156250</td>\n",
       "      <td>1.140625</td>\n",
       "      <td>0.061578</td>\n",
       "    </tr>\n",
       "    <tr>\n",
       "      <th>7</th>\n",
       "      <td>1.125000</td>\n",
       "      <td>1.140625</td>\n",
       "      <td>1.132812</td>\n",
       "      <td>-0.019576</td>\n",
       "    </tr>\n",
       "    <tr>\n",
       "      <th>8</th>\n",
       "      <td>1.132812</td>\n",
       "      <td>1.140625</td>\n",
       "      <td>1.136719</td>\n",
       "      <td>0.020619</td>\n",
       "    </tr>\n",
       "    <tr>\n",
       "      <th>9</th>\n",
       "      <td>1.132812</td>\n",
       "      <td>1.136719</td>\n",
       "      <td>1.134766</td>\n",
       "      <td>0.000427</td>\n",
       "    </tr>\n",
       "    <tr>\n",
       "      <th>10</th>\n",
       "      <td>1.132812</td>\n",
       "      <td>1.134766</td>\n",
       "      <td>1.133789</td>\n",
       "      <td>-0.009598</td>\n",
       "    </tr>\n",
       "  </tbody>\n",
       "</table>\n",
       "</div>"
      ],
      "text/plain": [
       "           a         b         c      f(c)\n",
       "1   1.000000  2.000000  1.500000  8.890625\n",
       "2   1.000000  1.500000  1.250000  1.564697\n",
       "3   1.000000  1.250000  1.125000 -0.097713\n",
       "4   1.125000  1.250000  1.187500  0.616653\n",
       "5   1.125000  1.187500  1.156250  0.233269\n",
       "6   1.125000  1.156250  1.140625  0.061578\n",
       "7   1.125000  1.140625  1.132812 -0.019576\n",
       "8   1.132812  1.140625  1.136719  0.020619\n",
       "9   1.132812  1.136719  1.134766  0.000427\n",
       "10  1.132812  1.134766  1.133789 -0.009598"
      ]
     },
     "execution_count": 8,
     "metadata": {},
     "output_type": "execute_result"
    }
   ],
   "source": [
    "def bisect_tabla(f, a, b, eps):\n",
    "    c = 0.5 * (b + a)\n",
    "    res = [[a, b, c, f(c)]]\n",
    "    while b - c > eps:\n",
    "        if f(b) * f(c) >= 0:\n",
    "            b = c\n",
    "        else:\n",
    "            a = c\n",
    "        c = 0.5 * (b + a)\n",
    "        res.append([a, b, c, f(c)])\n",
    "    return res\n",
    "res = bisect_tabla(poly1, 1, 2, 0.001)\n",
    "pd.DataFrame(res, index=range(1, len(res)+1),\n",
    "             columns=[\"a\", \"b\", \"c\", \"f(c)\"])"
   ]
  },
  {
   "cell_type": "markdown",
   "metadata": {},
   "source": [
    "### Otra estimación para convergencia\n",
    "\n",
    "Tenemos $[a, b] = [1, 2]$ y $\\epsilon = 1\\times 10^{-5}$. Que número $n$ de iteraciones necesitamos para tener\n",
    "$$ |\\alpha - c_n| \\le \\epsilon $$\n",
    "Usamos\n",
    "$$ |\\alpha - c_n| = \\left(\\frac{1}{2}\\right)^n (b - a) $$\n",
    "Entonces tenemos la condición\n",
    "$$ \\left(\\frac{1}{2}\\right)^n (b - a) \\le \\epsilon $$\n",
    "$$ \\left(\\frac{1}{2}\\right)^n (2 - 1) \\le 1e-5$$\n",
    "¿porque usa 1e-5?\n",
    "\n",
    "$$ n \\ge \\log\\left(\\frac{1}{1e-5}\\right) = 17 $$\n",
    "Entonces se requieren $n = 16$ iteraciones para obterner la precisión deseada."
   ]
  },
  {
   "cell_type": "code",
   "execution_count": 9,
   "metadata": {},
   "outputs": [
    {
     "name": "stdout",
     "output_type": "stream",
     "text": [
      "16.609640474436812\n"
     ]
    }
   ],
   "source": [
    "from math import log\n",
    "x=1/1e-5\n",
    "print(log(x,2))"
   ]
  },
  {
   "cell_type": "markdown",
   "metadata": {},
   "source": [
    "## Método de Newton-Raphson"
   ]
  },
  {
   "cell_type": "markdown",
   "metadata": {},
   "source": [
    "Es uno de los mejores y más rápidos métodos para encontrar raíces. Este método usa la expansión en series de Taylor.\n",
    "\n",
    "$$\n",
    "f(x_{i+1})=f(x_i)+f'(x_{i})(x_{i+1}-x_i)+O(x_{i+1}-x_i)^2\n",
    "$$\n",
    "\n",
    "Si $x_{i+1}$ es la raíz $f(x_{i+1})=0$, nos quedamos sólo con los términos lineales\n",
    "\n",
    "$$\n",
    "0=f(x_i)+f'(x_i)(x_{i+1}-x_i)\n",
    "$$\n",
    "\n",
    "Despejamos $x_{i+1}$\n",
    "\n",
    "$$\n",
    "x_{i+1}=x_{i}-\\frac{f(x_i)}{f'(x_i)}\n",
    "$$\n",
    "\n",
    "Y esta es nuestra sucesión que se tendrá que programar."
   ]
  },
  {
   "cell_type": "code",
   "execution_count": 2,
   "metadata": {},
   "outputs": [
    {
     "data": {
      "image/png": "[encoded data removed]",
      "text/plain": [
       "<Figure size 864x648 with 1 Axes>"
      ]
     },
     "metadata": {
      "needs_background": "light"
     },
     "output_type": "display_data"
    }
   ],
   "source": [
    "# matplotlib\n",
    "import matplotlib.pyplot as plt\n",
    "import numpy as np\n",
    "import pandas as pd\n",
    "\n",
    "%matplotlib inline \n",
    "plt.rcParams[\"figure.figsize\"] = [12, 9] # ancho, alto de figuras\n",
    "plt.rcParams[\"font.size\"] = 20\n",
    "# Plot metodo de Newton\n",
    "def funcion(x):\n",
    "    return x**2 - 0.25\n",
    "def taylor(x, x0):\n",
    "    sl = 2*x0\n",
    "    return sl*x - sl*x0 + funcion(x0)\n",
    "def fp0(x0):\n",
    "    sl = 2*x0\n",
    "    return x0 - funcion(x0)/sl\n",
    "\n",
    "def fplot():\n",
    "    x0 = 0.8\n",
    "    x = np.linspace(0.2, 1)\n",
    "    plt.plot(x, funcion(x), 'r', x, taylor(x, x0), 'b:')\n",
    "    plt.axhline();\n",
    "    plt.annotate(r\"$\\alpha$\", xy=[0.5, 0], xytext=[0.45, 0.05],\n",
    "                 arrowprops=dict(arrowstyle='->'),)\n",
    "    plt.annotate(r\"$x_{i+1}$\", xy=[fp0(x0), 0], xytext=[fp0(x0)+0.05, -0.1],\n",
    "                 arrowprops=dict(arrowstyle='->'),)\n",
    "    plt.annotate(r\"$x_{i}$\", xy=[x0, 0], xytext=[x0, -0.05],)\n",
    "    plt.annotate(r\"$f(x_{i})$\", xy=[x0, funcion(x0)], xytext=[x0 - 0.1, funcion(x0) + 0.1],\n",
    "                 arrowprops=dict(arrowstyle='->'),);\n",
    "    plt.plot([x0, x0], [0, funcion(x0)], 'b--')\n",
    "\n",
    "fplot()"
   ]
  },
  {
   "cell_type": "code",
   "execution_count": 11,
   "metadata": {},
   "outputs": [],
   "source": [
    "def newton(f,df,x,epsilon=1e-6):\n",
    "    dx=2*epsilon\n",
    "    contador =0\n",
    "    while dx> epsilon and contador<1000:\n",
    "        x1=x-f(x)/df(x)\n",
    "        dx=abs(x-x1)\n",
    "        x=x1\n",
    "        contador=contador+1\n",
    "    return [x,contador]"
   ]
  },
  {
   "cell_type": "code",
   "execution_count": 12,
   "metadata": {},
   "outputs": [
    {
     "name": "stdout",
     "output_type": "stream",
     "text": [
      "[0.7300000000000004, 73.0]\n",
      "[0.7312500000000001, 7]\n",
      "[0.7346067297543346, 2]\n"
     ]
    }
   ],
   "source": [
    "f=lambda x: x**3-10*x**2+5\n",
    "df=lambda x: 3*x**2-20*x\n",
    "print(incremental(f,0,0.8,1e-2))\n",
    "print(biseccion(f,0,0.8,1e-2))\n",
    "print(newton(f,df,0.8,1e-2))"
   ]
  },
  {
   "cell_type": "markdown",
   "metadata": {},
   "source": [
    "### Ejemplo\n",
    "\n",
    "$$ f(x) = x^6 - x - 1 = 0 $$\n",
    "Buscamos la solución positiva $\\alpha$ de esta ecuación. Usamos una gráfica de $f$ para encontrar un estimado inicial."
   ]
  },
  {
   "cell_type": "code",
   "execution_count": 3,
   "metadata": {
    "scrolled": true
   },
   "outputs": [
    {
     "data": {
      "image/png": "[encoded data removed]",
      "text/plain": [
       "<Figure size 432x288 with 1 Axes>"
      ]
     },
     "metadata": {
      "needs_background": "light"
     },
     "output_type": "display_data"
    }
   ],
   "source": [
    "def ff(x):\n",
    "    return x**6 - x - 1\n",
    "def ffp(x):\n",
    "    return 6*x**5 - 1\n",
    "\n",
    "def ffplot():\n",
    "    x = np.linspace(0, 2)\n",
    "    fig, ax = plt.subplots() # figsize=[10, 7])\n",
    "    ax.plot(x, ff(x), 'r')\n",
    "    ax.axhline(x=3) #linea horizontal \n",
    "ffplot()"
   ]
  },
  {
   "cell_type": "markdown",
   "metadata": {},
   "source": [
    "Usamos como estimado inicial $x_0=1.5$"
   ]
  },
  {
   "cell_type": "code",
   "execution_count": 4,
   "metadata": {},
   "outputs": [
    {
     "data": {
      "text/html": [
       "<div>\n",
       "<style scoped>\n",
       "    .dataframe tbody tr th:only-of-type {\n",
       "        vertical-align: middle;\n",
       "    }\n",
       "\n",
       "    .dataframe tbody tr th {\n",
       "        vertical-align: top;\n",
       "    }\n",
       "\n",
       "    .dataframe thead th {\n",
       "        text-align: right;\n",
       "    }\n",
       "</style>\n",
       "<table border=\"1\" class=\"dataframe\">\n",
       "  <thead>\n",
       "    <tr style=\"text-align: right;\">\n",
       "      <th></th>\n",
       "      <th>$x_n$</th>\n",
       "      <th>$f(x_n)$</th>\n",
       "      <th>$x_n - x_{n-1}$</th>\n",
       "    </tr>\n",
       "  </thead>\n",
       "  <tbody>\n",
       "    <tr>\n",
       "      <th>0</th>\n",
       "      <td>1.500000</td>\n",
       "      <td>8.890625e+00</td>\n",
       "      <td>NaN</td>\n",
       "    </tr>\n",
       "    <tr>\n",
       "      <th>1</th>\n",
       "      <td>1.300491</td>\n",
       "      <td>2.537264e+00</td>\n",
       "      <td>-1.995091e-01</td>\n",
       "    </tr>\n",
       "    <tr>\n",
       "      <th>2</th>\n",
       "      <td>1.181480</td>\n",
       "      <td>5.384586e-01</td>\n",
       "      <td>-1.190105e-01</td>\n",
       "    </tr>\n",
       "    <tr>\n",
       "      <th>3</th>\n",
       "      <td>1.139456</td>\n",
       "      <td>4.923525e-02</td>\n",
       "      <td>-4.202483e-02</td>\n",
       "    </tr>\n",
       "    <tr>\n",
       "      <th>4</th>\n",
       "      <td>1.134778</td>\n",
       "      <td>5.503239e-04</td>\n",
       "      <td>-4.677965e-03</td>\n",
       "    </tr>\n",
       "    <tr>\n",
       "      <th>5</th>\n",
       "      <td>1.134724</td>\n",
       "      <td>7.113585e-08</td>\n",
       "      <td>-5.347992e-05</td>\n",
       "    </tr>\n",
       "    <tr>\n",
       "      <th>6</th>\n",
       "      <td>1.134724</td>\n",
       "      <td>1.554312e-15</td>\n",
       "      <td>-6.914698e-09</td>\n",
       "    </tr>\n",
       "  </tbody>\n",
       "</table>\n",
       "</div>"
      ],
      "text/plain": [
       "      $x_n$      $f(x_n)$  $x_n - x_{n-1}$\n",
       "0  1.500000  8.890625e+00              NaN\n",
       "1  1.300491  2.537264e+00    -1.995091e-01\n",
       "2  1.181480  5.384586e-01    -1.190105e-01\n",
       "3  1.139456  4.923525e-02    -4.202483e-02\n",
       "4  1.134778  5.503239e-04    -4.677965e-03\n",
       "5  1.134724  7.113585e-08    -5.347992e-05\n",
       "6  1.134724  1.554312e-15    -6.914698e-09"
      ]
     },
     "execution_count": 4,
     "metadata": {},
     "output_type": "execute_result"
    }
   ],
   "source": [
    "def newton(f, df, x, epsilon=1e-10):\n",
    "    ff = f(x)\n",
    "    res = [[x, ff, np.nan]]\n",
    "    xn = x\n",
    "    while True:\n",
    "        xnp1 = xn - ff / df(xn)\n",
    "        ff = f(xnp1)\n",
    "        res.append([xnp1, ff, xnp1-xn])\n",
    "        if abs(ff) < epsilon:\n",
    "            break\n",
    "        xn = xnp1\n",
    "    return res\n",
    "def ff(x):\n",
    "    return x**6 - x - 1\n",
    "def ffp(x):\n",
    "    return 6*x**5 - 1\n",
    "res = newton(ff, ffp, 1.5)\n",
    "pd.DataFrame(res, index=range(len(res)), columns=[\"$x_n$\", \"$f(x_n)$\", \"$x_n - x_{n-1}$\"])"
   ]
  },
  {
   "cell_type": "markdown",
   "metadata": {},
   "source": [
    "#### Ventajas\n",
    "\n",
    "1. Convergencia rápida en la mayoría de los casos.\n",
    "2. Formulación sencilla, por lo tanto fácil de usar y programar.\n",
    "3. Construcción intuitiva. Entonces fácil de entender su comportamiento y convergencia.\n",
    "\n",
    "#### Desventajas\n",
    "\n",
    "1. No siempre converge.\n",
    "2. Problematico cuando $f'(\\alpha) = 0$. En este caso, el eje $x$ es tangente a $f$ en $\\alpha$.\n",
    "3. Require el conocimiento de $f(x)$ y de $f'(x)$. En comparación, el metodo de bisección requiere solamente $f(x)$."
   ]
  },
  {
   "cell_type": "markdown",
   "metadata": {},
   "source": [
    "## Estimación del error\n",
    "\n",
    "Usamos la expansión de Taylor cerca de $x = x_n$ para calcular $f(\\alpha)$.\n",
    "\\begin{align}\n",
    "0 &= f(\\alpha)\\\\\n",
    "  &= f(x_n) + (\\alpha - x_n) f'(x_n) + \\frac{1}{2} (\\alpha - x_n)^2 f''(c_n)\\\\\n",
    "\\end{align}\n",
    "con $c_n$ entre $\\alpha$ y $x_n$. Dividimos por $f'(x_n)$ para obtener:\n",
    "$$ 0 = \\frac{f(x_n)}{f'(x_n)} + \\alpha - x_n + (\\alpha - x_n)^2 \\frac{f''(c_n)}{2 f'(x_n)} $$\n",
    "Utilizamos \n",
    "$$ \\frac{f(x_n)}{f'(x_n)} - x_n = - x_{n+1} $$\n",
    "y obtenemos\n",
    "$$ \\alpha - x_{n+1} = -\\frac{f''(c_n)}{2 f'(x_n)} (\\alpha - x_n) ^2 $$\n"
   ]
  },
  {
   "cell_type": "markdown",
   "metadata": {},
   "source": [
    "Para $x_n$ cerca de $\\alpha$ tenemos $c_n$ cerca de $\\alpha$.\n",
    "$$ \\alpha - x_{n+1} \\approx = -\\frac{f''(\\alpha)}{2f'(\\alpha)} (\\alpha - x_n)^2 $$\n",
    "Eso nos dice que el metodo de Newton tiene *convergencia cuadrática* con las condiciones\n",
    "1. $f'(\\alpha) \\not= 0$\n",
    "2. $f$ puede diferenciarse dos veces en la vecindad de $\\alpha$."
   ]
  },
  {
   "cell_type": "code",
   "execution_count": null,
   "metadata": {},
   "outputs": [],
   "source": []
  }
 ],
 "metadata": {
  "kernelspec": {
   "display_name": "Python 3",
   "language": "python",
   "name": "python3"
  },
  "language_info": {
   "codemirror_mode": {
    "name": "ipython",
    "version": 3
   },
   "file_extension": ".py",
   "mimetype": "text/x-python",
   "name": "python",
   "nbconvert_exporter": "python",
   "pygments_lexer": "ipython3",
   "version": "3.7.6"
  }
 },
 "nbformat": 4,
 "nbformat_minor": 2
}
