{
 "cells": [
  {
   "cell_type": "code",
   "execution_count": 1,
   "metadata": {},
   "outputs": [
    {
     "name": "stdout",
     "output_type": "stream",
     "text": [
      "[0.0, 1.0, 3.0, 6.0, 10.0, 15.0, 21.0, 28.0, 36.0, 45.0, 55.0, 66.0, 78.0, 91.0, 105.0, 120.0, 136.0, 153.0, 171.0, 190.0, 210.0, 231.0, 253.0, 276.0, 300.0, 325.0, 351.0, 378.0, 406.0, 435.0, 465.0, 496.0, 528.0, 561.0, 595.0, 630.0, 666.0, 703.0, 741.0, 780.0, 820.0, 861.0, 903.0, 946.0, 990.0, 1035.0, 1081.0, 1128.0, 1176.0, 1225.0, 1275.0, 1326.0, 1378.0, 1431.0, 1485.0, 1540.0, 1596.0, 1653.0, 1711.0, 1770.0, 1830.0, 1891.0, 1953.0, 2016.0, 2080.0, 2145.0, 2211.0, 2278.0, 2346.0, 2415.0, 2485.0, 2556.0, 2628.0, 2701.0, 2775.0, 2850.0, 2926.0, 3003.0, 3081.0, 3160.0, 3240.0, 3321.0, 3403.0, 3486.0, 3570.0, 3655.0, 3741.0, 3828.0, 3916.0, 4005.0, 4095.0, 4186.0, 4278.0, 4371.0, 4465.0, 4560.0, 4656.0, 4753.0, 4851.0, 4950.0, 5050.0]\n"
     ]
    }
   ],
   "source": [
    "lista=[]\n",
    "suma=0.0\n",
    "for i in range(0,101):\n",
    "    suma=suma+i\n",
    "    lista.append(suma)\n",
    "print(lista)"
   ]
  },
  {
   "cell_type": "code",
   "execution_count": 6,
   "metadata": {},
   "outputs": [
    {
     "name": "stdin",
     "output_type": "stream",
     "text": [
      "a que número le quieres sacar el factorial? 40\n"
     ]
    },
    {
     "name": "stdout",
     "output_type": "stream",
     "text": [
      "815915283247897734345611269596115894272000000000\n"
     ]
    }
   ],
   "source": [
    "N=int(input(\"a que número le quieres sacar el factorial?\"))\n",
    "factorial=1 #neutro multiplicativo\n",
    "for i in range(1,N+1):\n",
    "    factorial=factorial*i\n",
    "print(factorial)"
   ]
  },
  {
   "cell_type": "code",
   "execution_count": 1,
   "metadata": {},
   "outputs": [
    {
     "name": "stdout",
     "output_type": "stream",
     "text": [
      "False\n",
      "True\n",
      "True\n",
      "False\n"
     ]
    }
   ],
   "source": [
    "a=2\n",
    "b=1.99\n",
    "c=\"2\"\n",
    "print(a==b)\n",
    "print((a>b) and (a!=c))\n",
    "print((a>b) or (a!=c))\n",
    "print((a==b) and (a!=c))"
   ]
  },
  {
   "cell_type": "code",
   "execution_count": 1,
   "metadata": {},
   "outputs": [],
   "source": [
    "from cmath import * \n",
    "z1 = 3+4*1j\n",
    "z2 = 1+2*1j "
   ]
  },
  {
   "cell_type": "code",
   "execution_count": 3,
   "metadata": {},
   "outputs": [
    {
     "name": "stdout",
     "output_type": "stream",
     "text": [
      "(-8+14j)\n"
     ]
    }
   ],
   "source": [
    "print(z1*z2 + z2**2)"
   ]
  },
  {
   "cell_type": "code",
   "execution_count": 4,
   "metadata": {},
   "outputs": [
    {
     "data": {
      "text/plain": [
       "(-7+24j)"
      ]
     },
     "execution_count": 4,
     "metadata": {},
     "output_type": "execute_result"
    }
   ],
   "source": [
    "z1**2"
   ]
  },
  {
   "cell_type": "raw",
   "metadata": {},
   "source": [
    "Estructuras de control "
   ]
  },
  {
   "cell_type": "code",
   "execution_count": 6,
   "metadata": {},
   "outputs": [
    {
     "name": "stdin",
     "output_type": "stream",
     "text": [
      "da un entero positivo 91\n"
     ]
    },
    {
     "name": "stdout",
     "output_type": "stream",
     "text": [
      "impar\n"
     ]
    }
   ],
   "source": [
    "x=int(input(\"da un entero positivo\"))\n",
    "if x%2==0:\n",
    "    print(\"par\")\n",
    "else:\n",
    "    print(\"impar\")"
   ]
  },
  {
   "cell_type": "code",
   "execution_count": 7,
   "metadata": {},
   "outputs": [
    {
     "name": "stdin",
     "output_type": "stream",
     "text": [
      "da un entero positivo 56\n"
     ]
    },
    {
     "name": "stdout",
     "output_type": "stream",
     "text": [
      "x es un par\n"
     ]
    }
   ],
   "source": [
    "x=int(input(\"da un entero positivo\"))\n",
    "if x%2==0:\n",
    "    print(\"x es un par\")\n",
    "elif x%3==0:\n",
    "    print(\"x es divisible entre 3\")\n",
    "elif x%5==0:\n",
    "    print(\"x es divisible por 5\")\n",
    "else:\n",
    "    print(\"suerte pa la próxima\")"
   ]
  },
  {
   "cell_type": "code",
   "execution_count": 19,
   "metadata": {},
   "outputs": [
    {
     "name": "stdin",
     "output_type": "stream",
     "text": [
      "da una temperatura en Celsius 0\n"
     ]
    },
    {
     "name": "stdout",
     "output_type": "stream",
     "text": [
      "la temperatura en kelvin es: 273\n",
      "la temperatura en farenheit es: 32.0\n"
     ]
    }
   ],
   "source": [
    "x=int(input(\"da una temperatura en Celsius\"))\n",
    "print(\"la temperatura en kelvin es:\", x+273)\n",
    "print(\"la temperatura en farenheit es:\", x*1.8+32)\n"
   ]
  },
  {
   "cell_type": "code",
   "execution_count": 22,
   "metadata": {},
   "outputs": [
    {
     "name": "stdout",
     "output_type": "stream",
     "text": [
      "contador de 0 hasta 10\n",
      "0\n",
      "1\n",
      "2\n",
      "3\n",
      "4\n",
      "5\n",
      "6\n",
      "7\n",
      "8\n",
      "9\n",
      "10\n"
     ]
    }
   ],
   "source": [
    "print(\"contador de 0 hasta 10\")\n",
    "contador =0\n",
    "while contador <=10:\n",
    "    print(contador)\n",
    "    contador+=1"
   ]
  },
  {
   "cell_type": "code",
   "execution_count": 26,
   "metadata": {},
   "outputs": [
    {
     "name": "stdout",
     "output_type": "stream",
     "text": [
      "6\n"
     ]
    }
   ],
   "source": [
    "from random import choice\n",
    "l_random=[1,2,3,4,5,6,7,8,9,10]\n",
    "print(choice(l_random))"
   ]
  },
  {
   "cell_type": "code",
   "execution_count": 33,
   "metadata": {},
   "outputs": [
    {
     "name": "stdin",
     "output_type": "stream",
     "text": [
      "Cuántas veces harás el experimento? 60\n"
     ]
    },
    {
     "name": "stdout",
     "output_type": "stream",
     "text": [
      "el gato apareció vivo 31 de 60 veces\n"
     ]
    }
   ],
   "source": [
    "#Gato de Shrodinger\n",
    "from random import choice\n",
    "gato=[\"vivo\", \"muerto\"]\n",
    "n=int(input(\"Cuántas veces harás el experimento?\"))\n",
    "i,i_vivo=0,0\n",
    "while i<=n:\n",
    "    x=choice(gato)\n",
    "    i+=1 #contamos cuantas veces se hace el experimento\n",
    "    if x==\"vivo\":\n",
    "        i_vivo+=1 #contamos cuantas veces resulto vivo\n",
    "print(\"el gato apareció vivo %d de %d veces\"%(i_vivo,n))"
   ]
  },
  {
   "cell_type": "code",
   "execution_count": 34,
   "metadata": {},
   "outputs": [],
   "source": [
    "tuple1=(\"Arciniega\", \"Armando\", (23,10))"
   ]
  },
  {
   "cell_type": "code",
   "execution_count": 36,
   "metadata": {},
   "outputs": [
    {
     "name": "stdout",
     "output_type": "stream",
     "text": [
      "Armando Arciniega cumleaños es 23\n"
     ]
    }
   ],
   "source": [
    "apellido, nombre, cumpleaños = tuple1\n",
    "print(nombre,apellido,\"cumleaños es\", cumpleaños[0])"
   ]
  },
  {
   "cell_type": "code",
   "execution_count": 37,
   "metadata": {},
   "outputs": [],
   "source": [
    "lista=[1,2,3]"
   ]
  },
  {
   "cell_type": "code",
   "execution_count": null,
   "metadata": {},
   "outputs": [],
   "source": []
  },
  {
   "cell_type": "code",
   "execution_count": 41,
   "metadata": {},
   "outputs": [],
   "source": [
    "def factorial(n):\n",
    "    prod=1\n",
    "    for i in range(1,n+1):\n",
    "        prod=prod*i\n",
    "    return prod "
   ]
  },
  {
   "cell_type": "code",
   "execution_count": 45,
   "metadata": {},
   "outputs": [
    {
     "name": "stdout",
     "output_type": "stream",
     "text": [
      "imprimir renglon triangulo de pastcal\n",
      "1.0 2.0 1.0\n"
     ]
    }
   ],
   "source": [
    "def binomial(n,k):\n",
    "    binom=factorial(n)/(factorial(k)*factorial(n-k))\n",
    "    return binom \n",
    "print(\"imprimir renglon triangulo de pastcal\")\n",
    "print(binomial(2,0), binomial(2,1), binomial(2,2))"
   ]
  },
  {
   "cell_type": "code",
   "execution_count": 47,
   "metadata": {},
   "outputs": [
    {
     "name": "stdout",
     "output_type": "stream",
     "text": [
      "haremos una función renglon que guarde el renglon bla  bla\n",
      "[1.0]\n",
      "[1.0, 1.0]\n",
      "[1.0, 2.0, 1.0]\n",
      "[1.0, 3.0, 3.0, 1.0]\n",
      "[1.0, 4.0, 6.0, 4.0, 1.0]\n",
      "[1.0, 5.0, 10.0, 10.0, 5.0, 1.0]\n",
      "[1.0, 6.0, 15.0, 20.0, 15.0, 6.0, 1.0]\n",
      "[1.0, 7.0, 21.0, 35.0, 35.0, 21.0, 7.0, 1.0]\n",
      "[1.0, 8.0, 28.0, 56.0, 70.0, 56.0, 28.0, 8.0, 1.0]\n",
      "[1.0, 9.0, 36.0, 84.0, 126.0, 126.0, 84.0, 36.0, 9.0, 1.0]\n",
      "[1.0, 10.0, 45.0, 120.0, 210.0, 252.0, 210.0, 120.0, 45.0, 10.0, 1.0]\n"
     ]
    }
   ],
   "source": [
    "print(\"haremos una función renglon que guarde el renglon bla  bla\")\n",
    "def renglon(n):\n",
    "    lista=[]\n",
    "    for k in range(0, n+1):\n",
    "        lista.append(binomial(n,k))\n",
    "    return lista\n",
    "for i in range(11):\n",
    "    print(renglon(i))"
   ]
  },
  {
   "cell_type": "markdown",
   "metadata": {},
   "source": [
    "# Listas"
   ]
  },
  {
   "cell_type": "code",
   "execution_count": null,
   "metadata": {},
   "outputs": [],
   "source": [
    "n=int(input(\"Que dimension tiene tu arreglo?\"))\n",
    "A=[]\n",
    "#hacemos un arreglo de nxn de ceros\n",
    "print([0]*3)\n",
    "for i in range(n):\n",
    "    A.append([0]*n)\n",
    "print(A)\n",
    "#luego , pedimos elemento por elemento\n",
    "for i in range(n):#pedimos renglones\n",
    "    for j in range(n): #pedimos columnas\n",
    "        A[i][j]=int(input(\"da el elemento (%d,%d)\"%(i,j))) \n",
    "print(A)"
   ]
  },
  {
   "cell_type": "code",
   "execution_count": 3,
   "metadata": {},
   "outputs": [],
   "source": [
    "def matriz(m,n):\n",
    "    A=[]\n",
    "    for i in range(n):\n",
    "        A.append([0] * n)\n",
    "        for i in range(m):\n",
    "            for j in range(n): \n",
    "                A[i][j]=float(input(\"da el elemento [%d,%d]=\\t%()\")) \n",
    "    return(A)\n",
    "\n",
    "    \n",
    "    "
   ]
  },
  {
   "cell_type": "code",
   "execution_count": null,
   "metadata": {},
   "outputs": [],
   "source": [
    "matriz(2,4)"
   ]
  },
  {
   "cell_type": "code",
   "execution_count": 6,
   "metadata": {},
   "outputs": [
    {
     "name": "stdout",
     "output_type": "stream",
     "text": [
      "[[1 2 3]\n",
      " [4 5 6]]\n",
      "primer elemento del arreglo 1\n"
     ]
    }
   ],
   "source": [
    "from numpy import * \n",
    "arreglo2=array([[1,2,3],[4,5,6]],int)\n",
    "print(arreglo2)\n",
    "print(\"primer elemento del arreglo\", arreglo2[0,0])"
   ]
  },
  {
   "cell_type": "markdown",
   "metadata": {},
   "source": [
    "#### la funcion array crea un arreglo de listas especificando que tipo de variables se tienen"
   ]
  },
  {
   "cell_type": "code",
   "execution_count": 23,
   "metadata": {},
   "outputs": [],
   "source": [
    "import numpy as np\n",
    "def transpuesta(A):\n",
    "    n=len(A)\n",
    "    m=len(A[0])\n",
    "    B=np.zeros((m,n))  #Se crea el espacio de la matriz, esta ya tiene las dimensiones de la Matriz transpuesta\n",
    "    for i in range(n):\n",
    "        for j in range(m):\n",
    "            B[j][i]=A[i][j] #Aquí se llena la matrz\n",
    "            #B[i,j] = A[j,i]\n",
    "    return(B)\n",
    "    \n"
   ]
  },
  {
   "cell_type": "code",
   "execution_count": 21,
   "metadata": {},
   "outputs": [],
   "source": [
    "H=[[1,2,3],[4,5,6],[7,8,9]]\n"
   ]
  },
  {
   "cell_type": "code",
   "execution_count": 22,
   "metadata": {},
   "outputs": [
    {
     "data": {
      "text/plain": [
       "array([[1., 4., 7.],\n",
       "       [2., 5., 8.],\n",
       "       [3., 6., 9.]])"
      ]
     },
     "execution_count": 22,
     "metadata": {},
     "output_type": "execute_result"
    }
   ],
   "source": [
    "transpuesta(H)"
   ]
  },
  {
   "cell_type": "markdown",
   "metadata": {},
   "source": [
    "#### Conjugado de un número complejo\n",
    "\n",
    "$z = 1 + 1j$"
   ]
  },
  {
   "cell_type": "code",
   "execution_count": 25,
   "metadata": {},
   "outputs": [],
   "source": [
    "from cmath import *\n",
    "def conjugado(A):\n",
    "    n=len(A)\n",
    "    m=len(A[0])\n",
    "    B=zeros([m,n],complex) #creamos el espacio en la memoria\n",
    "    for i in range(m):\n",
    "            B[i,j]=A[i,j]*(-1j)  #-1j python lo lee como un número complejo, la unidad compleja\n",
    "    return(B)\n",
    "\n",
    "A=array([[1+1j,1+1j] , [1+1j,1+1j]] )"
   ]
  },
  {
   "cell_type": "markdown",
   "metadata": {},
   "source": [
    "### Tiempo de cómputo\n"
   ]
  },
  {
   "cell_type": "code",
   "execution_count": 57,
   "metadata": {},
   "outputs": [
    {
     "name": "stdout",
     "output_type": "stream",
     "text": [
      "[[11. 11. 11. 11. 11. 11. 11. 11. 11. 11.]\n",
      " [11. 11. 11. 11. 11. 11. 11. 11. 11. 11.]\n",
      " [11. 11. 11. 11. 11. 11. 11. 11. 11. 11.]\n",
      " [11. 11. 11. 11. 11. 11. 11. 11. 11. 11.]\n",
      " [11. 11. 11. 11. 11. 11. 11. 11. 11. 11.]\n",
      " [11. 11. 11. 11. 11. 11. 11. 11. 11. 11.]\n",
      " [11. 11. 11. 11. 11. 11. 11. 11. 11. 11.]\n",
      " [11. 11. 11. 11. 11. 11. 11. 11. 11. 11.]\n",
      " [11. 11. 11. 11. 11. 11. 11. 11. 11. 11.]\n",
      " [11. 11. 11. 11. 11. 11. 11. 11. 11. 11.]]\n",
      "0.003448486328125\n"
     ]
    }
   ],
   "source": [
    "from numpy import *\n",
    "import time \n",
    "t0=time.time()\n",
    "A=ones([10,10])\n",
    "B=ones([10,10])\n",
    "C=ones([10,10])\n",
    "for i in range(10):\n",
    "    for j in range(10):\n",
    "        for k in range(10):\n",
    "            C[i,j]+=A[i,k]*B[k,j]\n",
    "print(C)\n",
    "print(time.time()-t0)"
   ]
  },
  {
   "cell_type": "code",
   "execution_count": 56,
   "metadata": {},
   "outputs": [
    {
     "name": "stdout",
     "output_type": "stream",
     "text": [
      "Number of processors:  16\n"
     ]
    }
   ],
   "source": [
    "import multiprocessing as mp\n",
    "print(\"Number of processors: \", mp.cpu_count())"
   ]
  },
  {
   "cell_type": "markdown",
   "metadata": {},
   "source": [
    "#### Primer algoritmo, ecuaciones de 1er grado\n",
    "\n",
    "$\\vec{A}\\cdot \\vec{x} = \\vec{v}$"
   ]
  },
  {
   "cell_type": "code",
   "execution_count": 54,
   "metadata": {},
   "outputs": [],
   "source": [
    "A = array[[4,-1,-1,-1]\n",
    "          [-1, 0, 3,0]\n",
    "          [-1, 3,0,-1]\n",
    "          [-1,-1,0,-1],float]\n",
    "v=array[[5,5,0,0],float]\n",
    "N = len(v)\n",
    "#escalonamos\n",
    "for i in range(N): #recorro los renglones\n",
    "    div = A[m,m] #hago \"unos\" en la diagonal\n",
    "    A[m,:] /= div\n",
    "    v[m] /= div\n",
    "    \n",
    "    \n",
    "    for i in range(m+1,N):\n",
    "        mult = A[i,m]  #multiplico \n",
    "        A[i,:] -= mult*A[m,:]\n",
    "        v[i] -= mult*v[m]\n",
    "        \n",
    "x=empty(N,float)\n",
    "for m in range(N-1,-1,-1): # de abajo hacia rriba\n",
    "    x[m] = v[m]\n",
    "    for i in range(m+1,N): #\n",
    "        x[m] -= A[m,i]*x[i]"
   ]
  },
  {
   "cell_type": "code",
   "execution_count": null,
   "metadata": {},
   "outputs": [],
   "source": []
  }
 ],
 "metadata": {
  "kernelspec": {
   "display_name": "Python",
   "language": "python",
   "name": "conda-env-python-py"
  },
  "language_info": {
   "codemirror_mode": {
    "name": "ipython",
    "version": 3
   },
   "file_extension": ".py",
   "mimetype": "text/x-python",
   "name": "python",
   "nbconvert_exporter": "python",
   "pygments_lexer": "ipython3",
   "version": "3.6.7"
  }
 },
 "nbformat": 4,
 "nbformat_minor": 4
}
