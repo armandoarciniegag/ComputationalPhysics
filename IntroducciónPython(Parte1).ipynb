{
 "cells": [
  {
   "cell_type": "markdown",
   "metadata": {},
   "source": [
    "# Introducción a Python"
   ]
  },
  {
   "cell_type": "markdown",
   "metadata": {},
   "source": [
    "Python es un lenguaje de programación de alto nivel, orientado a objetos. Desarrollado a finales de los años 80's por Guido Van Rossum (Van Rossum se hace llamar BDFL \"Benevolent Dictator for Life\" siguiendo la broma de Monty Python). Es uno de los lenguajes más usados en el ámbito científico: Fortran, C, Matlab, Python, Julia, Matematica  (http://flow.byu.edu/posts/sci-prog-lang, https://www.quora.com/Which-programming-language-should-I-learn-for-scientific-computing). También es uno de los lenguajes de programación más solicitados en el ámbito laboral (https://www.codingdojo.com/blog/7-most-in-demand-programming-languages-of-2018/, https://stackify.com/popular-programming-languages-2018/)\n",
    "\n",
    "Características:\n",
    "\n",
    "1. No se compila a lenguaje máquina, se ejecuta en un intérprete.\n",
    "    \n",
    "2. Genera códigos más cortos y limpios que otros lenguajes de programación. Es un buen lenguaje para empezar a programar.\n",
    "\n",
    "3. Es software libre. Cumple con las 4 libertades: (i) Libertad de ser usado. (ii) Libertad de ser modificado. (iii) Libertad de ser compartido. (iv) Libertad de ser modificado y compartido.\n",
    "\n",
    "4. Es multiplataformas. Hay editores de Python para Windows, Linux, Mac y Android. Además de que puede ser ejecutado en línea.\n",
    "\n",
    "5. Fácil de Instalar.\n",
    "\n",
    "6. Hereda características de C y Matlab."
   ]
  },
  {
   "cell_type": "markdown",
   "metadata": {},
   "source": [
    "Compilador versus intérprete: \n",
    "    \n",
    "Compilador: \"Traduce un lenguaje a otro lenguaje\" e.g. Fortran --> lenguaje máquina o compila --> ejecuta\n",
    "\n",
    "Intérprete: \"Traduce un lenguaje a binario de la máquina\" e.g. Python --> ejecuta"
   ]
  },
  {
   "cell_type": "markdown",
   "metadata": {},
   "source": [
    "Actualmente, Python es muy usado Google, Yahoo, CERN, Nasa y en todo lo que es Ciencia de Datos. Esto se debe a que tiene una curva de aprendizaje pequeña"
   ]
  },
  {
   "cell_type": "markdown",
   "metadata": {},
   "source": [
    "## Operaciones Binarias\n",
    "\n",
    "+, -, *, /, // (División de piso: división que resulta en un número entero ajustado a la izquierda en la recta numérica), \n",
    "% (regresa el residuo de la división), **"
   ]
  },
  {
   "cell_type": "markdown",
   "metadata": {},
   "source": [
    "##    Variables"
   ]
  },
  {
   "cell_type": "markdown",
   "metadata": {},
   "source": [
    "En todos los lenguajes de programación, el nombre de las variables representan un valor dado alojado en la memoria. El valor puede cambiar, pero no el tipo de variable. Sin embargo, esto no pasa en Python ya que las variables son dinámicas."
   ]
  },
  {
   "cell_type": "code",
   "execution_count": 31,
   "metadata": {},
   "outputs": [],
   "source": [
    "b=2  #variable entera"
   ]
  },
  {
   "cell_type": "code",
   "execution_count": 32,
   "metadata": {},
   "outputs": [
    {
     "data": {
      "text/plain": [
       "int"
      ]
     },
     "execution_count": 32,
     "metadata": {},
     "output_type": "execute_result"
    }
   ],
   "source": [
    "type(b) #la función type nos dice de que tipo es la variable b"
   ]
  },
  {
   "cell_type": "code",
   "execution_count": 33,
   "metadata": {},
   "outputs": [],
   "source": [
    "b=b*2.0 #cambiamos dinámicamente el valor de la variable y el tipo"
   ]
  },
  {
   "cell_type": "code",
   "execution_count": 34,
   "metadata": {},
   "outputs": [
    {
     "data": {
      "text/plain": [
       "float"
      ]
     },
     "execution_count": 34,
     "metadata": {},
     "output_type": "execute_result"
    }
   ],
   "source": [
    "type(b)"
   ]
  },
  {
   "cell_type": "markdown",
   "metadata": {},
   "source": [
    "Tipo de variables:\n",
    "\n",
    "-Enteras \"Integer\" --- int( )\n",
    "\n",
    "-Flotantes \"Float\" --- float ( )\n",
    "\n",
    "-Cadena de Caracteres \"String\" --- str( )\n",
    "\n",
    "-Booleanas:  True; False"
   ]
  },
  {
   "cell_type": "markdown",
   "metadata": {},
   "source": [
    "Con = asignamos el valor a una variable (Creamos en la memoria la variable), con == hacemos la comparación de dos cosas (idéntico a ). Nótese que = no es una operación simétrica. No existe 5=x"
   ]
  },
  {
   "cell_type": "code",
   "execution_count": 35,
   "metadata": {},
   "outputs": [
    {
     "name": "stdout",
     "output_type": "stream",
     "text": [
      "3.3333333333333335 0.3 3 0\n"
     ]
    }
   ],
   "source": [
    "print(10/3,3/10,10//3,3//10) #//parte entera de la división"
   ]
  },
  {
   "cell_type": "code",
   "execution_count": 36,
   "metadata": {},
   "outputs": [
    {
     "name": "stdout",
     "output_type": "stream",
     "text": [
      "1 3\n"
     ]
    }
   ],
   "source": [
    "print(10%3,3%10) #el residuo de la operación"
   ]
  },
  {
   "cell_type": "markdown",
   "metadata": {},
   "source": [
    "### Asignación de múltiples variables simultáneas"
   ]
  },
  {
   "cell_type": "code",
   "execution_count": 37,
   "metadata": {},
   "outputs": [],
   "source": [
    "x,y,z=1,2,3.0"
   ]
  },
  {
   "cell_type": "code",
   "execution_count": 38,
   "metadata": {},
   "outputs": [
    {
     "name": "stdout",
     "output_type": "stream",
     "text": [
      "1\n",
      "2\n",
      "3.0\n"
     ]
    }
   ],
   "source": [
    "print(x)\n",
    "print(y)\n",
    "print(z)"
   ]
  },
  {
   "cell_type": "markdown",
   "metadata": {},
   "source": [
    "### Identificadores (Identifiers):"
   ]
  },
  {
   "cell_type": "markdown",
   "metadata": {},
   "source": [
    "Secuencia de letras idéntificadas por Python para llevar a cabo una función. No se pueden usar como nombre de variables (e.g. and, or, for, while, del, append, ...)"
   ]
  },
  {
   "cell_type": "markdown",
   "metadata": {},
   "source": [
    "Python distingue entre mayúsculas y minúsculas"
   ]
  },
  {
   "cell_type": "code",
   "execution_count": 39,
   "metadata": {},
   "outputs": [
    {
     "name": "stdout",
     "output_type": "stream",
     "text": [
      "3.141592653589793\n"
     ]
    }
   ],
   "source": [
    "print(pi)"
   ]
  },
  {
   "cell_type": "code",
   "execution_count": 40,
   "metadata": {},
   "outputs": [
    {
     "name": "stdout",
     "output_type": "stream",
     "text": [
      "3.141592653589793\n",
      "3.141592653589793115997963468544185161590576171875\n"
     ]
    }
   ],
   "source": [
    "from math import pi\n",
    "print(pi)\n",
    "#Si queremos más valores de pi, importamos el módulo decimal\n",
    "from decimal import Decimal\n",
    "print(Decimal(pi))"
   ]
  },
  {
   "cell_type": "markdown",
   "metadata": {},
   "source": [
    "### Notación Cientifica"
   ]
  },
  {
   "cell_type": "code",
   "execution_count": 41,
   "metadata": {},
   "outputs": [
    {
     "name": "stdout",
     "output_type": "stream",
     "text": [
      "El numero de avogadro es 6.022e+23\n",
      "Velocidad de la Luz = 299800000.0\n"
     ]
    }
   ],
   "source": [
    "numero_avogadro = 6.022e23\n",
    "c = 2.998E8\n",
    "print(\"El numero de avogadro es\", numero_avogadro)\n",
    "print(\"Velocidad de la Luz =\", c)"
   ]
  },
  {
   "cell_type": "markdown",
   "metadata": {},
   "source": [
    "###     Cadena de Caracteres (String) "
   ]
  },
  {
   "cell_type": "markdown",
   "metadata": {},
   "source": [
    "Las cadenas son secuencias de caracteres que están entre dos comillas o una comilla."
   ]
  },
  {
   "cell_type": "code",
   "execution_count": 42,
   "metadata": {},
   "outputs": [],
   "source": [
    "cadena1='Hola '"
   ]
  },
  {
   "cell_type": "code",
   "execution_count": 43,
   "metadata": {},
   "outputs": [],
   "source": [
    "cadena2='a todos'"
   ]
  },
  {
   "cell_type": "markdown",
   "metadata": {},
   "source": [
    "Con estas dos cadenas hacemos la acción de concaternar (Pegar el inicio de una cadena al final de la otra)."
   ]
  },
  {
   "cell_type": "code",
   "execution_count": 44,
   "metadata": {},
   "outputs": [
    {
     "name": "stdout",
     "output_type": "stream",
     "text": [
      "Hola a todos\n"
     ]
    }
   ],
   "source": [
    "print(cadena1+cadena2)"
   ]
  },
  {
   "cell_type": "markdown",
   "metadata": {},
   "source": [
    "Puedo seleccionar lo que quiero que aparezca (cortar selectivamente)"
   ]
  },
  {
   "cell_type": "code",
   "execution_count": 45,
   "metadata": {},
   "outputs": [
    {
     "name": "stdout",
     "output_type": "stream",
     "text": [
      "a t\n"
     ]
    }
   ],
   "source": [
    "print(cadena2[0:3])"
   ]
  },
  {
   "cell_type": "markdown",
   "metadata": {},
   "source": [
    "Las cadenas son inmutables"
   ]
  },
  {
   "cell_type": "code",
   "execution_count": 46,
   "metadata": {},
   "outputs": [
    {
     "data": {
      "text/plain": [
       "'Hola'"
      ]
     },
     "execution_count": 46,
     "metadata": {},
     "output_type": "execute_result"
    }
   ],
   "source": [
    "s='hola'\n",
    "s.capitalize()"
   ]
  },
  {
   "cell_type": "code",
   "execution_count": 47,
   "metadata": {},
   "outputs": [
    {
     "data": {
      "text/plain": [
       "'python'"
      ]
     },
     "execution_count": 47,
     "metadata": {},
     "output_type": "execute_result"
    }
   ],
   "source": [
    "\"Python\".lower()"
   ]
  },
  {
   "cell_type": "code",
   "execution_count": 48,
   "metadata": {},
   "outputs": [
    {
     "data": {
      "text/plain": [
       "'PYTHON'"
      ]
     },
     "execution_count": 48,
     "metadata": {},
     "output_type": "execute_result"
    }
   ],
   "source": [
    "\"python\".upper()"
   ]
  },
  {
   "cell_type": "code",
   "execution_count": 49,
   "metadata": {},
   "outputs": [
    {
     "data": {
      "text/plain": [
       "'Mi clasede Física Computacional'"
      ]
     },
     "execution_count": 49,
     "metadata": {},
     "output_type": "execute_result"
    }
   ],
   "source": [
    "\"Mi clase\" + \"de\" +\" \"+ \"Física Computacional\""
   ]
  },
  {
   "cell_type": "code",
   "execution_count": 50,
   "metadata": {},
   "outputs": [
    {
     "data": {
      "text/plain": [
       "'Física Computacional Física Computacional Física Computacional '"
      ]
     },
     "execution_count": 50,
     "metadata": {},
     "output_type": "execute_result"
    }
   ],
   "source": [
    "3*(\"Física Computacional\"+\" \")"
   ]
  },
  {
   "cell_type": "markdown",
   "metadata": {},
   "source": [
    "## Función input()"
   ]
  },
  {
   "cell_type": "code",
   "execution_count": 51,
   "metadata": {},
   "outputs": [
    {
     "name": "stdout",
     "output_type": "stream",
     "text": [
      "Introduce cualquier texto:\n",
      "6yu\n",
      "El texto que introdujiste fue: 6yu\n",
      "El tipo de variable que genera x es: <class 'str'>\n"
     ]
    }
   ],
   "source": [
    "print('Introduce cualquier texto:')\n",
    "x = input()\n",
    "print('El texto que introdujiste fue:', x)\n",
    "print('El tipo de variable que genera x es:', type(x))"
   ]
  },
  {
   "cell_type": "markdown",
   "metadata": {},
   "source": [
    "Acortamos el pequeño programa anterior, juntando el primer print con el input de la segunda línea"
   ]
  },
  {
   "cell_type": "code",
   "execution_count": 53,
   "metadata": {},
   "outputs": [
    {
     "name": "stdout",
     "output_type": "stream",
     "text": [
      "Introduce cualquier texto:gkfjk\n",
      "El texto que introdujiste fue: gkfjk\n",
      "El tipo de variable que genera x es: <class 'str'>\n"
     ]
    }
   ],
   "source": [
    "x =input('Introduce cualquier texto:')\n",
    "print('El texto que introdujiste fue:', x)\n",
    "print('El tipo de variable que genera x es:', type(x))"
   ]
  },
  {
   "cell_type": "markdown",
   "metadata": {},
   "source": [
    "Modifiquemos el programa para que reciba un número real (flotante)"
   ]
  },
  {
   "cell_type": "code",
   "execution_count": 54,
   "metadata": {},
   "outputs": [
    {
     "name": "stdout",
     "output_type": "stream",
     "text": [
      "Da un numero real5\n",
      "El texto que introdujiste fue: 5.0\n",
      "El tipo de variable que genera x es: <class 'float'>\n"
     ]
    }
   ],
   "source": [
    "x=float(input('Da un numero real'))\n",
    "print('El texto que introdujiste fue:', x)\n",
    "print('El tipo de variable que genera x es:', type(x))"
   ]
  },
  {
   "cell_type": "code",
   "execution_count": 56,
   "metadata": {},
   "outputs": [
    {
     "name": "stdout",
     "output_type": "stream",
     "text": [
      "Da un numero entero 4\n",
      "El texto que introdujiste fue: 4\n",
      "El tipo de variable que genera x es: <class 'int'>\n"
     ]
    }
   ],
   "source": [
    "#Ahora que reciba un número entero\n",
    "x=int(input('Da un numero entero '))\n",
    "print('El texto que introdujiste fue:', x)\n",
    "print('El tipo de variable que genera x es:', type(x))"
   ]
  },
  {
   "cell_type": "markdown",
   "metadata": {},
   "source": [
    "# Listas"
   ]
  },
  {
   "cell_type": "markdown",
   "metadata": {},
   "source": [
    "Las listas son un elemento muy socorrido en el cómputo científico, ya que son usadas para representar vectores. Definimos a una lista como un elemento en la memoria con sub-elementos ordenados."
   ]
  },
  {
   "cell_type": "code",
   "execution_count": 13,
   "metadata": {},
   "outputs": [
    {
     "name": "stdout",
     "output_type": "stream",
     "text": [
      "[1, 2, 3, 4, 5]\n"
     ]
    }
   ],
   "source": [
    "temp=[1,2,3,4,5]\n",
    "print(temp)"
   ]
  },
  {
   "cell_type": "code",
   "execution_count": 58,
   "metadata": {},
   "outputs": [
    {
     "name": "stdout",
     "output_type": "stream",
     "text": [
      "el primer elemento es 1\n",
      "el segundo elemento es 2\n",
      "el último elemento es 5\n"
     ]
    }
   ],
   "source": [
    "print('el primer elemento es',temp[0])\n",
    "print('el segundo elemento es',temp[1])\n",
    "print('el último elemento es',temp[-1])"
   ]
  },
  {
   "cell_type": "code",
   "execution_count": 26,
   "metadata": {},
   "outputs": [],
   "source": [
    "lista_1=[]"
   ]
  },
  {
   "cell_type": "markdown",
   "metadata": {},
   "source": [
    "llenaremos la lista_1 con los primeros 10 números naturales. Para hacer esto de manera eficiente, usaremos un ciclo for (una estructura de control que hace una operacion n-veces)"
   ]
  },
  {
   "cell_type": "code",
   "execution_count": 15,
   "metadata": {},
   "outputs": [
    {
     "name": "stdout",
     "output_type": "stream",
     "text": [
      "[0]\n",
      "[0, 1]\n",
      "[0, 1, 2]\n",
      "[0, 1, 2, 3]\n",
      "[0, 1, 2, 3, 4]\n",
      "[0, 1, 2, 3, 4, 5]\n",
      "[0, 1, 2, 3, 4, 5, 6]\n",
      "[0, 1, 2, 3, 4, 5, 6, 7]\n",
      "[0, 1, 2, 3, 4, 5, 6, 7, 8]\n",
      "[0, 1, 2, 3, 4, 5, 6, 7, 8, 9]\n"
     ]
    }
   ],
   "source": [
    "lista_1=[]\n",
    "for contador in range(0,10):\n",
    "    lista_1.append(contador)\n",
    "    print(lista_1)"
   ]
  },
  {
   "cell_type": "code",
   "execution_count": 16,
   "metadata": {},
   "outputs": [
    {
     "name": "stdout",
     "output_type": "stream",
     "text": [
      "[0, 1, 2, 3, 4, 5, 6, 7, 8, 9, 10]\n"
     ]
    }
   ],
   "source": [
    "lista_1.append(10)\n",
    "print(lista_1)"
   ]
  },
  {
   "cell_type": "markdown",
   "metadata": {},
   "source": [
    "Podemos hacer una lista con elementos que el usuario ingrese (con la función input)"
   ]
  },
  {
   "cell_type": "code",
   "execution_count": 18,
   "metadata": {},
   "outputs": [
    {
     "name": "stdout",
     "output_type": "stream",
     "text": [
      "Da un entero3\n",
      "Da un entero6\n",
      "Da un entero9\n",
      "[3, 6, 9]\n"
     ]
    }
   ],
   "source": [
    "lista_2=[]\n",
    "for contador in range(0,3):\n",
    "    x=int(input('Da un entero'))\n",
    "    lista_2.append(x)\n",
    "print(lista_2) #al terminar la tabulación, terminamos el ciclo."
   ]
  },
  {
   "cell_type": "markdown",
   "metadata": {},
   "source": [
    "Varias notas con el programa anterior. Primero, notar que los elementos de la lista son guardados '4', lo cual indica que son cadenas de caracteres. Si queremos hacer operaciones con estos elementos, tenemos que convertir los elementos a enteros int() o flotantes float(). También podemos mejorar el fórmato de la cadena de caracteres que será imprimida por el input. Para esto usaremos el operador %, que es:\n",
    "\n",
    "%d   ---- enteros\n",
    "                \n",
    "%f   ---- flotantes\n",
    "                \n",
    "%s   ---- cadenas\n",
    "                \n",
    "En general, la sintaxis de % es la siguiente:"
   ]
  },
  {
   "cell_type": "code",
   "execution_count": 60,
   "metadata": {},
   "outputs": [
    {
     "name": "stdout",
     "output_type": "stream",
     "text": [
      "Imprimimos el primer entero 4, luego un flotante 4.000000 y al último un hola\n"
     ]
    }
   ],
   "source": [
    "print('Imprimimos el primer entero %d, luego un flotante %f y al último un %s' %(4,4.0,'hola'))"
   ]
  },
  {
   "cell_type": "markdown",
   "metadata": {},
   "source": [
    "También podemos preguntarle al usuario el tamaño de la lista y poner este valor en el rango en el que corre el ciclo for"
   ]
  },
  {
   "cell_type": "code",
   "execution_count": 19,
   "metadata": {},
   "outputs": [
    {
     "name": "stdout",
     "output_type": "stream",
     "text": [
      "Cual es la dimensión de tu lista3\n",
      "Da el 0-ésimo valor de la lista1\n",
      "Da el 1-ésimo valor de la lista2\n",
      "Da el 2-ésimo valor de la lista3\n",
      "[1.0, 2.0, 3.0]\n"
     ]
    }
   ],
   "source": [
    "lista_2=[]\n",
    "n=int(input('Cual es la dimensión de tu lista'))\n",
    "for contador in range(0,n):\n",
    "    x=float(input('Da el %d-ésimo valor de la lista'%contador))\n",
    "    lista_2.append(x)\n",
    "print(lista_2)"
   ]
  },
  {
   "cell_type": "markdown",
   "metadata": {},
   "source": [
    "Podemos hacer bucles con elementos que son de tipo string"
   ]
  },
  {
   "cell_type": "code",
   "execution_count": 42,
   "metadata": {},
   "outputs": [
    {
     "name": "stdout",
     "output_type": "stream",
     "text": [
      "El animal es: gato con 4 numero de letras\n",
      "El animal es: perro con 5 numero de letras\n",
      "El animal es: serpiente con 9 numero de letras\n"
     ]
    }
   ],
   "source": [
    "#Ejemplo:\n",
    "animales = ['gato', 'perro', 'serpiente']\n",
    "for animal in animales:\n",
    "    print(\"El animal es:\", animal, \"con %d numero de letras\" %len(animal))"
   ]
  },
  {
   "cell_type": "code",
   "execution_count": 25,
   "metadata": {},
   "outputs": [
    {
     "name": "stdout",
     "output_type": "stream",
     "text": [
      "Dame una p \n",
      " P\n",
      "Dame una u \n",
      " U\n",
      "Dame una m \n",
      " M\n",
      "Dame una a \n",
      " A\n",
      "Dame una s \n",
      " S\n"
     ]
    }
   ],
   "source": [
    "for x in \"pumas\":\n",
    "    print(\"Dame una %s \\n %s\"%(x,x.upper()))"
   ]
  },
  {
   "cell_type": "code",
   "execution_count": 24,
   "metadata": {},
   "outputs": [
    {
     "name": "stdout",
     "output_type": "stream",
     "text": [
      "La oración analizada es: Luis entiende muy bien Python .\t\n",
      "Palabra: Luis, en la frase su posición es: 0\n",
      "Palabra: entiende, en la frase su posición es: 1\n",
      "Palabra: muy, en la frase su posición es: 2\n",
      "Palabra: bien, en la frase su posición es: 3\n",
      "Palabra: Python, en la frase su posición es: 4\n"
     ]
    }
   ],
   "source": [
    "oracion = 'Luis entiende muy bien Python'\n",
    "frases = oracion.split() # convierte a una lista cada palabra\n",
    "print (\"La oración analizada es:\", oracion, \".\\t\")\n",
    "for palabra in range(len(frases)):\n",
    "    print(\"Palabra: %s, en la frase su posición es: %d\"%(frases[palabra], palabra))"
   ]
  },
  {
   "cell_type": "markdown",
   "metadata": {},
   "source": [
    "Analiza bien cada elemento del programa anterior.\n",
    "\n",
    "1. ¿Qué hace split?\n",
    "2. ¿Cómo es frases?\n",
    "3. ¿Qué hace len(frases)?\n",
    "4. ¿Qué regresa frases[palabra]?"
   ]
  },
  {
   "cell_type": "markdown",
   "metadata": {},
   "source": [
    "Ejercicio: Haz una lista que guarde los primeros 100 elementos de la sumatoria $$\\sum_{i=0}^{100} i$$"
   ]
  },
  {
   "cell_type": "code",
   "execution_count": null,
   "metadata": {},
   "outputs": [],
   "source": [
    "# Aquí va tu ejercicio"
   ]
  },
  {
   "cell_type": "code",
   "execution_count": null,
   "metadata": {},
   "outputs": [],
   "source": [
    "Ejercicio: Haz el promedio de los elementos de una lista dada por el usuario."
   ]
  },
  {
   "cell_type": "code",
   "execution_count": null,
   "metadata": {},
   "outputs": [],
   "source": [
    "# Aquí va tu ejercicio"
   ]
  },
  {
   "cell_type": "markdown",
   "metadata": {},
   "source": [
    "### Funcion range\n",
    "La función range recibe un paso inicial, paso final y tamaño de paso.\n",
    "\n",
    "La sintaxis es:\n",
    "\n",
    "range(paso_inicial, paso_final,tamaño_paso)"
   ]
  },
  {
   "cell_type": "code",
   "execution_count": 27,
   "metadata": {},
   "outputs": [
    {
     "name": "stdout",
     "output_type": "stream",
     "text": [
      "range(10, 40, 5)\n",
      "10\n",
      "15\n",
      "20\n",
      "25\n",
      "30\n",
      "35\n"
     ]
    }
   ],
   "source": [
    "lista=range(10,40,5)\n",
    "print(lista)\n",
    "for i in lista:\n",
    "    print(i)"
   ]
  },
  {
   "cell_type": "markdown",
   "metadata": {},
   "source": [
    "Si quiero usar un rango de valores que sean flotantes. Yo no uso range, sino uso la función arange que está en la librería numpy"
   ]
  },
  {
   "cell_type": "code",
   "execution_count": 61,
   "metadata": {},
   "outputs": [
    {
     "name": "stdout",
     "output_type": "stream",
     "text": [
      "[0.1 0.2 0.3 0.4 0.5 0.6 0.7 0.8 0.9 1.  1.1 1.2 1.3 1.4 1.5 1.6 1.7 1.8\n",
      " 1.9 2.  2.1]\n"
     ]
    }
   ],
   "source": [
    "from numpy import *\n",
    "lista=arange(0.1,2.2,0.1)\n",
    "print(lista)"
   ]
  }
 ],
 "metadata": {
  "kernelspec": {
   "display_name": "Python",
   "language": "python",
   "name": "conda-env-python-py"
  },
  "language_info": {
   "codemirror_mode": {
    "name": "ipython",
    "version": 3
   },
   "file_extension": ".py",
   "mimetype": "text/x-python",
   "name": "python",
   "nbconvert_exporter": "python",
   "pygments_lexer": "ipython3",
   "version": "3.6.7"
  }
 },
 "nbformat": 4,
 "nbformat_minor": 4
}
