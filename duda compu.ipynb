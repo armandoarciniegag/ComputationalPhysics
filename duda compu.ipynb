{
 "cells": [
  {
   "cell_type": "code",
   "execution_count": null,
   "metadata": {},
   "outputs": [],
   "source": [
    "#%load_ext glowscript \n",
    "#%%GlowScript 3.2 VPython\n",
    "\n",
    "from vpython import *\n",
    "h = 1.0/365.0\n",
    "m = 1.0/332946.0\n",
    "ep = 0.017\n",
    "T = 1.0\n",
    "pi=3.141592653589\n",
    "\n",
    "\n",
    "G = 4.0*pi*pi\n",
    "k = G*m\n",
    "E = -pow(pi*pi*k*k*m/2.0/T/T,1.0/3.0)\n",
    "L2 = m*k*k*(ep*ep-1)/2.0/E\n",
    "rmin = L2/(1+ep)/m/k\n",
    "\n",
    "x1=rmin\n",
    "y1 = 0.0\n",
    "vx = 0.0\n",
    "vy = np.sqrt(2/m*(E+k/rmin))\n",
    "display(range=1.2)\n",
    "Tiempo = label(pos=vec(0,0.65,0), color=color.green,height = 16,text='t = 0.000', box=False)\n",
    "Sol = sphere(pos=vec(0,0,0), radius=0.1, color=color.yellow)\n",
    "Tierra = sphere(pos=vec(x1,y1,0), radius=0.05, color=color.blue,make_trail=True)\n",
    "\n",
    "def fx(x,y):\n",
    "    r3=pow(x*x+y*y,1.5)\n",
    "    return(-G/r3*x)\n",
    "\n",
    "def fy(x,y):\n",
    "    r3=pow(x*x+y*y,1.5)\n",
    "    return(-G/r3*y)\n",
    "\n",
    "x0=x1-vx*h+h*h*fx(x1,y1)/2\n",
    "y0=y1-vy*h+h*h*fy(x1,y1)/2\n",
    "\n",
    "for t in range(366):\n",
    "    rate(50)\n",
    "    x2=2*x1-x0+h*h*fx(x1,y1)\n",
    "    y2=2*y1-y0+h*h*fy(x1,y1)\n",
    "    Tierra.pos=vec(x2,y2,0)\n",
    "    S = str(t*h)[0:5]\n",
    "    Tiempo.text='t = ' + S\n",
    "    sleep(0.1)\n",
    "    print ('t = ',S, ', x = ',x2,', y = ',y2)\n",
    "    x0 = x1; x1 = x2\n",
    "    y0 = y1; y1 = y2"
   ]
  }
 ],
 "metadata": {
  "kernelspec": {
   "display_name": "Python 3",
   "language": "python",
   "name": "python3"
  },
  "language_info": {
   "codemirror_mode": {
    "name": "ipython",
    "version": 3
   },
   "file_extension": ".py",
   "mimetype": "text/x-python",
   "name": "python",
   "nbconvert_exporter": "python",
   "pygments_lexer": "ipython3",
   "version": "3.7.6"
  }
 },
 "nbformat": 4,
 "nbformat_minor": 4
}
